{
 "cells": [
  {
   "cell_type": "code",
   "execution_count": null,
   "metadata": {},
   "outputs": [],
   "source": [
    "#Instead of using beautifulsoup to scrap wikipedia webpage, I found out that using library called wikipedia is much easier to scrap data. "
   ]
  },
  {
   "cell_type": "code",
   "execution_count": 1,
   "metadata": {},
   "outputs": [],
   "source": [
    "import wikipedia #I already pip install wikipedia library on my desktop"
   ]
  },
  {
   "cell_type": "code",
   "execution_count": 2,
   "metadata": {},
   "outputs": [
    {
     "output_type": "stream",
     "name": "stdout",
     "text": "This is a complete listing of the suburbs and localities in the greater Sydney area in alphabetical order.\nSydney has about 38 local government areas, each consisting of several suburbs (suburbs in Australia are purely geographical, not political, divisions).  See table below, Category: Suburbs of Sydney and Category: Local government areas in Sydney.\nSuburbs are listed here if they are inside the Sydney metro area, and are listed in the Geographical Names Register  as being suburbs. For this list, the boundaries of the Sydney metro area are defined as the Hawkesbury/Nepean River in the north/north west, and then the outer boundaries of the City of Penrith, Camden Council, the City of Campbelltown and Sutherland Shire.\nSome but not all Sydney localities are also listed, and localities are shown in italics to differentiate them from suburbs. Further localities may be added if they are on the Geographical Names Register, are inside the Sydney metro area, and are also listed in the \"Suburb and Localities Index\" of the most recent (2019) edition of the Sydney UBD Street Directory.\n\n\n== A ==\nAbbotsbury - \nAbbotsford - \nAcacia Gardens - \nAgnes Banks - \nAirds - \nAlexandria - \nAlfords Point -\nAllambie Heights - \nAllawah - \nAmbarvale - \nAnnandale - \nAnnangrove - \nArcadia - \nArncliffe - \nArndell Park - \nArtarmon - \nAshbury - \nAshcroft - \nAshfield - \nAsquith - \nAuburn -\nAustral - \nAvalon Beach\n\n\n== B ==\nBadgerys Creek - \nBalgowlah - \nBalgowlah Heights - \nBalmain - \nBalmain East - \nBangor - \nBanksia - \nBanksmeadow - \nBankstown - \nBankstown Aerodrome -\nBarangaroo - \nBarden Ridge - \nBardia - \nBardwell Park - \nBardwell Valley - \nBass Hill - \nBaulkham Hills - \nBayview - \nBeacon Hill - \nBeaconsfield - \nBeaumont Hills -\nBeecroft - \nBelfield - \nBella Vista - \nBellevue Hill - \nBelmore - \nBelrose - \nBerala - \nBerkshire Park - \nBerowra - \nBerowra Creek -\nBerowra Heights - \nBerowra Waters - \nBerrilee - \nBeverley Park - \nBeverly Hills - \nBexley - \nBexley North - \nBickley Vale -\nBidwill - \nBilgola Beach - \nBilgola Plateau -\nBirchgrove - \nBirrong - \nBlackett - \nBlacktown - \nBlair Athol -\nBlairmount - \nBlakehurst - \nBligh Park - \nBondi - \nBondi Beach - \nBondi Junction - \nBonnet Bay - \nBonnyrigg - \nBonnyrigg Heights - \nBossley Park - \nBotany - \nBow Bowing - \nBox Hill - \nBradbury - \nBreakfast Point -\nBrighton-Le-Sands - \nBringelly - \nBronte - \nBrooklyn - \nBrookvale - \nBundeena - \nBungarribee -\nBurraneer -\nBurwood - \nBurwood Heights -\nBusby\n\n\n== C ==\nCabarita - \nCabramatta - \nCabramatta West -\nCaddens -\nCambridge Gardens - \nCambridge Park - \nCamden - \nCamden South - \nCamellia - \nCammeray - \nCampbelltown - \nCamperdown - \nCampsie - \nCanada Bay - \nCanley Heights - \nCanley Vale - \nCanoelands -\nCanterbury - \nCaringbah - \nCaringbah South -\nCarlingford - \nCarlton - \nCarnes Hill - \nCarramar -  \nCarss Park - \nCartwright - \nCastle Cove - \nCastle Hill - \nCastlecrag - \nCastlereagh - \nCasula - \nCatherine Field -\nCattai -\nCawdor -\nCecil Hills -\nCecil Park - \nCentennial Park - \nCentral Business District - \nChatswood - \nChatswood West - \nCheltenham - \nCherrybrook - \nChester Hill - \nChifley - \nChippendale - \nChipping Norton - \nChiswick - \nChullora - \nChurch Point -  \nClaremont Meadows - \nClarendon -\nClareville - \nClaymore - \nClemton Park -  \nClontarf - \nClovelly - \nClyde - \nCoasters Retreat - \nCobbitty -\nColebee - \nCollaroy - \nCollaroy Plateau - \nColyton - \nComo - \nConcord - \nConcord West - \nCondell Park - \nConnells Point - \nConstitution Hill - \nCoogee - \nCornwallis - \nCottage Point - \nCowan - \nCranebrook - \nCremorne - \nCremorne Point - \nCromer - \nCronulla - \nCrows Nest - \nCroydon - \nCroydon Park - \nCumberland Reach - \nCurl Curl -\nCurrans Hill -\nCurrawong Beach\n\n\n== D ==\nDaceyville - \nDangar Island - \nDarling Point - \nDarlinghurst - \nDarlington - \nDavidson - \nDawes Point - \nDean Park - \nDee Why - \nDenham Court - \nDenistone - \nDenistone East - \nDenistone West - \nDharruk - \nDolans Bay - \nDolls Point - \nDoonside - \nDouble Bay - \nDover Heights - \nDrummoyne - \nDuffys Forest - \nDulwich Hill - \nDundas - \nDundas Valley - \nDural\n\n\n== E ==\nEagle Vale - \nEarlwood - \nEast Gordon - \nEast Hills - \nEast Killara - \nEast Kurrajong - \nEast Lindfield - \nEast Ryde -\nEastern Creek - \nEastgardens - \nEastlakes - \nEastwood - \nEbenezer - \nEdensor Park - \nEdgecliff - \nEdmondson Park - \nElanora Heights - \nElderslie - \nElizabeth Bay -\nElizabeth Hills -\nEllis Lane - \nElvina Bay -\nEmerton - \nEmu Heights - \nEmu Plains - \nEnfield - \nEngadine - \nEnglorie Park - \nEnmore - \nEpping - \nErmington - \nErskine Park - \nErskineville - \nEschol Park -\nEveleigh\n\n\n== F ==\nFairfield - \nFairfield East - \nFairfield Heights - \nFairfield West - \nFairlight - \nFiddletown - \nFive Dock - \nFlemington - \nForest Glen - \nForest Lodge - \nForestville - \nFreemans Reach - \nFrenchs Forest -\nFreshwater\n\n\n== G ==\nGalston - \nGeorges Hall - \nGilead - \nGirraween - \nGladesville - \nGlebe - \nGledswood Hills - \nGlen Alpine - \nGlendenning - \nGlenfield - \nGlenhaven - \nGlenmore Park - \nGlenorie - \nGlenwood - \nGlossodia - \nGordon - \nGranville - \nGrasmere - \nGrays Point - \nGreat Mackerel Beach -\nGreen Valley - \nGreenacre - \nGreendale - \nGreenfield Park - \nGreenhills Beach -\nGreenwich - \nGregory Hills -\nGreystanes - \nGrose Vale - \nGrose Wold - \nGuildford - \nGuildford West - \nGymea - \nGymea Bay\n\n\n== H ==\nHaberfield - \nHammondville - \nHarrington Park -  \nHarris Park - \nHassall Grove -\nHaymarket - \nHeathcote - \nHebersham - \nHeckenberg - \nHenley - \nHillsdale - \nHinchinbrook - \nHobartville -\nHolroyd -\nHolsworthy - \nHomebush -  \nHomebush West - \nHorningsea Park - \nHornsby - \nHornsby Heights - \nHorsley Park - \nHoxton Park - \nHunters Hill - \nHuntingwood - \nHuntleys Cove - \nHuntleys Point - \nHurlstone Park - \nHurstville - \nHurstville Grove\n\n\n== I ==\nIllawong -\nIngleburn - \nIngleside\n\n\n== J ==\nJamisontown - \nJannali - Jordan Springs\n\n\n== K ==\nKangaroo Point - \nKareela - \nKearns -  \nKellyville - \nKellyville Ridge - \nKemps Creek - \nKensington - \nKenthurst - \nKentlyn - \nKillara - \nKillarney Heights - \nKings Langley - \nKings Park - \nKingsford - \nKingsgrove - \nKingswood - \nKingswood Park - \nKirkham - \nKirrawee - \nKirribilli - \nKogarah - \nKogarah Bay - \nKu-ring-gai Chase - \nKurmond - \nKurnell - \nKurraba Point - \nKurrajong - \nKurrajong Hills - \nKyeemagh - \nKyle Bay\n\n\n== L ==\nLa Perouse - \nLakemba - \nLalor Park - \nLane Cove - \nLane Cove North - \nLane Cove West - \nLansdowne - \nLansvale - \nLaughtondale - \nLavender Bay - \nLeets Vale - \nLeichhardt - \nLen Waters Estate - \nLeonay - \nLeppington - \nLethbridge Park - \nLeumeah - \nLewisham - \nLiberty Grove - \nLidcombe - \nLilli Pilli - \nLilyfield - \nLindfield - \nLinley Point - \nLittle Bay - \nLiverpool - \nLlandilo - \nLoftus - \nLondonderry - \nLong Point - \nLongueville -\nLovett Bay -\nLower Portland -\nLucas Heights -\nLuddenham - \nLugarno - \nLurnea\n\n\n== M ==\nMacquarie Fields - \nMacquarie Links - \nMacquarie Park - \nMaianbar - \nMalabar - \nManly - \nManly Vale - \nMaraylya - \nMarayong - \nMaroota - \nMaroubra - \nMarrickville - \nMarsden Park - \nMarsfield - \nMascot - \nMatraville - \nMays Hill - \nMcCarrs Creek - \nMcGraths Hill - \nMcMahons Point - \nMeadowbank - \nMelrose Park - \nMenai - \nMenangle Park - \nMerrylands - \nMerrylands West - \nMiddle Cove - \nMiddle Dural - \nMiddleton Grange - \nMiller - \nMillers Point - \nMilperra - \nMilsons Passage - \nMilsons Point - \nMinchinbury - \nMinto - \nMinto Heights - \nMiranda - \nMona Vale - \nMonterey - \nMoore Park - \nMoorebank - \nMorning Bay - \nMortdale - \nMortlake - \nMosman - \nMount Annan - \nMount Colah - \nMount Druitt - \nMount Kuring-Gai -  \nMount Lewis - \nMount Pritchard - \nMount Vernon - \nMulgoa - \nMulgrave\n\n\n== N ==\nNarellan Vale - \nNaremburn - \nNarrabeen - \nNarraweena - \nNarwee - \nNelson - \nNeutral Bay - \nNewington - \nNewport - \nNewtown - \nNormanhurst - \nNorth Balgowlah - \nNorth Bondi - \nNorth Curl Curl - \nNorth Epping - \nNorth Kellyville - \nNorth Manly - \nNorth Narrabeen - \nNorth Parramatta - \nNorth Richmond - \nNorth Rocks - \nNorth Ryde - \nNorth St Ives - \nNorth St Marys - \nNorth Strathfield - \nNorth Sydney - \nNorth Turramurra - \nNorth Willoughby - \nNorth Wahroonga - \nNorthbridge - \nNorthmead - \nNorthwood - \nNorwest\n\n\n== O ==\nOakhurst - \nOakville - \nOatlands - \nOatley - \nOld Guildford - \nOld Toongabbie - \nOran Park - \nOrchard Hills - \nOxford Falls - \nOxley Park - \nOyster Bay\n\n\n== P ==\nPaddington - \nPadstow - \nPadstow Heights - \nPagewood - \nPalm Beach - \nPanania - \nParklea - \nParramatta - \nPeakhurst - \nPeakhurst Heights - \nPemulwuy - \nPendle Hill - \nPennant Hills - \nPenrith - \nPenshurst - \nPetersham - \nPhillip Bay - \nPicnic Point - \nPitt Town - \nPitt Town Bottoms - \nPleasure Point - \nPlumpton - \nPoint Piper - \nPort Botany -  \nPort Hacking - \nPotts Hill - \nPotts Point - \nPrairiewood - \nPrestons - \nProspect - \nPunchbowl - \nPutney - \nPymble - \nPyrmont\n\n\n== Q ==\nQuakers Hill - \nQueens Park - \nQueenscliff\n\n\n== R ==\nRaby - \nRamsgate - \nRamsgate Beach - \nRandwick - \nRedfern - \nRegents Park - \nRegentville - \nRevesby - \nRevesby Heights - \nRhodes - \nRichmond - \nRichmond Lowlands - \nRiverstone - \nRiverview - \nRiverwood - \nRockdale - \nRodd Point - \nRookwood - \nRooty Hill - \nRopes Crossing - \nRose Bay - \nRosebery - \nRosehill - \nRoselands - \nRosemeadow - \nRoseville - \nRoseville Chase -\nRossmore -\nRouse Hill -\nRoyal National Park - \nRozelle - \nRuse - \nRushcutters Bay - \nRussell Lea - \nRydalmere - \nRyde\n\n\n== S ==\nSackville - \nSackville North - \nSadleir - \nSandringham - \nSandy Point - \nSans Souci - \nScheyville - \nSchofields - \nScotland Island - \nSeaforth - \nSefton - \nSeven Hills - \nShalvey - \nShanes Park - \nSilverwater - \nSingletons Mill - \nSmeaton Grange - \nSmithfield - \nSouth Coogee - South Granville - \nSouth Hurstville - \nSouth Maroota - \nSouth Penrith - \nSouth Turramurra - \nSouth Wentworthville - \nSouth Windsor - \nSpring Farm - \nSt Andrews - \nSt Clair - \nSt Helens Park - \nSt Ives - \nSt Ives Chase -\nSt Johns Park - \nSt Leonards - \nSt Marys - \nSt Peters - \nStanhope Gardens - \nStanmore - \nStrathfield - \nStrathfield South - \nSummer Hill - \nSurry Hills - \nSutherland - \nSydenham - \nSydney Olympic Park -\nSylvania - \nSylvania Waters\n\n\n== T ==\nTamarama - \nTaren Point - \nTelopea - \nTempe - \nTennyson - \nTennyson Point - \nTerrey Hills - \nThe Ponds -\nThe Rocks - \nThe Slopes -  \nThornleigh - \nToongabbie - \nTregear - \nTurramurra - \nTurrella\n\n\n== U ==\nUltimo\n\n\n== V ==\nVarroville - \nVaucluse - \nVillawood - \nVineyard - \nVoyager Point\n\n\n== W ==\nWahroonga - \nWaitara - \nWakeley - \nWallacia - \nWareemba - \nWarrawee - \nWarriewood - \nWarwick Farm - \nWaterfall -\nWaterloo - \nWatsons Bay - \nWattle Grove - \nWaverley - \nWaverton - \nWedderburn - \nWentworth Point - \nWentworthville - \nWerrington - \nWerrington County - \nWerrington Downs - \nWest Hoxton - \nWest Killara - \nWest Lindfield - \nWest Pennant Hills - \nWest Pymble - \nWest Ryde - \nWestleigh - \nWestmead - \nWetherill Park - \nWhalan -\nWhale Beach - \nWheeler Heights - \nWilberforce - \nWiley Park - \nWillmot - \nWilloughby - \nWilloughby East - \nWindsor - \nWindsor Downs - \nWinston Hills - \nWisemans Ferry - \nWolli Creek -\nWollstonecraft - \nWoodbine - \nWoodcroft -\nWoodpark - \nWoollahra - \nWoolloomooloo - \nWoolooware - \nWoolwich - \nWoronora - \nWoronora Heights\n\n\n== X ==\n\n\n== Y ==\nYagoona - \nYarramundi - \nYarrawarrah - \nYennora - \nYowie Bay\n\n\n== Z ==\nZetland\n\n\n== References ==\n\n\n== External links ==\nSydney Suburbs Map\n"
    }
   ],
   "source": [
    "print(wikipedia.page(\"List_of_Sydney_suburbs\").content) # to check if the command works"
   ]
  },
  {
   "cell_type": "code",
   "execution_count": 2,
   "metadata": {},
   "outputs": [],
   "source": [
    "string_data = (wikipedia.page(\"List_of_Sydney_suburbs\").content) #saving all information as string"
   ]
  },
  {
   "cell_type": "code",
   "execution_count": 3,
   "metadata": {},
   "outputs": [],
   "source": [
    "textfile = open('subrub_name.txt','w') #saving the string in a txt file\n",
    "textfile.write(string_data)\n",
    "textfile.close()"
   ]
  },
  {
   "cell_type": "code",
   "execution_count": 4,
   "metadata": {},
   "outputs": [],
   "source": [
    "infile = \"subrub_name.txt\" #edit the txt file, drop all - after suburb's name\n",
    "outfile = \"suburb_name.txt\"\n",
    "delete_list = [\"-\"]\n",
    "fin = open(infile)\n",
    "fout = open(outfile, \"w+\")\n",
    "for line in fin:\n",
    "    for word in delete_list:\n",
    "        line = line.replace(word,\"\")\n",
    "    fout.write(line)\n",
    "fin.close()\n",
    "fout.close()"
   ]
  },
  {
   "cell_type": "code",
   "execution_count": 5,
   "metadata": {},
   "outputs": [],
   "source": [
    "import pandas as pd #going to change the txt file to csv file by using pandas"
   ]
  },
  {
   "cell_type": "code",
   "execution_count": 14,
   "metadata": {},
   "outputs": [],
   "source": [
    "df = pd.read_fwf('suburb_name.txt') #change the txt file to csv file\n",
    "df.to_csv('suburb_name.csv')\n",
    "dff = pd.read_csv('suburb_name.csv', skiprows=3, header=None,comment = '#')"
   ]
  },
  {
   "cell_type": "code",
   "execution_count": 16,
   "metadata": {},
   "outputs": [],
   "source": [
    "df_suburb = dff.iloc[3:] #drop first 3 rows because they contains the summary part"
   ]
  },
  {
   "cell_type": "code",
   "execution_count": 17,
   "metadata": {},
   "outputs": [
    {
     "output_type": "execute_result",
     "data": {
      "text/plain": "   0               1    2    3    4    5    6   7\n3  5         == A ==  NaN  NaN  NaN  NaN  NaN NaN\n4  6      Abbotsbury  NaN  NaN  NaN  NaN  NaN NaN\n5  7      Abbotsford  NaN  NaN  NaN  NaN  NaN NaN\n6  8  Acacia Gardens  NaN  NaN  NaN  NaN  NaN NaN\n7  9     Agnes Banks  NaN  NaN  NaN  NaN  NaN NaN",
      "text/html": "<div>\n<style scoped>\n    .dataframe tbody tr th:only-of-type {\n        vertical-align: middle;\n    }\n\n    .dataframe tbody tr th {\n        vertical-align: top;\n    }\n\n    .dataframe thead th {\n        text-align: right;\n    }\n</style>\n<table border=\"1\" class=\"dataframe\">\n  <thead>\n    <tr style=\"text-align: right;\">\n      <th></th>\n      <th>0</th>\n      <th>1</th>\n      <th>2</th>\n      <th>3</th>\n      <th>4</th>\n      <th>5</th>\n      <th>6</th>\n      <th>7</th>\n    </tr>\n  </thead>\n  <tbody>\n    <tr>\n      <th>3</th>\n      <td>5</td>\n      <td>== A ==</td>\n      <td>NaN</td>\n      <td>NaN</td>\n      <td>NaN</td>\n      <td>NaN</td>\n      <td>NaN</td>\n      <td>NaN</td>\n    </tr>\n    <tr>\n      <th>4</th>\n      <td>6</td>\n      <td>Abbotsbury</td>\n      <td>NaN</td>\n      <td>NaN</td>\n      <td>NaN</td>\n      <td>NaN</td>\n      <td>NaN</td>\n      <td>NaN</td>\n    </tr>\n    <tr>\n      <th>5</th>\n      <td>7</td>\n      <td>Abbotsford</td>\n      <td>NaN</td>\n      <td>NaN</td>\n      <td>NaN</td>\n      <td>NaN</td>\n      <td>NaN</td>\n      <td>NaN</td>\n    </tr>\n    <tr>\n      <th>6</th>\n      <td>8</td>\n      <td>Acacia Gardens</td>\n      <td>NaN</td>\n      <td>NaN</td>\n      <td>NaN</td>\n      <td>NaN</td>\n      <td>NaN</td>\n      <td>NaN</td>\n    </tr>\n    <tr>\n      <th>7</th>\n      <td>9</td>\n      <td>Agnes Banks</td>\n      <td>NaN</td>\n      <td>NaN</td>\n      <td>NaN</td>\n      <td>NaN</td>\n      <td>NaN</td>\n      <td>NaN</td>\n    </tr>\n  </tbody>\n</table>\n</div>"
     },
     "metadata": {},
     "execution_count": 17
    }
   ],
   "source": [
    "df_suburb.head() #check if we drop all the summary part"
   ]
  },
  {
   "cell_type": "code",
   "execution_count": 18,
   "metadata": {},
   "outputs": [
    {
     "output_type": "execute_result",
     "data": {
      "text/plain": "       0                     1\n3      5               == A ==\n4      6            Abbotsbury\n5      7            Abbotsford\n6      8        Acacia Gardens\n7      9           Agnes Banks\n..   ...                   ...\n768  770      == References ==\n769  771                   NaN\n770  772                   NaN\n771  773  == External links ==\n772  774    Sydney Suburbs Map\n\n[770 rows x 2 columns]",
      "text/html": "<div>\n<style scoped>\n    .dataframe tbody tr th:only-of-type {\n        vertical-align: middle;\n    }\n\n    .dataframe tbody tr th {\n        vertical-align: top;\n    }\n\n    .dataframe thead th {\n        text-align: right;\n    }\n</style>\n<table border=\"1\" class=\"dataframe\">\n  <thead>\n    <tr style=\"text-align: right;\">\n      <th></th>\n      <th>0</th>\n      <th>1</th>\n    </tr>\n  </thead>\n  <tbody>\n    <tr>\n      <th>3</th>\n      <td>5</td>\n      <td>== A ==</td>\n    </tr>\n    <tr>\n      <th>4</th>\n      <td>6</td>\n      <td>Abbotsbury</td>\n    </tr>\n    <tr>\n      <th>5</th>\n      <td>7</td>\n      <td>Abbotsford</td>\n    </tr>\n    <tr>\n      <th>6</th>\n      <td>8</td>\n      <td>Acacia Gardens</td>\n    </tr>\n    <tr>\n      <th>7</th>\n      <td>9</td>\n      <td>Agnes Banks</td>\n    </tr>\n    <tr>\n      <th>...</th>\n      <td>...</td>\n      <td>...</td>\n    </tr>\n    <tr>\n      <th>768</th>\n      <td>770</td>\n      <td>== References ==</td>\n    </tr>\n    <tr>\n      <th>769</th>\n      <td>771</td>\n      <td>NaN</td>\n    </tr>\n    <tr>\n      <th>770</th>\n      <td>772</td>\n      <td>NaN</td>\n    </tr>\n    <tr>\n      <th>771</th>\n      <td>773</td>\n      <td>== External links ==</td>\n    </tr>\n    <tr>\n      <th>772</th>\n      <td>774</td>\n      <td>Sydney Suburbs Map</td>\n    </tr>\n  </tbody>\n</table>\n<p>770 rows × 2 columns</p>\n</div>"
     },
     "metadata": {},
     "execution_count": 18
    }
   ],
   "source": [
    "df_suburb.dropna(axis=1, how = 'all') #drop the column with NaN"
   ]
  },
  {
   "cell_type": "code",
   "execution_count": 20,
   "metadata": {},
   "outputs": [],
   "source": [
    "df_suburb.to_csv('suburb.csv', index = False) #saving the file"
   ]
  },
  {
   "cell_type": "code",
   "execution_count": null,
   "metadata": {},
   "outputs": [],
   "source": []
  }
 ],
 "metadata": {
  "language_info": {
   "codemirror_mode": {
    "name": "ipython",
    "version": 3
   },
   "file_extension": ".py",
   "mimetype": "text/x-python",
   "name": "python",
   "nbconvert_exporter": "python",
   "pygments_lexer": "ipython3",
   "version": "3.7.4-final"
  },
  "orig_nbformat": 2,
  "kernelspec": {
   "name": "python37464bit40974756599342c7a39b9c63c164c2f4",
   "display_name": "Python 3.7.4 64-bit"
  }
 },
 "nbformat": 4,
 "nbformat_minor": 2
}