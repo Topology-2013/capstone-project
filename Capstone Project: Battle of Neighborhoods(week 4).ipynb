{
    "cells": [
        {
            "cell_type": "markdown",
            "metadata": {
                "collapsed": true
            },
            "source": "# Capstone Project - The Battle of Neighborhoods (Week 1)"
        },
        {
            "cell_type": "markdown",
            "metadata": {},
            "source": "# # 1. Introduction"
        },
        {
            "cell_type": "markdown",
            "metadata": {},
            "source": "Australia has been affected by the coronavirus since Februrary 2020. Sydney's retail industry has suffered a huge blow because of the social distance restriction. Among all the retail industry, the catering industry has been greatly affected. Many restaurants have not been operating for three months. These restaurants are facing bankruptcy crisis. Fortunately, Australian government's response to the coronavirus is very good. Since the mid-May, the Australian goverment is trying to gradually loosen its control over the retail industry. Hence, restaruants have begun to re-open. However, because the global epidemic has not subsided, there still exist a risk of spreading the virus when people are crowded. The company I work for is selling anti-epidemic materials such as hand sanitizer and masks to various retail companies in Sydney. However, this company does their business in B2B, which means it is difficult for many small companies such as pizza restaurant to purchase hand sanitier directly and efficiency. This project aims to provide more potential customer to the company I'm working with, so that both the company and Sydney's catering industry can benefit. "
        },
        {
            "cell_type": "markdown",
            "metadata": {},
            "source": "# # 2. Data Acquisition"
        },
        {
            "cell_type": "markdown",
            "metadata": {},
            "source": "Sydney is one of the largest cities in the Southern hemisphere, but the scope of the Sydney city council is very small. This project will study the entire Great Sydney Area. Therefore, the first step is to collect the suburb information in the Great Sydney Area. Next, similar to the homework the example in the third week, this project will collect relevant catering industry information through Foursquare. Because the retail industry is greatly affected by population, this project also needs to cluster the data based on population in different suburbs. "
        },
        {
            "cell_type": "markdown",
            "metadata": {},
            "source": "Through a simple research, I found that there is no data on the Internet that includes the names and coordinates of all suburbs in Sydney. However, the Wikipedia website and the NSW state government website provide the names of Sydney\u2019s suburbs and the coordinates of NSW\u2019s suburbs, respectively. In addition, the Australian postal system also provides coordinates corresponding to each postal code. I first analyzed the postal code and found that a postal code was used by multiple suburbs at the same time. So I decided to use web scrape skill to get the name and coordinates of the suburb from Wikipedia and NSW state government. "
        },
        {
            "cell_type": "markdown",
            "metadata": {},
            "source": "data source:\n    suburb names: https://en.wikipedia.org/wiki/List_of_Sydney_suburbs\n    suburb coordinate: https://data.gov.au/dataset/ds-dga-91e70237-d9d1-4719-a82f-e71b811154c6/details\n    "
        }
    ],
    "metadata": {
        "kernelspec": {
            "display_name": "Python 3.6",
            "language": "python",
            "name": "python3"
        },
        "language_info": {
            "codemirror_mode": {
                "name": "ipython",
                "version": 3
            },
            "file_extension": ".py",
            "mimetype": "text/x-python",
            "name": "python",
            "nbconvert_exporter": "python",
            "pygments_lexer": "ipython3",
            "version": "3.6.9"
        }
    },
    "nbformat": 4,
    "nbformat_minor": 1
}