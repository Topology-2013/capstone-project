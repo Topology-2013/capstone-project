{
 "cells": [
  {
   "cell_type": "code",
   "execution_count": 2,
   "metadata": {},
   "outputs": [],
   "source": [
    "import os\n",
    "from bs4 import BeautifulSoup\n",
    "from requests import get\n",
    "import pandas as pd\n",
    "import numpy as np\n",
    "import time\n",
    "import random\n",
    "import itertools\n",
    "import json # library to handle JSON files\n",
    "import folium # library for plot map\n",
    "import sys\n",
    "import matplotlib.pyplot as plt\n",
    "import seaborn as sns\n",
    "import requests\n"
   ]
  },
  {
   "cell_type": "code",
   "execution_count": 3,
   "metadata": {
    "tags": []
   },
   "outputs": [
    {
     "output_type": "stream",
     "name": "stdout",
     "text": "the len of NSW suburb data is  4592\n"
    }
   ],
   "source": [
    "with open('NSW_suburb.json') as json_data:\n",
    "    NSW_data = json.load(json_data)\n",
    "NSW_data_feature = NSW_data['features']\n",
    "print(\"the len of NSW suburb data is \", len(NSW_data_feature) )"
   ]
  },
  {
   "cell_type": "code",
   "execution_count": 3,
   "metadata": {},
   "outputs": [],
   "source": [
    "#since the previous suburb csv file does not have a header, this block will add a header to it. \n",
    "SYDsuburb = pd.read_csv(\"suburb.csv\")\n",
    "header_names = ['suburb']\n",
    "SYDsuburb = pd.read_csv('suburb.csv', header = None, skiprows = 1, names = header_names)\n",
    "SYDsuburb.to_csv = ('SYDsuburb.csv')"
   ]
  },
  {
   "cell_type": "code",
   "execution_count": 4,
   "metadata": {},
   "outputs": [],
   "source": [
    "#In the research proposal, I thought postal code is not necessary for this project. However, in order to get the population data, the website domain.com need both the suburb name and postal code. Instead of web scraping, I just download a file that contants suburb's postal codes, latitude and longitude. \n",
    "postcode = pd.read_csv(\"Australian_Post_Codes_Lat_Lon.csv\")"
   ]
  },
  {
   "cell_type": "code",
   "execution_count": 5,
   "metadata": {},
   "outputs": [
    {
     "output_type": "execute_result",
     "data": {
      "text/plain": "     postcode  suburb state              dc  \\\n145      1001  SYDNEY   NSW    EAST SUBS MC   \n146      1002  SYDNEY   NSW    EAST SUBS MC   \n147      1003  SYDNEY   NSW    EAST SUBS MC   \n148      1004  SYDNEY   NSW    EAST SUBS MC   \n149      1005  SYDNEY   NSW  GPO BOX CENTRE   \n\n                                              type        lat         lon  \n145  LVR                                           -33.794883  151.268071  \n146  LVR                                           -33.794883  151.268071  \n147  LVR                                           -33.794883  151.268071  \n148  LVR                                           -33.794883  151.268071  \n149  LVR                                           -33.794883  151.268071  ",
      "text/html": "<div>\n<style scoped>\n    .dataframe tbody tr th:only-of-type {\n        vertical-align: middle;\n    }\n\n    .dataframe tbody tr th {\n        vertical-align: top;\n    }\n\n    .dataframe thead th {\n        text-align: right;\n    }\n</style>\n<table border=\"1\" class=\"dataframe\">\n  <thead>\n    <tr style=\"text-align: right;\">\n      <th></th>\n      <th>postcode</th>\n      <th>suburb</th>\n      <th>state</th>\n      <th>dc</th>\n      <th>type</th>\n      <th>lat</th>\n      <th>lon</th>\n    </tr>\n  </thead>\n  <tbody>\n    <tr>\n      <th>145</th>\n      <td>1001</td>\n      <td>SYDNEY</td>\n      <td>NSW</td>\n      <td>EAST SUBS MC</td>\n      <td>LVR</td>\n      <td>-33.794883</td>\n      <td>151.268071</td>\n    </tr>\n    <tr>\n      <th>146</th>\n      <td>1002</td>\n      <td>SYDNEY</td>\n      <td>NSW</td>\n      <td>EAST SUBS MC</td>\n      <td>LVR</td>\n      <td>-33.794883</td>\n      <td>151.268071</td>\n    </tr>\n    <tr>\n      <th>147</th>\n      <td>1003</td>\n      <td>SYDNEY</td>\n      <td>NSW</td>\n      <td>EAST SUBS MC</td>\n      <td>LVR</td>\n      <td>-33.794883</td>\n      <td>151.268071</td>\n    </tr>\n    <tr>\n      <th>148</th>\n      <td>1004</td>\n      <td>SYDNEY</td>\n      <td>NSW</td>\n      <td>EAST SUBS MC</td>\n      <td>LVR</td>\n      <td>-33.794883</td>\n      <td>151.268071</td>\n    </tr>\n    <tr>\n      <th>149</th>\n      <td>1005</td>\n      <td>SYDNEY</td>\n      <td>NSW</td>\n      <td>GPO BOX CENTRE</td>\n      <td>LVR</td>\n      <td>-33.794883</td>\n      <td>151.268071</td>\n    </tr>\n  </tbody>\n</table>\n</div>"
     },
     "metadata": {},
     "execution_count": 5
    }
   ],
   "source": [
    "#instead of running through all the post code around Australia, I just need to compare the NSW suburb's post code and Sydney suburb's post code\n",
    "NSWPC = postcode[postcode[\"state\"] == 'NSW']\n",
    "NSWPC.to_csv('NSWPC.csv', index = False)\n",
    "NSWPC.head()"
   ]
  },
  {
   "cell_type": "code",
   "execution_count": 6,
   "metadata": {},
   "outputs": [],
   "source": [
    "#From the type column. we have LVR which stands for large volumn receiver, null which is place holder, and delivery area. In this case, we only need the postcode for delivery area. \n",
    "NSWPC = NSWPC[NSWPC[\"type\"].str.contains (\"Delivery Area\")]\n",
    "keep_col = ['postcode','suburb','lat','lon']\n",
    "NSWPC2 = NSWPC[keep_col]\n",
    "NSWPC2.to_csv(\"NSWPC2.csv\", index =False)\n",
    "\n"
   ]
  },
  {
   "cell_type": "code",
   "execution_count": 7,
   "metadata": {},
   "outputs": [
    {
     "output_type": "execute_result",
     "data": {
      "text/plain": "           suburb\n0                \n1         == A ==\n2      ABBOTSBURY\n3      ABBOTSFORD\n4  ACACIA GARDENS\n5     AGNES BANKS",
      "text/html": "<div>\n<style scoped>\n    .dataframe tbody tr th:only-of-type {\n        vertical-align: middle;\n    }\n\n    .dataframe tbody tr th {\n        vertical-align: top;\n    }\n\n    .dataframe thead th {\n        text-align: right;\n    }\n</style>\n<table border=\"1\" class=\"dataframe\">\n  <thead>\n    <tr style=\"text-align: right;\">\n      <th></th>\n      <th>suburb</th>\n    </tr>\n    <tr>\n      <th>0</th>\n      <th></th>\n    </tr>\n  </thead>\n  <tbody>\n    <tr>\n      <th>1</th>\n      <td>== A ==</td>\n    </tr>\n    <tr>\n      <th>2</th>\n      <td>ABBOTSBURY</td>\n    </tr>\n    <tr>\n      <th>3</th>\n      <td>ABBOTSFORD</td>\n    </tr>\n    <tr>\n      <th>4</th>\n      <td>ACACIA GARDENS</td>\n    </tr>\n    <tr>\n      <th>5</th>\n      <td>AGNES BANKS</td>\n    </tr>\n  </tbody>\n</table>\n</div>"
     },
     "metadata": {},
     "execution_count": 7
    }
   ],
   "source": [
    "#I found out that all the suburb name in NSWPC2 is are uppercase, however, all the suburb name in SYDsuburb are in title form. Therefore, I'm going to change both of them into uppercase\n",
    "SYDsuburb = pd.read_csv(\"suburb.csv\", index_col = 0)\n",
    "SYDsuburb['suburb'] = SYDsuburb['suburb'].str.upper()\n",
    "SYDsuburb.head()"
   ]
  },
  {
   "cell_type": "code",
   "execution_count": 8,
   "metadata": {},
   "outputs": [],
   "source": [
    "SYDPC =  pd.merge(SYDsuburb, NSWPC2, left_on = 'suburb', right_on = 'suburb', how = 'outer')"
   ]
  },
  {
   "cell_type": "code",
   "execution_count": 9,
   "metadata": {},
   "outputs": [],
   "source": [
    "SYDPC.to_csv(\"SYDPC.csv\", index=False)"
   ]
  },
  {
   "cell_type": "code",
   "execution_count": 10,
   "metadata": {},
   "outputs": [
    {
     "output_type": "execute_result",
     "data": {
      "text/plain": "          suburb  postcode        lat         lon\n783  YARRAWARRAH    2233.0 -34.058462  151.032790\n784      YENNORA    2161.0 -33.860889  150.969356\n785    YOWIE BAY    2228.0 -34.049866  151.104325\n786      == Z ==       NaN        NaN         NaN\n787      ZETLAND    2017.0 -33.909938  151.206234",
      "text/html": "<div>\n<style scoped>\n    .dataframe tbody tr th:only-of-type {\n        vertical-align: middle;\n    }\n\n    .dataframe tbody tr th {\n        vertical-align: top;\n    }\n\n    .dataframe thead th {\n        text-align: right;\n    }\n</style>\n<table border=\"1\" class=\"dataframe\">\n  <thead>\n    <tr style=\"text-align: right;\">\n      <th></th>\n      <th>suburb</th>\n      <th>postcode</th>\n      <th>lat</th>\n      <th>lon</th>\n    </tr>\n  </thead>\n  <tbody>\n    <tr>\n      <th>783</th>\n      <td>YARRAWARRAH</td>\n      <td>2233.0</td>\n      <td>-34.058462</td>\n      <td>151.032790</td>\n    </tr>\n    <tr>\n      <th>784</th>\n      <td>YENNORA</td>\n      <td>2161.0</td>\n      <td>-33.860889</td>\n      <td>150.969356</td>\n    </tr>\n    <tr>\n      <th>785</th>\n      <td>YOWIE BAY</td>\n      <td>2228.0</td>\n      <td>-34.049866</td>\n      <td>151.104325</td>\n    </tr>\n    <tr>\n      <th>786</th>\n      <td>== Z ==</td>\n      <td>NaN</td>\n      <td>NaN</td>\n      <td>NaN</td>\n    </tr>\n    <tr>\n      <th>787</th>\n      <td>ZETLAND</td>\n      <td>2017.0</td>\n      <td>-33.909938</td>\n      <td>151.206234</td>\n    </tr>\n  </tbody>\n</table>\n</div>"
     },
     "metadata": {},
     "execution_count": 10
    }
   ],
   "source": [
    "#By manually check the output, I found out that all data for non-Sydney suburb has been paste after the data for Sydney suburb, which is after row no.787. Therefore, I'm going to drop all non-Sydney suburb.\n",
    "SYDPC = pd.read_csv(\"SYDPC.csv\", skipinitialspace= True, nrows= 788)\n",
    "SYDPC.tail()"
   ]
  },
  {
   "cell_type": "code",
   "execution_count": 11,
   "metadata": {},
   "outputs": [],
   "source": [
    "#Furthermore, I found out that not all Sydney suburb have post code, latitude and longitude information. However, those info is vital for further research. As a result, I'm going to drop all rows that does not contains latitude information since if the row doesn't have latitude info also lack of post code and longitude info. \n",
    "SYDPC = SYDPC[pd.notnull(SYDPC['lat'])]\n",
    "SYDPC.to_csv(\"SYDPC3.csv\", index= False)"
   ]
  },
  {
   "cell_type": "code",
   "execution_count": 2,
   "metadata": {
    "tags": []
   },
   "outputs": [
    {
     "output_type": "stream",
     "name": "stdout",
     "text": "<Response [200]>\n"
    }
   ],
   "source": [
    "#Since we have all the post code and suburb info for Sydney, the next step is to get the population for each suburb. This time I'm going to use beautifulsoup to scrap data from domain.com\n",
    "headers = ({'User-Agent': 'Mozilla/5.0 (Windows NT 10.0; Win64; x64) AppleWebKit/537.36 (KHTML, like Gecko) Chrome/65.0.3325.181 Safari/537.36'})\n",
    "domain = \"https://www.domain.com.au/suburb-profile/ashfield-nsw-2131\"\n",
    "response = get(domain, headers = headers)\n",
    "print(response)"
   ]
  },
  {
   "cell_type": "code",
   "execution_count": 3,
   "metadata": {},
   "outputs": [
    {
     "output_type": "execute_result",
     "data": {
      "text/plain": "[]"
     },
     "metadata": {},
     "execution_count": 3
    }
   ],
   "source": [
    "soup = BeautifulSoup(response.text, 'html.parser')\n",
    "house_containers = soup.find_all('div',class_ = \"suburb-profile__row\")\n",
    "demography = house_containers[0].find_all('div', class_=\"css-54bw0x\")[0].find_all('div', class_=\"css-jkrtif\")\n",
    "demography"
   ]
  },
  {
   "cell_type": "code",
   "execution_count": 4,
   "metadata": {},
   "outputs": [],
   "source": [
    "def getDemography(suburb_names, postcode_list, state='NSW'):\n",
    "    Demography_list = []\n",
    "    for suburb, postcode in zip(suburb_names, postcode_list):\n",
    "        print(suburb)\n",
    "        suburb = suburb.replace(' ','-')\n",
    "        headers = ({'User-Agent': 'Mozilla/5.0 (Windows NT 10.0; Win64; x64) AppleWebKit/537.36 (KHTML, like Gecko) Chrome/65.0.3325.181 Safari/537.36'})\n",
    "        url = 'https://www.domain.com.au/suburb-profile/{}-nsw-{}'.format(suburb, postcode)\n",
    "        response = get(url, headers = headers)\n",
    "        soup = BeautifulSoup(response.text, 'html.parser')\n",
    "        info_containers = soup.find_all('div', class_ = \"suburb-profile__row\")\n",
    "        try:\n",
    "            if info_containers != []:\n",
    "\n",
    "                demography = info_containers[0].find_all('div', class_=\"css-jkrtif\")[0].find_all('div', class_=\"css-54bw0x\")\n",
    "\n",
    "                if demography != []:\n",
    "\n",
    "                    population = demography[0].text\n",
    "                    population = population.replace(',', '')\n",
    "                    age = demography[1].text\n",
    "\n",
    "                else:     \n",
    "                    # sometime there will be a promotion section on the result site, hence demography info locates in different section.\n",
    "                    demography = info_containers[1].find_all('div', class_=\"css-jkrtif\")[0].find_all('div', class_=\"css-54bw0x\")\n",
    "                    \n",
    "                    if demography != []:\n",
    "                        population = demography[0].text\n",
    "                        population = population.replace(',', '')\n",
    "                        age = demography[1].text\n",
    "                    \n",
    "                    else:\n",
    "                        # sometimes there will be no infomation.\n",
    "                        population = \"NA\"\n",
    "                        age = \"NA\"\n",
    "\n",
    "            else:\n",
    "                # sometimes there is no infomation\n",
    "                population = \"NA\"\n",
    "                age = \"NA\" \n",
    "        \n",
    "        except:\n",
    "            pass\n",
    "\n",
    "        # return only relevant information for suburb\n",
    "        Demography_list.append([(\n",
    "            suburb, \n",
    "            postcode, \n",
    "            population, \n",
    "            age)])\n",
    "        \n",
    "        # Wait a given time bewteen 5 to 15 seconds for scraping the next website to mimic a humanbeing search.\n",
    "        time.sleep(random.randint(5,15))     \n",
    "    \n",
    "    return(Demography_list)\n"
   ]
  },
  {
   "cell_type": "code",
   "execution_count": 5,
   "metadata": {},
   "outputs": [
    {
     "output_type": "execute_result",
     "data": {
      "text/plain": "           suburb  postcode        lat         lon\n0      ABBOTSBURY      2176 -33.877538  150.867768\n1      ABBOTSFORD      2046 -33.852469  151.129453\n2  ACACIA GARDENS      2763 -33.730077  150.906502\n3     AGNES BANKS      2753 -33.618877  150.707372\n4           AIRDS      2560 -34.084468  150.829041",
      "text/html": "<div>\n<style scoped>\n    .dataframe tbody tr th:only-of-type {\n        vertical-align: middle;\n    }\n\n    .dataframe tbody tr th {\n        vertical-align: top;\n    }\n\n    .dataframe thead th {\n        text-align: right;\n    }\n</style>\n<table border=\"1\" class=\"dataframe\">\n  <thead>\n    <tr style=\"text-align: right;\">\n      <th></th>\n      <th>suburb</th>\n      <th>postcode</th>\n      <th>lat</th>\n      <th>lon</th>\n    </tr>\n  </thead>\n  <tbody>\n    <tr>\n      <th>0</th>\n      <td>ABBOTSBURY</td>\n      <td>2176</td>\n      <td>-33.877538</td>\n      <td>150.867768</td>\n    </tr>\n    <tr>\n      <th>1</th>\n      <td>ABBOTSFORD</td>\n      <td>2046</td>\n      <td>-33.852469</td>\n      <td>151.129453</td>\n    </tr>\n    <tr>\n      <th>2</th>\n      <td>ACACIA GARDENS</td>\n      <td>2763</td>\n      <td>-33.730077</td>\n      <td>150.906502</td>\n    </tr>\n    <tr>\n      <th>3</th>\n      <td>AGNES BANKS</td>\n      <td>2753</td>\n      <td>-33.618877</td>\n      <td>150.707372</td>\n    </tr>\n    <tr>\n      <th>4</th>\n      <td>AIRDS</td>\n      <td>2560</td>\n      <td>-34.084468</td>\n      <td>150.829041</td>\n    </tr>\n  </tbody>\n</table>\n</div>"
     },
     "metadata": {},
     "execution_count": 5
    }
   ],
   "source": [
    "#I found out that the data type can affect the result of web scrape. So I manually change all the data type to str instead of float. It can also be done by using pd.read_csv('SYDPC3.csv', dtype = str)\n",
    "SYDPC = pd.read_csv('SYDPC3.csv')\n",
    "SYDPC.head()"
   ]
  },
  {
   "cell_type": "code",
   "execution_count": 6,
   "metadata": {
    "tags": []
   },
   "outputs": [
    {
     "output_type": "stream",
     "name": "stdout",
     "text": "abbotsford\nacacia gardens\nagnes banks\nairds\nalexandria\nalfords point\nallambie heights\nallawah\nambarvale\nannandale\nannangrove\narcadia\narncliffe\narndell park\nartarmon\nashbury\nashcroft\nashfield\nasquith\nauburn\naustral\navalon beach\nbadgerys creek\nbalgowlah\nbalgowlah heights\nbalmain\nbalmain east\nbangor\nbanksia\nbanksmeadow\nbankstown\nbankstown aerodrome\nbarden ridge\nbardwell park\nbardwell valley\nbass hill\nbaulkham hills\nbayview\nbeacon hill\nbeaconsfield\nbeaumont hills\nbeecroft\nbelfield\nbella vista\nbellevue hill\nbelmore\nbelrose\nberala\nberkshire park\nberowra\nberowra heights\nberowra waters\nberrilee\nbeverley park\nbeverly hills\nbexley\nbexley north\nbickley vale\nbidwill\nbirchgrove\nbirrong\nblackett\nblacktown\n"
    }
   ],
   "source": [
    "sydney_demography = getDemography(suburb_names=SYDPC['suburb'][1:64].str.lower(), postcode_list=SYDPC['postcode'][1:64])"
   ]
  },
  {
   "cell_type": "code",
   "execution_count": 7,
   "metadata": {
    "tags": []
   },
   "outputs": [
    {
     "output_type": "stream",
     "name": "stdout",
     "text": "blairmount\nblakehurst\nbligh park\nbondi\nbondi beach\nbondi junction\nbonnet bay\nbonnyrigg\nbonnyrigg heights\nbossley park\nbotany\nbow bowing\nbox hill\nbradbury\nbreakfast point\nbringelly\nbronte\nbrooklyn\nbrookvale\nbundeena\nburraneer\nburwood\nburwood heights\nbusby\ncabarita\ncabramatta\ncabramatta west\ncambridge gardens\ncambridge park\ncamden\ncamden south\ncamellia\ncammeray\ncampbelltown\ncamperdown\ncampsie\ncanada bay\ncanley heights\ncanley vale\ncanoelands\ncanterbury\ncaringbah\ncarlingford\ncarlton\ncarramar\ncarss park\ncartwright\ncastle cove\ncastle hill\ncastlecrag\ncastlereagh\ncasula\ncatherine field\ncattai\ncawdor\ncecil hills\ncecil park\nchatswood\nchatswood west\ncheltenham\ncherrybrook\nchester hill\nchifley\nchippendale\nchipping norton\nchiswick\nchullora\nchurch point\nclaremont meadows\nclarendon\nclareville\nclaymore\nclemton park\nclontarf\nclovelly\nclyde\ncoasters retreat\ncobbitty\ncolebee\ncollaroy\ncolyton\ncomo\nconcord\nconcord west\ncondell park\nconnells point\ncoogee\ncornwallis\ncottage point\ncowan\ncranebrook\ncremorne\ncremorne point\ncromer\ncronulla\ncrows nest\ncroydon\ncroydon park\ncumberland reach\ncurl curl\ncurrans hill\ncurrawong beach\ndaceyville\ndangar island\ndarling point\ndarlinghurst\ndarlington\ndarlington\ndavidson\ndawes point\ndean park\ndee why\ndenham court\ndenistone\ndenistone east\ndenistone west\ndharruk\ndolans bay\ndolls point\ndoonside\ndouble bay\ndover heights\ndrummoyne\nduffys forest\ndulwich hill\ndundas\ndundas valley\ndural\ndural\neagle vale\nearlwood\neast hills\neast killara\neast kurrajong\neast lindfield\neast ryde\neastern creek\neastgardens\neastlakes\neastwood\nebenezer\nedensor park\nedgecliff\nelanora heights\nelderslie\nelderslie\nelizabeth bay\nellis lane\nelvina bay\nemerton\nemu heights\nemu plains\nenfield\nengadine\nenglorie park\nenmore\nenmore\nenmore\nepping\nermington\nerskine park\nerskineville\neschol park\neveleigh\nfairfield\nfairfield east\nfairfield heights\nfairfield west\nfairlight\nfiddletown\nfive dock\nforest glen\nforest lodge\nforestville\nfreemans reach\nfrenchs forest\ngalston\ngeorges hall\ngilead\ngirraween\ngladesville\nglebe\nglen alpine\nglendenning\nglenfield\nglenhaven\nglenmore park\nglenorie\nglenwood\nglossodia\ngordon\ngranville\ngrasmere\ngrays point\ngreat mackerel beach\ngreen valley\ngreenacre\ngreendale\ngreendale\ngreenfield park\ngreenwich\ngreystanes\ngrose vale\ngrose wold\nguildford\nguildford west\ngymea\ngymea bay\nhaberfield\nhammondville\nharrington park\nharris park\nhassall grove\nhaymarket\nheathcote\nhebersham\nheckenberg\nhenley\nhillsdale\nhinchinbrook\nhobartville\nholroyd\nholsworthy\nhomebush\nhomebush west\nhorningsea park\nhornsby\nhornsby heights\nhorsley park\nhoxton park\nhunters hill\nhuntingwood\nhuntleys cove\nhuntleys point\nhurlstone park\nhurstville\nhurstville grove\nillawong\ningleburn\ningleside\njamisontown\nkangaroo point\nkareela\nkearns\nkellyville\nkellyville ridge\nkemps creek\nkensington\nkenthurst\nkentlyn\nkillara\nkillarney heights\nkings langley\nkings park\nkingsford\nkingsgrove\nkingswood\nkingswood\nkingswood\nkirkham\nkirrawee\nkirribilli\nkogarah\nkogarah bay\nkurmond\nkurnell\nkurrajong\nkurrajong hills\nkyeemagh\nkyle bay\nla perouse\nlakemba\nlalor park\nlane cove\nlane cove north\nlane cove west\nlansdowne\nlansdowne\nlansvale\nlaughtondale\nlavender bay\nleets vale\nleichhardt\nleonay\nleppington\nlethbridge park\nleumeah\nlewisham\nliberty grove\nlidcombe\nlilli pilli\nlilli pilli\nlilyfield\nlindfield\nlinley point\nlittle bay\nliverpool\nllandilo\nloftus\nlondonderry\nlong point\nlong point\nlong point\nlongueville\nlovett bay\nlower portland\nlucas heights\nluddenham\nlugarno\nlurnea\nmacquarie fields\nmacquarie links\nmacquarie park\nmaianbar\nmalabar\nmanly\nmanly vale\nmaraylya\nmarayong\nmaroota\nmaroubra\nmarrickville\nmarsden park\nmarsfield\nmascot\nmatraville\nmays hill\nmcgraths hill\nmcmahons point\nmeadowbank\nmelrose park\nmenai\nmenangle park\nmerrylands\nmerrylands west\nmiddle cove\nmiddle dural\nmiddleton grange\nmillers point\nmilperra\nmilsons passage\nmilsons point\nminchinbury\nminto\nminto heights\nmiranda\nmona vale\nmonterey\nmoore park\nmoorebank\nmorning bay\nmortdale\nmortlake\nmosman\nmount annan\nmount colah\nmount druitt\nmount lewis\nmount lewis\nmount pritchard\nmount vernon\nmulgoa\nmulgrave\nnarellan vale\nnaremburn\nnarrabeen\nnarraweena\nnarwee\nnelson\nnelson\nneutral bay\nnewington\nnewport\nnewtown\nnormanhurst\nnorth balgowlah\nnorth bondi\nnorth curl curl\nnorth epping\nnorth manly\nnorth narrabeen\nnorth parramatta\nnorth richmond\nnorth rocks\nnorth ryde\nnorth st marys\nnorth strathfield\nnorth sydney\nnorth sydney\nnorth turramurra\nnorth willoughby\nnorth wahroonga\nnorthbridge\nnorthmead\nnorthwood\noakhurst\noakville\noatlands\noatley\nold guildford\nold toongabbie\noran park\norchard hills\noxford falls\noxley park\noyster bay\npaddington\npadstow\npadstow heights\npagewood\npalm beach\npanania\nparklea\nparramatta\npeakhurst\npeakhurst heights\npemulwuy\npendle hill\npennant hills\npenrith\npenshurst\npetersham\nphillip bay\npicnic point\npitt town\npitt town bottoms\npleasure point\nplumpton\npoint piper\nport botany\nport hacking\npotts hill\npotts point\nprairiewood\nprestons\nprospect\npunchbowl\npunchbowl\nputney\npymble\npyrmont\nquakers hill\nqueens park\nqueenscliff\nraby\nramsgate\nramsgate beach\nrandwick\nredfern\nregents park\nregentville\nrevesby\nrevesby heights\nrhodes\nrichmond\nrichmond lowlands\nriverstone\nriverview\nriverview\nriverwood\nrockdale\nrodd point\nrookwood\nrooty hill\nropes crossing\nrose bay\nrosebery\nrosehill\nroselands\nrosemeadow\nroseville\nroseville chase\nrossmore\nrouse hill\nrozelle\nruse\nrushcutters bay\nrussell lea\nrydalmere\nryde\nsackville\nsackville north\nsadleir\nsandringham\nsandy point\nsans souci\nscheyville\nschofields\nscotland island\nseaforth\nsefton\nseven hills\nshalvey\nshanes park\nsilverwater\nsilverwater\nsingletons mill\nsmeaton grange\nsmithfield\nsouth hurstville\nsouth maroota\nsouth penrith\nsouth turramurra\nsouth wentworthville\nsouth windsor\nspring farm\nst clair\nst clair\nst helens park\nst ives\nst ives chase\nst johns park\nst leonards\nst marys\nst peters\nstanhope gardens\nstanmore\nstrathfield\nstrathfield south\nsummer hill\nsummer hill\nsurry hills\nsutherland\nsydenham\nsylvania\nsylvania waters\ntamarama\ntaren point\ntelopea\ntempe\ntennyson\ntennyson point\nterrey hills\nthe ponds\nthe rocks\nthe rocks\nthe slopes\nthornleigh\ntoongabbie\ntregear\nturramurra\nturrella\nultimo\nvarroville\nvaucluse\nvillawood\nvoyager point\nwahroonga\nwaitara\nwakeley\nwallacia\nwareemba\nwarrawee\nwarriewood\nwarwick farm\nwaterfall\nwaterloo\nwatsons bay\nwattle grove\nwaverley\nwaverton\nwedderburn\nwentworthville\nwerrington\nwerrington county\nwerrington downs\nwest hoxton\nwest pennant hills\nwest pymble\nwest ryde\nwestleigh\nwestmead\nwetherill park\nwhalan\nwhale beach\nwheeler heights\nwilberforce\nwiley park\nwillmot\nwilloughby\nwilloughby east\nwindsor\nwindsor downs\nwinston hills\nwisemans ferry\nwolli creek\nwollstonecraft\nwoodbine\nwoodcroft\nwoodpark\nwoollahra\nwoolloomooloo\nwoolooware\nwoolwich\nworonora\nworonora heights\nyagoona\nyarramundi\nyarrawarrah\nyennora\nyowie bay\nzetland\n"
    }
   ],
   "source": [
    "\n",
    "sydney_demography2 = getDemography(suburb_names=SYDPC['suburb'][65:100].str.lower(), postcode_list=SYDPC['postcode'][65:100])\n",
    "\n",
    "sydney_demography3 = getDemography(suburb_names=SYDPC['suburb'][100:137].str.lower(), postcode_list=SYDPC['postcode'][100:137])\n",
    "\n",
    "sydney_demography4 = getDemography(suburb_names=SYDPC['suburb'][137:183].str.lower(), postcode_list=SYDPC['postcode'][137:183])\n",
    "\n",
    "sydney_demography5 = getDemography(suburb_names=SYDPC['suburb'][183:351].str.lower(), postcode_list=SYDPC['postcode'][183:351])\n",
    "\n",
    "sydney_demography6 = getDemography(suburb_names=SYDPC['suburb'][351:668].str.lower(), postcode_list=SYDPC['postcode'][351:668])"
   ]
  },
  {
   "cell_type": "code",
   "execution_count": 8,
   "metadata": {},
   "outputs": [
    {
     "output_type": "execute_result",
     "data": {
      "text/plain": "           suburb  postcode population       age\n0      abbotsford      2046       5366  40 to 59\n1  acacia-gardens      2763       3786  20 to 39\n2     agnes-banks      2753        919  40 to 59\n3           airds      2560       2939   5 to 19\n4      alexandria      2015       8266  20 to 39",
      "text/html": "<div>\n<style scoped>\n    .dataframe tbody tr th:only-of-type {\n        vertical-align: middle;\n    }\n\n    .dataframe tbody tr th {\n        vertical-align: top;\n    }\n\n    .dataframe thead th {\n        text-align: right;\n    }\n</style>\n<table border=\"1\" class=\"dataframe\">\n  <thead>\n    <tr style=\"text-align: right;\">\n      <th></th>\n      <th>suburb</th>\n      <th>postcode</th>\n      <th>population</th>\n      <th>age</th>\n    </tr>\n  </thead>\n  <tbody>\n    <tr>\n      <th>0</th>\n      <td>abbotsford</td>\n      <td>2046</td>\n      <td>5366</td>\n      <td>40 to 59</td>\n    </tr>\n    <tr>\n      <th>1</th>\n      <td>acacia-gardens</td>\n      <td>2763</td>\n      <td>3786</td>\n      <td>20 to 39</td>\n    </tr>\n    <tr>\n      <th>2</th>\n      <td>agnes-banks</td>\n      <td>2753</td>\n      <td>919</td>\n      <td>40 to 59</td>\n    </tr>\n    <tr>\n      <th>3</th>\n      <td>airds</td>\n      <td>2560</td>\n      <td>2939</td>\n      <td>5 to 19</td>\n    </tr>\n    <tr>\n      <th>4</th>\n      <td>alexandria</td>\n      <td>2015</td>\n      <td>8266</td>\n      <td>20 to 39</td>\n    </tr>\n  </tbody>\n</table>\n</div>"
     },
     "metadata": {},
     "execution_count": 8
    }
   ],
   "source": [
    "# Once finish, concatenate all lists as one\n",
    "sydney_demography_all = sydney_demography + sydney_demography2 + sydney_demography3 + sydney_demography4 + sydney_demography5 + sydney_demography6\n",
    "\n",
    "# Convert the list into a dataframe\n",
    "sydney_demography_list = pd.DataFrame([item for sydney_demography_all in sydney_demography_all for item in sydney_demography_all])\n",
    "sydney_demography_list.columns = ['suburb',\n",
    "                                 'postcode',\n",
    "                                 'population',\n",
    "                                 'age']\n",
    "sydney_demography_list.head()"
   ]
  },
  {
   "cell_type": "code",
   "execution_count": 9,
   "metadata": {},
   "outputs": [],
   "source": [
    "sydney_demography_list.to_csv('sydney_demography_list.csv',index = False)"
   ]
  },
  {
   "cell_type": "code",
   "execution_count": 10,
   "metadata": {},
   "outputs": [
    {
     "output_type": "execute_result",
     "data": {
      "text/plain": "  notification_date postcode lhd_2010_code         lhd_2010_name lga_code19  \\\n0        2020-01-25     2134          X700                Sydney      11300   \n1        2020-01-25     2121          X760       Northern Sydney      16260   \n2        2020-01-25     2071          X760       Northern Sydney      14500   \n3        2020-01-27     2033          X720  South Eastern Sydney      16550   \n4        2020-03-01     2163          X710  South Western Sydney      12850   \n\n        lga_name19  \n0      Burwood (A)  \n1   Parramatta (C)  \n2  Ku-ring-gai (A)  \n3     Randwick (C)  \n4    Fairfield (C)  ",
      "text/html": "<div>\n<style scoped>\n    .dataframe tbody tr th:only-of-type {\n        vertical-align: middle;\n    }\n\n    .dataframe tbody tr th {\n        vertical-align: top;\n    }\n\n    .dataframe thead th {\n        text-align: right;\n    }\n</style>\n<table border=\"1\" class=\"dataframe\">\n  <thead>\n    <tr style=\"text-align: right;\">\n      <th></th>\n      <th>notification_date</th>\n      <th>postcode</th>\n      <th>lhd_2010_code</th>\n      <th>lhd_2010_name</th>\n      <th>lga_code19</th>\n      <th>lga_name19</th>\n    </tr>\n  </thead>\n  <tbody>\n    <tr>\n      <th>0</th>\n      <td>2020-01-25</td>\n      <td>2134</td>\n      <td>X700</td>\n      <td>Sydney</td>\n      <td>11300</td>\n      <td>Burwood (A)</td>\n    </tr>\n    <tr>\n      <th>1</th>\n      <td>2020-01-25</td>\n      <td>2121</td>\n      <td>X760</td>\n      <td>Northern Sydney</td>\n      <td>16260</td>\n      <td>Parramatta (C)</td>\n    </tr>\n    <tr>\n      <th>2</th>\n      <td>2020-01-25</td>\n      <td>2071</td>\n      <td>X760</td>\n      <td>Northern Sydney</td>\n      <td>14500</td>\n      <td>Ku-ring-gai (A)</td>\n    </tr>\n    <tr>\n      <th>3</th>\n      <td>2020-01-27</td>\n      <td>2033</td>\n      <td>X720</td>\n      <td>South Eastern Sydney</td>\n      <td>16550</td>\n      <td>Randwick (C)</td>\n    </tr>\n    <tr>\n      <th>4</th>\n      <td>2020-03-01</td>\n      <td>2163</td>\n      <td>X710</td>\n      <td>South Western Sydney</td>\n      <td>12850</td>\n      <td>Fairfield (C)</td>\n    </tr>\n  </tbody>\n</table>\n</div>"
     },
     "metadata": {},
     "execution_count": 10
    }
   ],
   "source": [
    "covid19_loc = pd.read_csv('covid-19-cases-by-notification-date-and-postcode-local-health-district-and-local-government-area.csv', dtype= object)\n",
    "covid19_loc.head()"
   ]
  },
  {
   "cell_type": "code",
   "execution_count": 11,
   "metadata": {},
   "outputs": [],
   "source": [
    "cod_loc_fq = covid19_loc.loc[:,'postcode'].value_counts()"
   ]
  },
  {
   "cell_type": "code",
   "execution_count": 12,
   "metadata": {},
   "outputs": [
    {
     "output_type": "execute_result",
     "data": {
      "text/plain": "2026    113\n2747     50\n2145     42\n2088     41\n2022     37\nName: postcode, dtype: int64"
     },
     "metadata": {},
     "execution_count": 12
    }
   ],
   "source": [
    "cod_loc_fq.head()"
   ]
  },
  {
   "cell_type": "code",
   "execution_count": 17,
   "metadata": {},
   "outputs": [
    {
     "output_type": "execute_result",
     "data": {
      "text/plain": "2026    113\n2747     50\n2145     42\n2088     41\n2022     37\n       ... \n2333      1\n2063      1\n2231      1\n2630      1\n2550      1\nName: postcode, Length: 398, dtype: object"
     },
     "metadata": {},
     "execution_count": 17
    }
   ],
   "source": [
    "cod_loc_fq.astype(object)"
   ]
  },
  {
   "cell_type": "code",
   "execution_count": 19,
   "metadata": {},
   "outputs": [],
   "source": [
    "cod_loc_fq.to_csv('cod_loc_fq.csv')"
   ]
  },
  {
   "cell_type": "code",
   "execution_count": 25,
   "metadata": {},
   "outputs": [],
   "source": [
    "df_locfq = pd.read_csv('cod_loc_fq.csv', names = ['postcode','total_patient'], dtype = object)"
   ]
  },
  {
   "cell_type": "code",
   "execution_count": 26,
   "metadata": {},
   "outputs": [
    {
     "output_type": "execute_result",
     "data": {
      "text/plain": "  postcode total_patient\n0     2026           113\n1     2747            50\n2     2145            42\n3     2088            41\n4     2022            37",
      "text/html": "<div>\n<style scoped>\n    .dataframe tbody tr th:only-of-type {\n        vertical-align: middle;\n    }\n\n    .dataframe tbody tr th {\n        vertical-align: top;\n    }\n\n    .dataframe thead th {\n        text-align: right;\n    }\n</style>\n<table border=\"1\" class=\"dataframe\">\n  <thead>\n    <tr style=\"text-align: right;\">\n      <th></th>\n      <th>postcode</th>\n      <th>total_patient</th>\n    </tr>\n  </thead>\n  <tbody>\n    <tr>\n      <th>0</th>\n      <td>2026</td>\n      <td>113</td>\n    </tr>\n    <tr>\n      <th>1</th>\n      <td>2747</td>\n      <td>50</td>\n    </tr>\n    <tr>\n      <th>2</th>\n      <td>2145</td>\n      <td>42</td>\n    </tr>\n    <tr>\n      <th>3</th>\n      <td>2088</td>\n      <td>41</td>\n    </tr>\n    <tr>\n      <th>4</th>\n      <td>2022</td>\n      <td>37</td>\n    </tr>\n  </tbody>\n</table>\n</div>"
     },
     "metadata": {},
     "execution_count": 26
    }
   ],
   "source": [
    "df_locfq.head()"
   ]
  },
  {
   "cell_type": "code",
   "execution_count": 27,
   "metadata": {},
   "outputs": [],
   "source": [
    "covid19_loc = covid19_loc[covid19_loc['postcode'].notna()]"
   ]
  },
  {
   "cell_type": "code",
   "execution_count": 82,
   "metadata": {},
   "outputs": [],
   "source": [
    "SYDPC4 = pd.read_csv('SYDPC3.csv', dtype = object)"
   ]
  },
  {
   "cell_type": "code",
   "execution_count": 83,
   "metadata": {},
   "outputs": [
    {
     "output_type": "execute_result",
     "data": {
      "text/plain": "               suburb postcode         lat         lon total_patient\n647     WINDSOR DOWNS     2756  -33.667695  150.803079            12\n648     WINSTON HILLS     2153  -33.776054  150.987795            15\n649    WISEMANS FERRY     2775  -33.408879  150.980048           NaN\n650       WOLLI CREEK     2205  -33.930744  151.155272             8\n651    WOLLSTONECRAFT     2065  -33.828158  151.196621            22\n652          WOODBINE     2560  -34.049892  150.818872            19\n653         WOODCROFT     2767  -33.754986  150.879666            11\n654          WOODPARK     2164   -33.84063  150.961859             4\n655         WOOLLAHRA     2025  -33.885795   151.24413            16\n656     WOOLLOOMOOLOO     2011  -33.869283  151.220412            30\n657        WOOLOOWARE     2230  -34.048276  151.141431            25\n658          WOOLWICH     2110  -33.838393  151.172535            10\n659          WORONORA     2232  -34.020654  151.047946            18\n660  WORONORA HEIGHTS     2233  -34.034836  151.027656            13\n661           YAGOONA     2199  -33.907725  151.026108            11\n662        YARRAMUNDI     2753  -33.627259  150.672695             5\n663       YARRAWARRAH     2233  -34.058462   151.03279            13\n664           YENNORA     2161  -33.860889  150.969356             8\n665         YOWIE BAY     2228  -34.049866  151.104325             6\n666           ZETLAND     2017  -33.909938  151.206234            11",
      "text/html": "<div>\n<style scoped>\n    .dataframe tbody tr th:only-of-type {\n        vertical-align: middle;\n    }\n\n    .dataframe tbody tr th {\n        vertical-align: top;\n    }\n\n    .dataframe thead th {\n        text-align: right;\n    }\n</style>\n<table border=\"1\" class=\"dataframe\">\n  <thead>\n    <tr style=\"text-align: right;\">\n      <th></th>\n      <th>suburb</th>\n      <th>postcode</th>\n      <th>lat</th>\n      <th>lon</th>\n      <th>total_patient</th>\n    </tr>\n  </thead>\n  <tbody>\n    <tr>\n      <th>647</th>\n      <td>WINDSOR DOWNS</td>\n      <td>2756</td>\n      <td>-33.667695</td>\n      <td>150.803079</td>\n      <td>12</td>\n    </tr>\n    <tr>\n      <th>648</th>\n      <td>WINSTON HILLS</td>\n      <td>2153</td>\n      <td>-33.776054</td>\n      <td>150.987795</td>\n      <td>15</td>\n    </tr>\n    <tr>\n      <th>649</th>\n      <td>WISEMANS FERRY</td>\n      <td>2775</td>\n      <td>-33.408879</td>\n      <td>150.980048</td>\n      <td>NaN</td>\n    </tr>\n    <tr>\n      <th>650</th>\n      <td>WOLLI CREEK</td>\n      <td>2205</td>\n      <td>-33.930744</td>\n      <td>151.155272</td>\n      <td>8</td>\n    </tr>\n    <tr>\n      <th>651</th>\n      <td>WOLLSTONECRAFT</td>\n      <td>2065</td>\n      <td>-33.828158</td>\n      <td>151.196621</td>\n      <td>22</td>\n    </tr>\n    <tr>\n      <th>652</th>\n      <td>WOODBINE</td>\n      <td>2560</td>\n      <td>-34.049892</td>\n      <td>150.818872</td>\n      <td>19</td>\n    </tr>\n    <tr>\n      <th>653</th>\n      <td>WOODCROFT</td>\n      <td>2767</td>\n      <td>-33.754986</td>\n      <td>150.879666</td>\n      <td>11</td>\n    </tr>\n    <tr>\n      <th>654</th>\n      <td>WOODPARK</td>\n      <td>2164</td>\n      <td>-33.84063</td>\n      <td>150.961859</td>\n      <td>4</td>\n    </tr>\n    <tr>\n      <th>655</th>\n      <td>WOOLLAHRA</td>\n      <td>2025</td>\n      <td>-33.885795</td>\n      <td>151.24413</td>\n      <td>16</td>\n    </tr>\n    <tr>\n      <th>656</th>\n      <td>WOOLLOOMOOLOO</td>\n      <td>2011</td>\n      <td>-33.869283</td>\n      <td>151.220412</td>\n      <td>30</td>\n    </tr>\n    <tr>\n      <th>657</th>\n      <td>WOOLOOWARE</td>\n      <td>2230</td>\n      <td>-34.048276</td>\n      <td>151.141431</td>\n      <td>25</td>\n    </tr>\n    <tr>\n      <th>658</th>\n      <td>WOOLWICH</td>\n      <td>2110</td>\n      <td>-33.838393</td>\n      <td>151.172535</td>\n      <td>10</td>\n    </tr>\n    <tr>\n      <th>659</th>\n      <td>WORONORA</td>\n      <td>2232</td>\n      <td>-34.020654</td>\n      <td>151.047946</td>\n      <td>18</td>\n    </tr>\n    <tr>\n      <th>660</th>\n      <td>WORONORA HEIGHTS</td>\n      <td>2233</td>\n      <td>-34.034836</td>\n      <td>151.027656</td>\n      <td>13</td>\n    </tr>\n    <tr>\n      <th>661</th>\n      <td>YAGOONA</td>\n      <td>2199</td>\n      <td>-33.907725</td>\n      <td>151.026108</td>\n      <td>11</td>\n    </tr>\n    <tr>\n      <th>662</th>\n      <td>YARRAMUNDI</td>\n      <td>2753</td>\n      <td>-33.627259</td>\n      <td>150.672695</td>\n      <td>5</td>\n    </tr>\n    <tr>\n      <th>663</th>\n      <td>YARRAWARRAH</td>\n      <td>2233</td>\n      <td>-34.058462</td>\n      <td>151.03279</td>\n      <td>13</td>\n    </tr>\n    <tr>\n      <th>664</th>\n      <td>YENNORA</td>\n      <td>2161</td>\n      <td>-33.860889</td>\n      <td>150.969356</td>\n      <td>8</td>\n    </tr>\n    <tr>\n      <th>665</th>\n      <td>YOWIE BAY</td>\n      <td>2228</td>\n      <td>-34.049866</td>\n      <td>151.104325</td>\n      <td>6</td>\n    </tr>\n    <tr>\n      <th>666</th>\n      <td>ZETLAND</td>\n      <td>2017</td>\n      <td>-33.909938</td>\n      <td>151.206234</td>\n      <td>11</td>\n    </tr>\n  </tbody>\n</table>\n</div>"
     },
     "metadata": {},
     "execution_count": 83
    }
   ],
   "source": [
    "SYDPC4 = SYDPC4.merge(df_locfq, on = 'postcode', how = 'left')\n",
    "SYDPC4.tail(20)"
   ]
  },
  {
   "cell_type": "code",
   "execution_count": 91,
   "metadata": {},
   "outputs": [],
   "source": [
    "SYDPC4.to_csv('SYDPC4.csv', index=False)"
   ]
  },
  {
   "cell_type": "code",
   "execution_count": 76,
   "metadata": {},
   "outputs": [],
   "source": [
    "SDL = pd.read_csv('sydney_demography_list.csv')\n",
    "sydney_demography_list2 = SDL.drop([\"suburb\"], axis = 1)\n",
    "sydney_demography_list2 = SDL.drop([\"postcode\"], axis = 1)\n",
    "sydney_demography_list2.to_csv('sydney_demography_list2.csv', index=False)"
   ]
  },
  {
   "cell_type": "code",
   "execution_count": 77,
   "metadata": {},
   "outputs": [],
   "source": [
    "SDL2 = pd.read_csv('sydney_demography_list2.csv')"
   ]
  },
  {
   "cell_type": "code",
   "execution_count": 78,
   "metadata": {},
   "outputs": [],
   "source": [
    "SYDPC5 = pd.read_csv('SYDPC4.csv')"
   ]
  },
  {
   "cell_type": "code",
   "execution_count": 79,
   "metadata": {},
   "outputs": [
    {
     "output_type": "execute_result",
     "data": {
      "text/plain": "               suburb  postcode        lat         lon  total_patient\n647     WINDSOR DOWNS      2756 -33.667695  150.803079           12.0\n648     WINSTON HILLS      2153 -33.776054  150.987795           15.0\n649    WISEMANS FERRY      2775 -33.408879  150.980048            NaN\n650       WOLLI CREEK      2205 -33.930744  151.155272            8.0\n651    WOLLSTONECRAFT      2065 -33.828158  151.196621           22.0\n652          WOODBINE      2560 -34.049892  150.818872           19.0\n653         WOODCROFT      2767 -33.754986  150.879666           11.0\n654          WOODPARK      2164 -33.840630  150.961859            4.0\n655         WOOLLAHRA      2025 -33.885795  151.244130           16.0\n656     WOOLLOOMOOLOO      2011 -33.869283  151.220412           30.0\n657        WOOLOOWARE      2230 -34.048276  151.141431           25.0\n658          WOOLWICH      2110 -33.838393  151.172535           10.0\n659          WORONORA      2232 -34.020654  151.047946           18.0\n660  WORONORA HEIGHTS      2233 -34.034836  151.027656           13.0\n661           YAGOONA      2199 -33.907725  151.026108           11.0\n662        YARRAMUNDI      2753 -33.627259  150.672695            5.0\n663       YARRAWARRAH      2233 -34.058462  151.032790           13.0\n664           YENNORA      2161 -33.860889  150.969356            8.0\n665         YOWIE BAY      2228 -34.049866  151.104325            6.0\n666           ZETLAND      2017 -33.909938  151.206234           11.0",
      "text/html": "<div>\n<style scoped>\n    .dataframe tbody tr th:only-of-type {\n        vertical-align: middle;\n    }\n\n    .dataframe tbody tr th {\n        vertical-align: top;\n    }\n\n    .dataframe thead th {\n        text-align: right;\n    }\n</style>\n<table border=\"1\" class=\"dataframe\">\n  <thead>\n    <tr style=\"text-align: right;\">\n      <th></th>\n      <th>suburb</th>\n      <th>postcode</th>\n      <th>lat</th>\n      <th>lon</th>\n      <th>total_patient</th>\n    </tr>\n  </thead>\n  <tbody>\n    <tr>\n      <th>647</th>\n      <td>WINDSOR DOWNS</td>\n      <td>2756</td>\n      <td>-33.667695</td>\n      <td>150.803079</td>\n      <td>12.0</td>\n    </tr>\n    <tr>\n      <th>648</th>\n      <td>WINSTON HILLS</td>\n      <td>2153</td>\n      <td>-33.776054</td>\n      <td>150.987795</td>\n      <td>15.0</td>\n    </tr>\n    <tr>\n      <th>649</th>\n      <td>WISEMANS FERRY</td>\n      <td>2775</td>\n      <td>-33.408879</td>\n      <td>150.980048</td>\n      <td>NaN</td>\n    </tr>\n    <tr>\n      <th>650</th>\n      <td>WOLLI CREEK</td>\n      <td>2205</td>\n      <td>-33.930744</td>\n      <td>151.155272</td>\n      <td>8.0</td>\n    </tr>\n    <tr>\n      <th>651</th>\n      <td>WOLLSTONECRAFT</td>\n      <td>2065</td>\n      <td>-33.828158</td>\n      <td>151.196621</td>\n      <td>22.0</td>\n    </tr>\n    <tr>\n      <th>652</th>\n      <td>WOODBINE</td>\n      <td>2560</td>\n      <td>-34.049892</td>\n      <td>150.818872</td>\n      <td>19.0</td>\n    </tr>\n    <tr>\n      <th>653</th>\n      <td>WOODCROFT</td>\n      <td>2767</td>\n      <td>-33.754986</td>\n      <td>150.879666</td>\n      <td>11.0</td>\n    </tr>\n    <tr>\n      <th>654</th>\n      <td>WOODPARK</td>\n      <td>2164</td>\n      <td>-33.840630</td>\n      <td>150.961859</td>\n      <td>4.0</td>\n    </tr>\n    <tr>\n      <th>655</th>\n      <td>WOOLLAHRA</td>\n      <td>2025</td>\n      <td>-33.885795</td>\n      <td>151.244130</td>\n      <td>16.0</td>\n    </tr>\n    <tr>\n      <th>656</th>\n      <td>WOOLLOOMOOLOO</td>\n      <td>2011</td>\n      <td>-33.869283</td>\n      <td>151.220412</td>\n      <td>30.0</td>\n    </tr>\n    <tr>\n      <th>657</th>\n      <td>WOOLOOWARE</td>\n      <td>2230</td>\n      <td>-34.048276</td>\n      <td>151.141431</td>\n      <td>25.0</td>\n    </tr>\n    <tr>\n      <th>658</th>\n      <td>WOOLWICH</td>\n      <td>2110</td>\n      <td>-33.838393</td>\n      <td>151.172535</td>\n      <td>10.0</td>\n    </tr>\n    <tr>\n      <th>659</th>\n      <td>WORONORA</td>\n      <td>2232</td>\n      <td>-34.020654</td>\n      <td>151.047946</td>\n      <td>18.0</td>\n    </tr>\n    <tr>\n      <th>660</th>\n      <td>WORONORA HEIGHTS</td>\n      <td>2233</td>\n      <td>-34.034836</td>\n      <td>151.027656</td>\n      <td>13.0</td>\n    </tr>\n    <tr>\n      <th>661</th>\n      <td>YAGOONA</td>\n      <td>2199</td>\n      <td>-33.907725</td>\n      <td>151.026108</td>\n      <td>11.0</td>\n    </tr>\n    <tr>\n      <th>662</th>\n      <td>YARRAMUNDI</td>\n      <td>2753</td>\n      <td>-33.627259</td>\n      <td>150.672695</td>\n      <td>5.0</td>\n    </tr>\n    <tr>\n      <th>663</th>\n      <td>YARRAWARRAH</td>\n      <td>2233</td>\n      <td>-34.058462</td>\n      <td>151.032790</td>\n      <td>13.0</td>\n    </tr>\n    <tr>\n      <th>664</th>\n      <td>YENNORA</td>\n      <td>2161</td>\n      <td>-33.860889</td>\n      <td>150.969356</td>\n      <td>8.0</td>\n    </tr>\n    <tr>\n      <th>665</th>\n      <td>YOWIE BAY</td>\n      <td>2228</td>\n      <td>-34.049866</td>\n      <td>151.104325</td>\n      <td>6.0</td>\n    </tr>\n    <tr>\n      <th>666</th>\n      <td>ZETLAND</td>\n      <td>2017</td>\n      <td>-33.909938</td>\n      <td>151.206234</td>\n      <td>11.0</td>\n    </tr>\n  </tbody>\n</table>\n</div>"
     },
     "metadata": {},
     "execution_count": 79
    }
   ],
   "source": [
    "SYDPC5.tail(20)"
   ]
  },
  {
   "cell_type": "code",
   "execution_count": 80,
   "metadata": {},
   "outputs": [],
   "source": [
    "SYDPC5['index'] = [i for i in range(len(SYDPC5))]\n",
    "SDL2['index'] = [i for i in range(len(SDL))]"
   ]
  },
  {
   "cell_type": "code",
   "execution_count": 81,
   "metadata": {},
   "outputs": [],
   "source": [
    "SYDPC5 =  pd.merge(SYDPC5, SDL2, left_on = 'index', right_on = 'index', how = 'outer')"
   ]
  },
  {
   "cell_type": "code",
   "execution_count": 83,
   "metadata": {
    "tags": []
   },
   "outputs": [],
   "source": [
    "SYDPC5 = SYDPC5.drop(['index'], axis = 1)"
   ]
  },
  {
   "cell_type": "code",
   "execution_count": 84,
   "metadata": {},
   "outputs": [
    {
     "output_type": "execute_result",
     "data": {
      "text/plain": "          suburb  postcode        lat         lon  total_patient  population  \\\n662   YARRAMUNDI      2753 -33.627259  150.672695            5.0       828.0   \n663  YARRAWARRAH      2233 -34.058462  151.032790           13.0      2726.0   \n664      YENNORA      2161 -33.860889  150.969356            8.0      1616.0   \n665    YOWIE BAY      2228 -34.049866  151.104325            6.0      3095.0   \n666      ZETLAND      2017 -33.909938  151.206234           11.0     10071.0   \n\n          age  \n662  40 to 59  \n663  40 to 59  \n664       60+  \n665  40 to 59  \n666  20 to 39  ",
      "text/html": "<div>\n<style scoped>\n    .dataframe tbody tr th:only-of-type {\n        vertical-align: middle;\n    }\n\n    .dataframe tbody tr th {\n        vertical-align: top;\n    }\n\n    .dataframe thead th {\n        text-align: right;\n    }\n</style>\n<table border=\"1\" class=\"dataframe\">\n  <thead>\n    <tr style=\"text-align: right;\">\n      <th></th>\n      <th>suburb</th>\n      <th>postcode</th>\n      <th>lat</th>\n      <th>lon</th>\n      <th>total_patient</th>\n      <th>population</th>\n      <th>age</th>\n    </tr>\n  </thead>\n  <tbody>\n    <tr>\n      <th>662</th>\n      <td>YARRAMUNDI</td>\n      <td>2753</td>\n      <td>-33.627259</td>\n      <td>150.672695</td>\n      <td>5.0</td>\n      <td>828.0</td>\n      <td>40 to 59</td>\n    </tr>\n    <tr>\n      <th>663</th>\n      <td>YARRAWARRAH</td>\n      <td>2233</td>\n      <td>-34.058462</td>\n      <td>151.032790</td>\n      <td>13.0</td>\n      <td>2726.0</td>\n      <td>40 to 59</td>\n    </tr>\n    <tr>\n      <th>664</th>\n      <td>YENNORA</td>\n      <td>2161</td>\n      <td>-33.860889</td>\n      <td>150.969356</td>\n      <td>8.0</td>\n      <td>1616.0</td>\n      <td>60+</td>\n    </tr>\n    <tr>\n      <th>665</th>\n      <td>YOWIE BAY</td>\n      <td>2228</td>\n      <td>-34.049866</td>\n      <td>151.104325</td>\n      <td>6.0</td>\n      <td>3095.0</td>\n      <td>40 to 59</td>\n    </tr>\n    <tr>\n      <th>666</th>\n      <td>ZETLAND</td>\n      <td>2017</td>\n      <td>-33.909938</td>\n      <td>151.206234</td>\n      <td>11.0</td>\n      <td>10071.0</td>\n      <td>20 to 39</td>\n    </tr>\n  </tbody>\n</table>\n</div>"
     },
     "metadata": {},
     "execution_count": 84
    }
   ],
   "source": [
    "SYDPC5.tail()"
   ]
  },
  {
   "cell_type": "code",
   "execution_count": 8,
   "metadata": {
    "tags": []
   },
   "outputs": [],
   "source": [
    "cov_age = pd.read_csv('covid-19-cases-by-notification-date-and-age-range.csv')\n",
    "cov_age['age_group'] = cov_age['age_group'].str.replace('AgeGroup_', '')"
   ]
  },
  {
   "cell_type": "code",
   "execution_count": 9,
   "metadata": {},
   "outputs": [
    {
     "output_type": "execute_result",
     "data": {
      "text/plain": "  notification_date age_group\n0        2020-03-09     10-14\n1        2020-03-09     20-24\n2        2020-03-09     25-29\n3        2020-03-09     35-39\n4        2020-03-09     35-39",
      "text/html": "<div>\n<style scoped>\n    .dataframe tbody tr th:only-of-type {\n        vertical-align: middle;\n    }\n\n    .dataframe tbody tr th {\n        vertical-align: top;\n    }\n\n    .dataframe thead th {\n        text-align: right;\n    }\n</style>\n<table border=\"1\" class=\"dataframe\">\n  <thead>\n    <tr style=\"text-align: right;\">\n      <th></th>\n      <th>notification_date</th>\n      <th>age_group</th>\n    </tr>\n  </thead>\n  <tbody>\n    <tr>\n      <th>0</th>\n      <td>2020-03-09</td>\n      <td>10-14</td>\n    </tr>\n    <tr>\n      <th>1</th>\n      <td>2020-03-09</td>\n      <td>20-24</td>\n    </tr>\n    <tr>\n      <th>2</th>\n      <td>2020-03-09</td>\n      <td>25-29</td>\n    </tr>\n    <tr>\n      <th>3</th>\n      <td>2020-03-09</td>\n      <td>35-39</td>\n    </tr>\n    <tr>\n      <th>4</th>\n      <td>2020-03-09</td>\n      <td>35-39</td>\n    </tr>\n  </tbody>\n</table>\n</div>"
     },
     "metadata": {},
     "execution_count": 9
    }
   ],
   "source": [
    "cov_age.head()"
   ]
  },
  {
   "cell_type": "code",
   "execution_count": 10,
   "metadata": {},
   "outputs": [
    {
     "output_type": "execute_result",
     "data": {
      "text/plain": "70+      447\n25-29    349\n20-24    281\n30-34    280\n60-64    259\n55-59    216\n50-54    213\n35-39    209\n45-49    207\n65-69    207\n40-44    158\n15-19     63\n10-14     25\n0-4       18\n5-9       12\nName: age_group, dtype: int64"
     },
     "metadata": {},
     "execution_count": 10
    }
   ],
   "source": [
    "cov_age.loc[:,'age_group'].value_counts()"
   ]
  },
  {
   "cell_type": "code",
   "execution_count": 85,
   "metadata": {},
   "outputs": [
    {
     "output_type": "execute_result",
     "data": {
      "text/plain": "20 to 39    300\n40 to 59    282\n60+          64\n5 to 19       8\nName: age, dtype: int64"
     },
     "metadata": {},
     "execution_count": 85
    }
   ],
   "source": [
    "SYDPC5.loc[:,'age'].value_counts()"
   ]
  },
  {
   "cell_type": "code",
   "execution_count": 86,
   "metadata": {},
   "outputs": [],
   "source": [
    "SYDPC5.to_csv('SYDPC5.csv', index=False)"
   ]
  },
  {
   "cell_type": "code",
   "execution_count": null,
   "metadata": {},
   "outputs": [],
   "source": [
    "#By  manually checking the file, I deleted some duplicated suburb(same name but different coordinates) and searching for population data to fill in the blank."
   ]
  },
  {
   "cell_type": "code",
   "execution_count": 4,
   "metadata": {},
   "outputs": [],
   "source": [
    "SYDPC6 = pd.read_csv('SYDPC5.csv')"
   ]
  },
  {
   "cell_type": "code",
   "execution_count": 5,
   "metadata": {},
   "outputs": [],
   "source": [
    "SYDPC6['age'] = SYDPC6['age'].str.replace('40 to 59', 'mid-age')"
   ]
  },
  {
   "cell_type": "code",
   "execution_count": 6,
   "metadata": {},
   "outputs": [],
   "source": [
    "SYDPC6['age'] = SYDPC6['age'].str.replace('20 to 39', 'adult')\n",
    "SYDPC6['age'] = SYDPC6['age'].str.replace('60+', 'senior')\n",
    "SYDPC6['age'] = SYDPC6['age'].str.replace('5 to 19', 'young')"
   ]
  },
  {
   "cell_type": "code",
   "execution_count": null,
   "metadata": {},
   "outputs": [],
   "source": [
    "#make a map for population, patient number and age group based on existed data"
   ]
  },
  {
   "cell_type": "code",
   "execution_count": 197,
   "metadata": {},
   "outputs": [],
   "source": [
    "#population map\n",
    "SYD_lat = -33.865143\n",
    "SYD_lon = 151.209900\n",
    "population_map = folium.Map(location= [SYD_lat, SYD_lon], zoom_start=10, tiles='cartodbpositron' )\n",
    "bins = list(range(0,50000,7000))\n",
    "population_map.choropleth(geo_data = NSW_data, data=SYDPC6, columns=['suburb','population'],key_on = 'feature.properties.nsw_loca_2',fill_color='BuGn', \n",
    "    fill_opacity=0.7, \n",
    "    line_opacity=0.9,\n",
    "    legend_name='Population by Suburb',\n",
    "    bins=bins,\n",
    "    reset=True)\n",
    "population_map.save(os.path.join('C:/Users/user/Desktop/test', 'SYD_demography.html'))"
   ]
  },
  {
   "cell_type": "code",
   "execution_count": 226,
   "metadata": {},
   "outputs": [],
   "source": [
    "#patient number map\n",
    "SYD_lat = -33.865143\n",
    "SYD_lon = 151.209900\n",
    "population_map = folium.Map(location= [SYD_lat, SYD_lon], zoom_start=10, tiles='cartodbpositron' )\n",
    "bins = [0,10,20,30,40,50,100,120]\n",
    "population_map.choropleth(geo_data = NSW_data, data=SYDPC6, columns=['suburb','total_patient'],key_on = 'feature.properties.nsw_loca_2',fill_color='YlOrRd', \n",
    "    fill_opacity=0.7, \n",
    "    line_opacity=0.9,\n",
    "    legend_name='Patient by Suburb',\n",
    "    bins=bins,\n",
    "    reset=True)\n",
    "population_map.save(os.path.join('C:/Users/user/Desktop/test', 'SYD_demography2.html'))"
   ]
  },
  {
   "cell_type": "code",
   "execution_count": 7,
   "metadata": {},
   "outputs": [],
   "source": [
    "#We need to create a new column that indicates age range for making the age map case. \n",
    "SYDPC6['AM'] = SYDPC6['age'].map({'young':9, 'adult':29,'mid-age':49,'senior+':69})"
   ]
  },
  {
   "cell_type": "code",
   "execution_count": 230,
   "metadata": {},
   "outputs": [],
   "source": [
    "#age group map\n",
    "SYD_lat = -33.865143\n",
    "SYD_lon = 151.209900\n",
    "population_map = folium.Map(location= [SYD_lat, SYD_lon], zoom_start=10, tiles='cartodbpositron' )\n",
    "bins = [5,20,40,60,100]\n",
    "population_map.choropleth(geo_data = NSW_data, data=SYDPC6, columns=['suburb','AM'],key_on = 'feature.properties.nsw_loca_2',fill_color='BuPu', \n",
    "    fill_opacity=0.7, \n",
    "    line_opacity=0.9,\n",
    "    legend_name='Patient by Suburb',\n",
    "    bins=bins,\n",
    "    reset=True)\n",
    "population_map.save(os.path.join('C:/Users/user/Desktop/test', 'SYD_demography3.html'))"
   ]
  },
  {
   "cell_type": "code",
   "execution_count": 8,
   "metadata": {},
   "outputs": [
    {
     "output_type": "execute_result",
     "data": {
      "text/plain": "          suburb  postcode        lat         lon  total_patient  population  \\\n660   YARRAMUNDI      2753 -33.627259  150.672695              5         828   \n661  YARRAWARRAH      2233 -34.058462  151.032790             13        2726   \n662      YENNORA      2161 -33.860889  150.969356              8        1616   \n663    YOWIE BAY      2228 -34.049866  151.104325              6        3095   \n664      ZETLAND      2017 -33.909938  151.206234             11       10071   \n\n         age  AM  \n660  mid-age  49  \n661  mid-age  49  \n662  senior+  69  \n663  mid-age  49  \n664    adult  29  ",
      "text/html": "<div>\n<style scoped>\n    .dataframe tbody tr th:only-of-type {\n        vertical-align: middle;\n    }\n\n    .dataframe tbody tr th {\n        vertical-align: top;\n    }\n\n    .dataframe thead th {\n        text-align: right;\n    }\n</style>\n<table border=\"1\" class=\"dataframe\">\n  <thead>\n    <tr style=\"text-align: right;\">\n      <th></th>\n      <th>suburb</th>\n      <th>postcode</th>\n      <th>lat</th>\n      <th>lon</th>\n      <th>total_patient</th>\n      <th>population</th>\n      <th>age</th>\n      <th>AM</th>\n    </tr>\n  </thead>\n  <tbody>\n    <tr>\n      <th>660</th>\n      <td>YARRAMUNDI</td>\n      <td>2753</td>\n      <td>-33.627259</td>\n      <td>150.672695</td>\n      <td>5</td>\n      <td>828</td>\n      <td>mid-age</td>\n      <td>49</td>\n    </tr>\n    <tr>\n      <th>661</th>\n      <td>YARRAWARRAH</td>\n      <td>2233</td>\n      <td>-34.058462</td>\n      <td>151.032790</td>\n      <td>13</td>\n      <td>2726</td>\n      <td>mid-age</td>\n      <td>49</td>\n    </tr>\n    <tr>\n      <th>662</th>\n      <td>YENNORA</td>\n      <td>2161</td>\n      <td>-33.860889</td>\n      <td>150.969356</td>\n      <td>8</td>\n      <td>1616</td>\n      <td>senior+</td>\n      <td>69</td>\n    </tr>\n    <tr>\n      <th>663</th>\n      <td>YOWIE BAY</td>\n      <td>2228</td>\n      <td>-34.049866</td>\n      <td>151.104325</td>\n      <td>6</td>\n      <td>3095</td>\n      <td>mid-age</td>\n      <td>49</td>\n    </tr>\n    <tr>\n      <th>664</th>\n      <td>ZETLAND</td>\n      <td>2017</td>\n      <td>-33.909938</td>\n      <td>151.206234</td>\n      <td>11</td>\n      <td>10071</td>\n      <td>adult</td>\n      <td>29</td>\n    </tr>\n  </tbody>\n</table>\n</div>"
     },
     "metadata": {},
     "execution_count": 8
    }
   ],
   "source": [
    "SYDPC6.tail()"
   ]
  },
  {
   "cell_type": "code",
   "execution_count": 9,
   "metadata": {},
   "outputs": [],
   "source": [
    "SYDPC6.to_csv('SYDPC6.csv', index = False)"
   ]
  },
  {
   "cell_type": "code",
   "execution_count": 43,
   "metadata": {},
   "outputs": [
    {
     "output_type": "execute_result",
     "data": {
      "text/plain": "     age frequency\n0    70+       447\n1  25-29       349\n2  20-24       281\n3  30-34       280\n4  60-64       259",
      "text/html": "<div>\n<style scoped>\n    .dataframe tbody tr th:only-of-type {\n        vertical-align: middle;\n    }\n\n    .dataframe tbody tr th {\n        vertical-align: top;\n    }\n\n    .dataframe thead th {\n        text-align: right;\n    }\n</style>\n<table border=\"1\" class=\"dataframe\">\n  <thead>\n    <tr style=\"text-align: right;\">\n      <th></th>\n      <th>age</th>\n      <th>frequency</th>\n    </tr>\n  </thead>\n  <tbody>\n    <tr>\n      <th>0</th>\n      <td>70+</td>\n      <td>447</td>\n    </tr>\n    <tr>\n      <th>1</th>\n      <td>25-29</td>\n      <td>349</td>\n    </tr>\n    <tr>\n      <th>2</th>\n      <td>20-24</td>\n      <td>281</td>\n    </tr>\n    <tr>\n      <th>3</th>\n      <td>30-34</td>\n      <td>280</td>\n    </tr>\n    <tr>\n      <th>4</th>\n      <td>60-64</td>\n      <td>259</td>\n    </tr>\n  </tbody>\n</table>\n</div>"
     },
     "metadata": {},
     "execution_count": 43
    }
   ],
   "source": [
    "cov_age_fq = cov_age.loc[:,'age_group'].value_counts()\n",
    "heading = ['age','frequency']\n",
    "cov_age_fq.to_csv('cov_age_fq.csv')\n",
    "cov_age_fq = pd.read_csv('cov_age_fq.csv', header = None, skiprows = 1, names = heading, dtype = str)\n",
    "cov_age_fq.head()"
   ]
  },
  {
   "cell_type": "code",
   "execution_count": 47,
   "metadata": {},
   "outputs": [
    {
     "output_type": "execute_result",
     "data": {
      "text/plain": "        age frequency\n0   senior+       447\n1     adult       349\n2     adult       281\n3     adult       280\n4    senior       259\n5     55-59       216\n6     50-54       213\n7     adult       209\n8     45-49       207\n9    senior       207\n10  4young4       158\n11    young        63\n12    young        25\n13    young        18\n14    young        12",
      "text/html": "<div>\n<style scoped>\n    .dataframe tbody tr th:only-of-type {\n        vertical-align: middle;\n    }\n\n    .dataframe tbody tr th {\n        vertical-align: top;\n    }\n\n    .dataframe thead th {\n        text-align: right;\n    }\n</style>\n<table border=\"1\" class=\"dataframe\">\n  <thead>\n    <tr style=\"text-align: right;\">\n      <th></th>\n      <th>age</th>\n      <th>frequency</th>\n    </tr>\n  </thead>\n  <tbody>\n    <tr>\n      <th>0</th>\n      <td>senior+</td>\n      <td>447</td>\n    </tr>\n    <tr>\n      <th>1</th>\n      <td>adult</td>\n      <td>349</td>\n    </tr>\n    <tr>\n      <th>2</th>\n      <td>adult</td>\n      <td>281</td>\n    </tr>\n    <tr>\n      <th>3</th>\n      <td>adult</td>\n      <td>280</td>\n    </tr>\n    <tr>\n      <th>4</th>\n      <td>senior</td>\n      <td>259</td>\n    </tr>\n    <tr>\n      <th>5</th>\n      <td>55-59</td>\n      <td>216</td>\n    </tr>\n    <tr>\n      <th>6</th>\n      <td>50-54</td>\n      <td>213</td>\n    </tr>\n    <tr>\n      <th>7</th>\n      <td>adult</td>\n      <td>209</td>\n    </tr>\n    <tr>\n      <th>8</th>\n      <td>45-49</td>\n      <td>207</td>\n    </tr>\n    <tr>\n      <th>9</th>\n      <td>senior</td>\n      <td>207</td>\n    </tr>\n    <tr>\n      <th>10</th>\n      <td>4young4</td>\n      <td>158</td>\n    </tr>\n    <tr>\n      <th>11</th>\n      <td>young</td>\n      <td>63</td>\n    </tr>\n    <tr>\n      <th>12</th>\n      <td>young</td>\n      <td>25</td>\n    </tr>\n    <tr>\n      <th>13</th>\n      <td>young</td>\n      <td>18</td>\n    </tr>\n    <tr>\n      <th>14</th>\n      <td>young</td>\n      <td>12</td>\n    </tr>\n  </tbody>\n</table>\n</div>"
     },
     "metadata": {},
     "execution_count": 47
    }
   ],
   "source": [
    "cov_age_fq['age'] = cov_age_fq['age'].str.replace('70+', 'senior')\n",
    "cov_age_fq['age'] = cov_age_fq['age'].str.replace('65-69', 'senior')\n",
    "cov_age_fq['age'] = cov_age_fq['age'].str.replace('60-64', 'senior')\n",
    "cov_age_fq.head(20)"
   ]
  },
  {
   "cell_type": "code",
   "execution_count": 45,
   "metadata": {},
   "outputs": [
    {
     "output_type": "execute_result",
     "data": {
      "text/plain": "        age frequency\n0   senior+       447\n1     adult       349\n2     adult       281\n3     adult       280\n4    senior       259\n5     55-59       216\n6     50-54       213\n7     adult       209\n8     45-49       207\n9    senior       207\n10  4young4       158\n11    young        63\n12    young        25\n13    young        18\n14    young        12",
      "text/html": "<div>\n<style scoped>\n    .dataframe tbody tr th:only-of-type {\n        vertical-align: middle;\n    }\n\n    .dataframe tbody tr th {\n        vertical-align: top;\n    }\n\n    .dataframe thead th {\n        text-align: right;\n    }\n</style>\n<table border=\"1\" class=\"dataframe\">\n  <thead>\n    <tr style=\"text-align: right;\">\n      <th></th>\n      <th>age</th>\n      <th>frequency</th>\n    </tr>\n  </thead>\n  <tbody>\n    <tr>\n      <th>0</th>\n      <td>senior+</td>\n      <td>447</td>\n    </tr>\n    <tr>\n      <th>1</th>\n      <td>adult</td>\n      <td>349</td>\n    </tr>\n    <tr>\n      <th>2</th>\n      <td>adult</td>\n      <td>281</td>\n    </tr>\n    <tr>\n      <th>3</th>\n      <td>adult</td>\n      <td>280</td>\n    </tr>\n    <tr>\n      <th>4</th>\n      <td>senior</td>\n      <td>259</td>\n    </tr>\n    <tr>\n      <th>5</th>\n      <td>55-59</td>\n      <td>216</td>\n    </tr>\n    <tr>\n      <th>6</th>\n      <td>50-54</td>\n      <td>213</td>\n    </tr>\n    <tr>\n      <th>7</th>\n      <td>adult</td>\n      <td>209</td>\n    </tr>\n    <tr>\n      <th>8</th>\n      <td>45-49</td>\n      <td>207</td>\n    </tr>\n    <tr>\n      <th>9</th>\n      <td>senior</td>\n      <td>207</td>\n    </tr>\n    <tr>\n      <th>10</th>\n      <td>4young4</td>\n      <td>158</td>\n    </tr>\n    <tr>\n      <th>11</th>\n      <td>young</td>\n      <td>63</td>\n    </tr>\n    <tr>\n      <th>12</th>\n      <td>young</td>\n      <td>25</td>\n    </tr>\n    <tr>\n      <th>13</th>\n      <td>young</td>\n      <td>18</td>\n    </tr>\n    <tr>\n      <th>14</th>\n      <td>young</td>\n      <td>12</td>\n    </tr>\n  </tbody>\n</table>\n</div>"
     },
     "metadata": {},
     "execution_count": 45
    }
   ],
   "source": [
    "cov_age_fq['age'] = cov_age_fq['age'].str.replace('35-39', 'adult')\n",
    "cov_age_fq['age'] = cov_age_fq['age'].str.replace('30-34', 'adult')\n",
    "cov_age_fq['age'] = cov_age_fq['age'].str.replace('25-29', 'adult')\n",
    "cov_age_fq['age'] = cov_age_fq['age'].str.replace('20-24', 'adult')\n",
    "cov_age_fq['age'] = cov_age_fq['age'].str.replace('15-19', 'young')\n",
    "cov_age_fq['age'] = cov_age_fq['age'].str.replace('10-14', 'young')\n",
    "cov_age_fq['age'] = cov_age_fq['age'].str.replace('5-9', 'young')\n",
    "cov_age_fq['age'] = cov_age_fq['age'].str.replace('0-4', 'young')\n",
    "cov_age_fq.head(20)"
   ]
  },
  {
   "cell_type": "code",
   "execution_count": 48,
   "metadata": {},
   "outputs": [],
   "source": [
    "cov_age_fq['age'] = cov_age_fq['age'].str.replace('55-59', 'mid-age')"
   ]
  },
  {
   "cell_type": "code",
   "execution_count": 49,
   "metadata": {},
   "outputs": [],
   "source": [
    "cov_age_fq['age'] = cov_age_fq['age'].str.replace('50-54', 'mid-age')"
   ]
  },
  {
   "cell_type": "code",
   "execution_count": 50,
   "metadata": {},
   "outputs": [],
   "source": [
    "cov_age_fq['age'] = cov_age_fq['age'].str.replace('45-49', 'mid-age')\n"
   ]
  },
  {
   "cell_type": "code",
   "execution_count": 51,
   "metadata": {},
   "outputs": [],
   "source": [
    "cov_age_fq['age'] = cov_age_fq['age'].str.replace('4young4', 'mid-age')"
   ]
  },
  {
   "cell_type": "code",
   "execution_count": 52,
   "metadata": {},
   "outputs": [
    {
     "output_type": "execute_result",
     "data": {
      "text/plain": "        age frequency\n0   senior+       447\n1     adult       349\n2     adult       281\n3     adult       280\n4    senior       259\n5   mid-age       216\n6   mid-age       213\n7     adult       209\n8   mid-age       207\n9    senior       207\n10  mid-age       158\n11    young        63\n12    young        25\n13    young        18\n14    young        12",
      "text/html": "<div>\n<style scoped>\n    .dataframe tbody tr th:only-of-type {\n        vertical-align: middle;\n    }\n\n    .dataframe tbody tr th {\n        vertical-align: top;\n    }\n\n    .dataframe thead th {\n        text-align: right;\n    }\n</style>\n<table border=\"1\" class=\"dataframe\">\n  <thead>\n    <tr style=\"text-align: right;\">\n      <th></th>\n      <th>age</th>\n      <th>frequency</th>\n    </tr>\n  </thead>\n  <tbody>\n    <tr>\n      <th>0</th>\n      <td>senior+</td>\n      <td>447</td>\n    </tr>\n    <tr>\n      <th>1</th>\n      <td>adult</td>\n      <td>349</td>\n    </tr>\n    <tr>\n      <th>2</th>\n      <td>adult</td>\n      <td>281</td>\n    </tr>\n    <tr>\n      <th>3</th>\n      <td>adult</td>\n      <td>280</td>\n    </tr>\n    <tr>\n      <th>4</th>\n      <td>senior</td>\n      <td>259</td>\n    </tr>\n    <tr>\n      <th>5</th>\n      <td>mid-age</td>\n      <td>216</td>\n    </tr>\n    <tr>\n      <th>6</th>\n      <td>mid-age</td>\n      <td>213</td>\n    </tr>\n    <tr>\n      <th>7</th>\n      <td>adult</td>\n      <td>209</td>\n    </tr>\n    <tr>\n      <th>8</th>\n      <td>mid-age</td>\n      <td>207</td>\n    </tr>\n    <tr>\n      <th>9</th>\n      <td>senior</td>\n      <td>207</td>\n    </tr>\n    <tr>\n      <th>10</th>\n      <td>mid-age</td>\n      <td>158</td>\n    </tr>\n    <tr>\n      <th>11</th>\n      <td>young</td>\n      <td>63</td>\n    </tr>\n    <tr>\n      <th>12</th>\n      <td>young</td>\n      <td>25</td>\n    </tr>\n    <tr>\n      <th>13</th>\n      <td>young</td>\n      <td>18</td>\n    </tr>\n    <tr>\n      <th>14</th>\n      <td>young</td>\n      <td>12</td>\n    </tr>\n  </tbody>\n</table>\n</div>"
     },
     "metadata": {},
     "execution_count": 52
    }
   ],
   "source": [
    "cov_age_fq.head(20)"
   ]
  },
  {
   "cell_type": "code",
   "execution_count": 61,
   "metadata": {},
   "outputs": [],
   "source": [
    "cov_age_fq.to_csv('cov_age_fq.csv', index = False)"
   ]
  },
  {
   "cell_type": "code",
   "execution_count": 66,
   "metadata": {},
   "outputs": [],
   "source": [
    "cov_age_fq = pd.read_csv('cov_age_fq.csv')"
   ]
  },
  {
   "cell_type": "code",
   "execution_count": 73,
   "metadata": {},
   "outputs": [],
   "source": [
    "cov_age_fq = cov_age_fq.groupby('age').sum()"
   ]
  },
  {
   "cell_type": "code",
   "execution_count": 75,
   "metadata": {},
   "outputs": [
    {
     "output_type": "execute_result",
     "data": {
      "text/plain": "         frequency\nage               \nadult         1119\nmid-age        794\nsenior         913\nyoung          118",
      "text/html": "<div>\n<style scoped>\n    .dataframe tbody tr th:only-of-type {\n        vertical-align: middle;\n    }\n\n    .dataframe tbody tr th {\n        vertical-align: top;\n    }\n\n    .dataframe thead th {\n        text-align: right;\n    }\n</style>\n<table border=\"1\" class=\"dataframe\">\n  <thead>\n    <tr style=\"text-align: right;\">\n      <th></th>\n      <th>frequency</th>\n    </tr>\n    <tr>\n      <th>age</th>\n      <th></th>\n    </tr>\n  </thead>\n  <tbody>\n    <tr>\n      <th>adult</th>\n      <td>1119</td>\n    </tr>\n    <tr>\n      <th>mid-age</th>\n      <td>794</td>\n    </tr>\n    <tr>\n      <th>senior</th>\n      <td>913</td>\n    </tr>\n    <tr>\n      <th>young</th>\n      <td>118</td>\n    </tr>\n  </tbody>\n</table>\n</div>"
     },
     "metadata": {},
     "execution_count": 75
    }
   ],
   "source": [
    "cov_age_fq.head()"
   ]
  },
  {
   "cell_type": "markdown",
   "metadata": {},
   "source": [
    "#before digging the age group data of Sydney's covid-19 patient, I was expecting an age-related result. (probability elder people has been infected more than mid-age or adult) However, the result suggest that except for young, the covid-19 virus has similar ability to infect people of other ages. As a result, the infection rate of young, adult, mid-age, and senior is 4%, 38%, 27%, and 31%. "
   ]
  },
  {
   "cell_type": "markdown",
   "metadata": {},
   "source": [
    "#For the study of infectious diseases, there are usually four models, and SI model, SIR model, SIRS model, and SEIR model. S stands for susceptible people, I stands for infected people, R stands for patients with recovery and antibodies, and E stands for exposed people.\n",
    "#Next, I'm going to study the correlation between patient number and population, see if there exist a positive correlate (more population means more patient)."
   ]
  },
  {
   "cell_type": "code",
   "execution_count": 70,
   "metadata": {},
   "outputs": [
    {
     "output_type": "execute_result",
     "data": {
      "text/plain": "suburb           object\npostcode         object\nlat              object\nlon              object\ntotal_patient    object\npopulation       object\nage              object\ndtype: object"
     },
     "metadata": {},
     "execution_count": 70
    }
   ],
   "source": [
    "SYDPC6.dtypes"
   ]
  },
  {
   "cell_type": "code",
   "execution_count": 93,
   "metadata": {},
   "outputs": [],
   "source": [
    "SYDPC6['population'] = SYDPC6.population.astype(float)"
   ]
  },
  {
   "cell_type": "code",
   "execution_count": 94,
   "metadata": {},
   "outputs": [],
   "source": [
    "SYDPC6['population'] = SYDPC6.population.replace('',np.nan)"
   ]
  },
  {
   "cell_type": "code",
   "execution_count": 95,
   "metadata": {},
   "outputs": [],
   "source": [
    "SYDPC6['total_patient'] = SYDPC6.total_patient.astype(float)"
   ]
  },
  {
   "cell_type": "code",
   "execution_count": 96,
   "metadata": {},
   "outputs": [],
   "source": [
    "SYDPC6['total_patient'] = SYDPC6.total_patient.replace('',np.nan)"
   ]
  },
  {
   "cell_type": "code",
   "execution_count": 97,
   "metadata": {},
   "outputs": [
    {
     "output_type": "execute_result",
     "data": {
      "text/plain": "             suburb postcode                  lat                 lon  \\\n0        ABBOTSBURY     2176           -33.877538  150.86776799999998   \n1        ABBOTSFORD     2046           -33.852469          151.129453   \n2    ACACIA GARDENS     2763           -33.730077          150.906502   \n3       AGNES BANKS     2753  -33.618877000000005          150.707372   \n4             AIRDS     2560           -34.084468          150.829041   \n..              ...      ...                  ...                 ...   \n662      YARRAMUNDI     2753           -33.627259          150.672695   \n663     YARRAWARRAH     2233           -34.058462  151.03278999999998   \n664         YENNORA     2161           -33.860889          150.969356   \n665       YOWIE BAY     2228  -34.049865999999994          151.104325   \n666         ZETLAND     2017  -33.909938000000004          151.206234   \n\n     total_patient  population      age  \n0             18.0      4242.0  mid-age  \n1             14.0      5366.0  mid-age  \n2             17.0      3786.0    adult  \n3              5.0       919.0  mid-age  \n4             19.0      2939.0    young  \n..             ...         ...      ...  \n662            5.0       828.0  mid-age  \n663           13.0      2726.0  mid-age  \n664            8.0      1616.0  senior+  \n665            6.0      3095.0  mid-age  \n666           11.0     10071.0    adult  \n\n[611 rows x 7 columns]",
      "text/html": "<div>\n<style scoped>\n    .dataframe tbody tr th:only-of-type {\n        vertical-align: middle;\n    }\n\n    .dataframe tbody tr th {\n        vertical-align: top;\n    }\n\n    .dataframe thead th {\n        text-align: right;\n    }\n</style>\n<table border=\"1\" class=\"dataframe\">\n  <thead>\n    <tr style=\"text-align: right;\">\n      <th></th>\n      <th>suburb</th>\n      <th>postcode</th>\n      <th>lat</th>\n      <th>lon</th>\n      <th>total_patient</th>\n      <th>population</th>\n      <th>age</th>\n    </tr>\n  </thead>\n  <tbody>\n    <tr>\n      <th>0</th>\n      <td>ABBOTSBURY</td>\n      <td>2176</td>\n      <td>-33.877538</td>\n      <td>150.86776799999998</td>\n      <td>18.0</td>\n      <td>4242.0</td>\n      <td>mid-age</td>\n    </tr>\n    <tr>\n      <th>1</th>\n      <td>ABBOTSFORD</td>\n      <td>2046</td>\n      <td>-33.852469</td>\n      <td>151.129453</td>\n      <td>14.0</td>\n      <td>5366.0</td>\n      <td>mid-age</td>\n    </tr>\n    <tr>\n      <th>2</th>\n      <td>ACACIA GARDENS</td>\n      <td>2763</td>\n      <td>-33.730077</td>\n      <td>150.906502</td>\n      <td>17.0</td>\n      <td>3786.0</td>\n      <td>adult</td>\n    </tr>\n    <tr>\n      <th>3</th>\n      <td>AGNES BANKS</td>\n      <td>2753</td>\n      <td>-33.618877000000005</td>\n      <td>150.707372</td>\n      <td>5.0</td>\n      <td>919.0</td>\n      <td>mid-age</td>\n    </tr>\n    <tr>\n      <th>4</th>\n      <td>AIRDS</td>\n      <td>2560</td>\n      <td>-34.084468</td>\n      <td>150.829041</td>\n      <td>19.0</td>\n      <td>2939.0</td>\n      <td>young</td>\n    </tr>\n    <tr>\n      <th>...</th>\n      <td>...</td>\n      <td>...</td>\n      <td>...</td>\n      <td>...</td>\n      <td>...</td>\n      <td>...</td>\n      <td>...</td>\n    </tr>\n    <tr>\n      <th>662</th>\n      <td>YARRAMUNDI</td>\n      <td>2753</td>\n      <td>-33.627259</td>\n      <td>150.672695</td>\n      <td>5.0</td>\n      <td>828.0</td>\n      <td>mid-age</td>\n    </tr>\n    <tr>\n      <th>663</th>\n      <td>YARRAWARRAH</td>\n      <td>2233</td>\n      <td>-34.058462</td>\n      <td>151.03278999999998</td>\n      <td>13.0</td>\n      <td>2726.0</td>\n      <td>mid-age</td>\n    </tr>\n    <tr>\n      <th>664</th>\n      <td>YENNORA</td>\n      <td>2161</td>\n      <td>-33.860889</td>\n      <td>150.969356</td>\n      <td>8.0</td>\n      <td>1616.0</td>\n      <td>senior+</td>\n    </tr>\n    <tr>\n      <th>665</th>\n      <td>YOWIE BAY</td>\n      <td>2228</td>\n      <td>-34.049865999999994</td>\n      <td>151.104325</td>\n      <td>6.0</td>\n      <td>3095.0</td>\n      <td>mid-age</td>\n    </tr>\n    <tr>\n      <th>666</th>\n      <td>ZETLAND</td>\n      <td>2017</td>\n      <td>-33.909938000000004</td>\n      <td>151.206234</td>\n      <td>11.0</td>\n      <td>10071.0</td>\n      <td>adult</td>\n    </tr>\n  </tbody>\n</table>\n<p>611 rows × 7 columns</p>\n</div>"
     },
     "metadata": {},
     "execution_count": 97
    }
   ],
   "source": [
    "SYDPC6.dropna()"
   ]
  },
  {
   "cell_type": "code",
   "execution_count": 98,
   "metadata": {},
   "outputs": [],
   "source": [
    "SYDPC6.to_csv('SYDPC6.csv',index = False)"
   ]
  },
  {
   "cell_type": "code",
   "execution_count": 107,
   "metadata": {
    "tags": []
   },
   "outputs": [
    {
     "output_type": "stream",
     "name": "stdout",
     "text": "correlation between total patient number and population number is  0.06965455497131572\n"
    }
   ],
   "source": [
    "correlation =  SYDPC6['total_patient'].corr(SYDPC6['population'])\n",
    "print(\"correlation between total patient number and population number is \", correlation)"
   ]
  },
  {
   "cell_type": "code",
   "execution_count": null,
   "metadata": {},
   "outputs": [],
   "source": [
    "#now as we have done in previou assignment, I'm going to scrape data from Foursquare"
   ]
  },
  {
   "cell_type": "code",
   "execution_count": 147,
   "metadata": {},
   "outputs": [
    {
     "output_type": "execute_result",
     "data": {
      "text/plain": "           suburb  postcode        lat         lon  total_patient  population  \\\n0      ABBOTSBURY      2176 -33.877538  150.867768           18.0      4242.0   \n1      ABBOTSFORD      2046 -33.852469  151.129453           14.0      5366.0   \n2  ACACIA GARDENS      2763 -33.730077  150.906502           17.0      3786.0   \n3     AGNES BANKS      2753 -33.618877  150.707372            5.0       919.0   \n4           AIRDS      2560 -34.084468  150.829041           19.0      2939.0   \n\n        age  \n0  40 to 59  \n1  40 to 59  \n2  20 to 39  \n3  40 to 59  \n4   5 to 19  ",
      "text/html": "<div>\n<style scoped>\n    .dataframe tbody tr th:only-of-type {\n        vertical-align: middle;\n    }\n\n    .dataframe tbody tr th {\n        vertical-align: top;\n    }\n\n    .dataframe thead th {\n        text-align: right;\n    }\n</style>\n<table border=\"1\" class=\"dataframe\">\n  <thead>\n    <tr style=\"text-align: right;\">\n      <th></th>\n      <th>suburb</th>\n      <th>postcode</th>\n      <th>lat</th>\n      <th>lon</th>\n      <th>total_patient</th>\n      <th>population</th>\n      <th>age</th>\n    </tr>\n  </thead>\n  <tbody>\n    <tr>\n      <th>0</th>\n      <td>ABBOTSBURY</td>\n      <td>2176</td>\n      <td>-33.877538</td>\n      <td>150.867768</td>\n      <td>18.0</td>\n      <td>4242.0</td>\n      <td>40 to 59</td>\n    </tr>\n    <tr>\n      <th>1</th>\n      <td>ABBOTSFORD</td>\n      <td>2046</td>\n      <td>-33.852469</td>\n      <td>151.129453</td>\n      <td>14.0</td>\n      <td>5366.0</td>\n      <td>40 to 59</td>\n    </tr>\n    <tr>\n      <th>2</th>\n      <td>ACACIA GARDENS</td>\n      <td>2763</td>\n      <td>-33.730077</td>\n      <td>150.906502</td>\n      <td>17.0</td>\n      <td>3786.0</td>\n      <td>20 to 39</td>\n    </tr>\n    <tr>\n      <th>3</th>\n      <td>AGNES BANKS</td>\n      <td>2753</td>\n      <td>-33.618877</td>\n      <td>150.707372</td>\n      <td>5.0</td>\n      <td>919.0</td>\n      <td>40 to 59</td>\n    </tr>\n    <tr>\n      <th>4</th>\n      <td>AIRDS</td>\n      <td>2560</td>\n      <td>-34.084468</td>\n      <td>150.829041</td>\n      <td>19.0</td>\n      <td>2939.0</td>\n      <td>5 to 19</td>\n    </tr>\n  </tbody>\n</table>\n</div>"
     },
     "metadata": {},
     "execution_count": 147
    }
   ],
   "source": [
    "SYDPC7 = pd.read_csv('SYDPC5.csv')\n",
    "SYDPC7.head()"
   ]
  },
  {
   "cell_type": "code",
   "execution_count": 154,
   "metadata": {
    "tags": []
   },
   "outputs": [
    {
     "output_type": "stream",
     "name": "stdout",
     "text": "Your credentails:\nCLIENT_ID: ATL2DHCPIQIZI0FLTD1CL1J1IAOAJC53OABJJN0A1Z214DEU\nCLIENT_SECRET:0XIUQGRLY4NPR5II5XSSXQD4PHMDUEUSESCKFFU0MPGODF0M\n"
    }
   ],
   "source": [
    "#Define Foursquare credentials and version just like the example\n",
    "CLIENT_ID = 'ATL2DHCPIQIZI0FLTD1CL1J1IAOAJC53OABJJN0A1Z214DEU' # your Foursquare ID\n",
    "CLIENT_SECRET = '0XIUQGRLY4NPR5II5XSSXQD4PHMDUEUSESCKFFU0MPGODF0M' # your Foursquare Secret\n",
    "VERSION = '20191005' # Foursquare API version\n",
    "\n",
    "print('Your credentails:')\n",
    "print('CLIENT_ID: ' + CLIENT_ID)\n",
    "print('CLIENT_SECRET:' + CLIENT_SECRET)"
   ]
  },
  {
   "cell_type": "code",
   "execution_count": 155,
   "metadata": {},
   "outputs": [],
   "source": [
    "LIMIT = 100\n",
    "radius = 500"
   ]
  },
  {
   "cell_type": "code",
   "execution_count": 156,
   "metadata": {},
   "outputs": [],
   "source": [
    "latitude = SYDPC7.loc[0,'lat']\n",
    "longitude = SYDPC7.loc[0,'lon']\n",
    "suburb = SYDPC7.loc[0,'suburb']"
   ]
  },
  {
   "cell_type": "code",
   "execution_count": 157,
   "metadata": {},
   "outputs": [
    {
     "output_type": "execute_result",
     "data": {
      "text/plain": "'https://api.foursquare.com/v2/venues/explore?&client_id=ATL2DHCPIQIZI0FLTD1CL1J1IAOAJC53OABJJN0A1Z214DEU&client_secret=0XIUQGRLY4NPR5II5XSSXQD4PHMDUEUSESCKFFU0MPGODF0M&v=20191005&ll=-33.877538,150.86776799999998&radius=500&limit=100'"
     },
     "metadata": {},
     "execution_count": 157
    }
   ],
   "source": [
    "url = 'https://api.foursquare.com/v2/venues/explore?&client_id={}&client_secret={}&v={}&ll={},{}&radius={}&limit={}'.format(\n",
    "    CLIENT_ID, \n",
    "    CLIENT_SECRET, \n",
    "    VERSION, \n",
    "    latitude, \n",
    "    longitude, \n",
    "    radius, \n",
    "    LIMIT)\n",
    "url"
   ]
  },
  {
   "cell_type": "code",
   "execution_count": 177,
   "metadata": {},
   "outputs": [],
   "source": [
    "def getNearbyVenues(names, latitudes, longitudes,):\n",
    "    \n",
    "    venues_list=[]\n",
    "    for name, lat, lng in zip(names, latitudes, longitudes):\n",
    "        print(name)\n",
    "            \n",
    "        # create the API request URL\n",
    "        url = 'https://api.foursquare.com/v2/venues/explore?&client_id=HAE4QJWRIHMC1QAJZDRRG41MRFTOR3KQJ0CEQCGOXTLBCQV3&client_secret=YKSVRDH2UQU3SGBYKIH0F1G30OB0Z52CC05EBITI0DRV1RQN&v=20191005&ll={},{}&radius=500&limit=100'.format(\n",
    "            lat, \n",
    "            lng, \n",
    "            )\n",
    "            \n",
    "        # make the GET request\n",
    "        results = requests.get(url).json()[\"response\"]['groups'][0]['items']\n",
    "        \n",
    "        # return only relevant information for each nearby venue\n",
    "        venues_list.append([(\n",
    "            name, \n",
    "            lat, \n",
    "            lng, \n",
    "            v['venue']['name'], \n",
    "            v['venue']['location']['lat'], \n",
    "            v['venue']['location']['lng'],  \n",
    "            v['venue']['categories'][0]['name']) for v in results])\n",
    "\n",
    "    nearby_venues = pd.DataFrame([item for venue_list in venues_list for item in venue_list])\n",
    "    nearby_venues.columns = ['Suburb', \n",
    "                  'Suburb Latitude', \n",
    "                  'Suburb Longitude', \n",
    "                  'Venue', \n",
    "                  'Venue Latitude', \n",
    "                  'Venue Longitude', \n",
    "                  'Venue Category']\n",
    "    \n",
    "    # Wait a given time 15 seconds for scraping the next website to mimic a humanbeing search.\n",
    "    time.sleep(15)\n",
    "    \n",
    "    return(nearby_venues)"
   ]
  },
  {
   "cell_type": "code",
   "execution_count": 178,
   "metadata": {
    "tags": []
   },
   "outputs": [
    {
     "output_type": "stream",
     "name": "stdout",
     "text": "ABBOTSBURY\nABBOTSFORD\nACACIA GARDENS\nAGNES BANKS\nAIRDS\nALEXANDRIA\nALFORDS POINT\nALLAMBIE HEIGHTS\nALLAWAH\nAMBARVALE\nANNANDALE\nANNANGROVE\nARCADIA\nARNCLIFFE\nARNDELL PARK\nARTARMON\nASHBURY\nASHCROFT\nASHFIELD\nASQUITH\nAUBURN\nAUSTRAL\nAVALON BEACH\nBADGERYS CREEK\nBALGOWLAH\nBALGOWLAH HEIGHTS\nBALMAIN\nBALMAIN EAST\nBANGOR\nBANKSIA\nBANKSMEADOW\nBANKSTOWN\nBANKSTOWN AERODROME\nBARDEN RIDGE\nBARDWELL PARK\nBARDWELL VALLEY\nBASS HILL\nBAULKHAM HILLS\nBAYVIEW\nBEACON HILL\nBEACONSFIELD\nBEAUMONT HILLS\nBEECROFT\nBELFIELD\nBELLA VISTA\nBELLEVUE HILL\nBELMORE\nBELROSE\nBERALA\nBERKSHIRE PARK\nBEROWRA\nBEROWRA HEIGHTS\nBEROWRA WATERS\nBERRILEE\nBEVERLEY PARK\nBEVERLY HILLS\nBEXLEY\nBEXLEY NORTH\nBICKLEY VALE\nBIDWILL\nBIRCHGROVE\nBIRRONG\nBLACKETT\nBLACKTOWN\nBLAIR ATHOL\nBLAIRMOUNT\nBLAKEHURST\nBLIGH PARK\nBONDI\nBONDI BEACH\nBONDI JUNCTION\nBONNET BAY\nBONNYRIGG\nBONNYRIGG HEIGHTS\nBOSSLEY PARK\nBOTANY\nBOW BOWING\nBOX HILL\nBRADBURY\nBREAKFAST POINT\nBRINGELLY\nBRONTE\nBROOKLYN\nBROOKVALE\nBUNDEENA\nBURRANEER\nBURWOOD\nBURWOOD HEIGHTS\nBUSBY\nCABARITA\nCABRAMATTA\nCABRAMATTA WEST\nCAMBRIDGE GARDENS\nCAMBRIDGE PARK\nCAMDEN\nCAMDEN SOUTH\nCAMELLIA\nCAMMERAY\nCAMPBELLTOWN\nCAMPERDOWN\nCAMPSIE\nCANADA BAY\nCANLEY HEIGHTS\nCANLEY VALE\nCANOELANDS\nCANTERBURY\nCARINGBAH\nCARLINGFORD\nCARLTON\nCARRAMAR\nCARSS PARK\nCARTWRIGHT\nCASTLE COVE\nCASTLE HILL\nCASTLECRAG\nCASTLEREAGH\nCASULA\nCATHERINE FIELD\nCATTAI\nCAWDOR\nCECIL HILLS\nCECIL PARK\nCHATSWOOD\nCHATSWOOD WEST\nCHELTENHAM\nCHERRYBROOK\nCHESTER HILL\nCHIFLEY\nCHIPPENDALE\nCHIPPING NORTON\nCHISWICK\nCHULLORA\nCHURCH POINT\nCLAREMONT MEADOWS\nCLARENDON\nCLAREVILLE\nCLAYMORE\nCLEMTON PARK\nCLONTARF\nCLOVELLY\nCLYDE\nCOASTERS RETREAT\nCOBBITTY\nCOLEBEE\nCOLLAROY\nCOLYTON\nCOMO\nCONCORD\nCONCORD WEST\nCONDELL PARK\nCONNELLS POINT\nCOOGEE\nCORNWALLIS\nCOTTAGE POINT\nCOWAN\nCRANEBROOK\nCREMORNE\nCREMORNE POINT\nCROMER\nCRONULLA\nCROWS NEST\nCROYDON\nCROYDON PARK\nCUMBERLAND REACH\nCURL CURL\nCURRANS HILL\nCURRAWONG BEACH\nDACEYVILLE\nDANGAR ISLAND\nDARLING POINT\nDARLINGHURST\nDARLINGTON\nDARLINGTON\nDAVIDSON\nDAWES POINT\nDEAN PARK\nDEE WHY\nDENHAM COURT\nDENISTONE\nDENISTONE EAST\nDENISTONE WEST\nDHARRUK\nDOLANS BAY\nDOLLS POINT\nDOONSIDE\nDOUBLE BAY\nDOVER HEIGHTS\nDRUMMOYNE\nDUFFYS FOREST\nDULWICH HILL\nDUNDAS\nDUNDAS VALLEY\nDURAL\nDURAL\nEAGLE VALE\nEARLWOOD\nEAST HILLS\nEAST KILLARA\nEAST KURRAJONG\nEAST LINDFIELD\nEAST RYDE\nEASTERN CREEK\nEASTGARDENS\nEASTLAKES\nEASTWOOD\nEBENEZER\nEDENSOR PARK\nEDGECLIFF\nELANORA HEIGHTS\nELDERSLIE\nELDERSLIE\nELIZABETH BAY\nELLIS LANE\nELVINA BAY\nEMERTON\nEMU HEIGHTS\nEMU PLAINS\nENFIELD\nENGADINE\nENGLORIE PARK\nENMORE\nENMORE\nENMORE\nEPPING\nERMINGTON\nERSKINE PARK\nERSKINEVILLE\nESCHOL PARK\nEVELEIGH\nFAIRFIELD\nFAIRFIELD EAST\nFAIRFIELD HEIGHTS\nFAIRFIELD WEST\nFAIRLIGHT\nFIDDLETOWN\nFIVE DOCK\nFOREST GLEN\nFOREST LODGE\nFORESTVILLE\nFREEMANS REACH\nFRENCHS FOREST\nGALSTON\nGEORGES HALL\nGILEAD\nGIRRAWEEN\nGLADESVILLE\nGLEBE\nGLEN ALPINE\nGLENDENNING\nGLENFIELD\nGLENHAVEN\nGLENMORE PARK\nGLENORIE\nGLENWOOD\nGLOSSODIA\nGORDON\nGRANVILLE\nGRASMERE\nGRAYS POINT\nGREAT MACKEREL BEACH\nGREEN VALLEY\nGREENACRE\nGREENDALE\nGREENDALE\nGREENFIELD PARK\nGREENWICH\nGREYSTANES\nGROSE VALE\nGROSE WOLD\nGUILDFORD\nGUILDFORD WEST\nGYMEA\nGYMEA BAY\nHABERFIELD\nHAMMONDVILLE\nHARRINGTON PARK\nHARRIS PARK\nHASSALL GROVE\nHAYMARKET\nHEATHCOTE\nHEBERSHAM\nHECKENBERG\nHENLEY\nHILLSDALE\nHINCHINBROOK\nHOBARTVILLE\nHOLROYD\nHOLSWORTHY\nHOMEBUSH\nHOMEBUSH WEST\nHORNINGSEA PARK\nHORNSBY\nHORNSBY HEIGHTS\nHORSLEY PARK\nHOXTON PARK\nHUNTERS HILL\nHUNTINGWOOD\nHUNTLEYS COVE\nHUNTLEYS POINT\nHURLSTONE PARK\nHURSTVILLE\nHURSTVILLE GROVE\nILLAWONG\nINGLEBURN\nINGLESIDE\nJAMISONTOWN\nKANGAROO POINT\nKAREELA\nKEARNS\nKELLYVILLE\nKELLYVILLE RIDGE\nKEMPS CREEK\nKENSINGTON\nKENTHURST\nKENTLYN\nKILLARA\nKILLARNEY HEIGHTS\nKINGS LANGLEY\nKINGS PARK\nKINGSFORD\nKINGSGROVE\nKINGSWOOD\nKINGSWOOD\nKINGSWOOD\nKIRKHAM\nKIRRAWEE\nKIRRIBILLI\nKOGARAH\nKOGARAH BAY\nKURMOND\nKURNELL\nKURRAJONG\nKURRAJONG HILLS\nKYEEMAGH\nKYLE BAY\nLA PEROUSE\nLAKEMBA\nLALOR PARK\nLANE COVE\nLANE COVE NORTH\nLANE COVE WEST\nLANSDOWNE\nLANSDOWNE\nLANSVALE\nLAUGHTONDALE\nLAVENDER BAY\nLEETS VALE\nLEICHHARDT\nLEONAY\nLEPPINGTON\nLETHBRIDGE PARK\nLEUMEAH\nLEWISHAM\nLIBERTY GROVE\nLIDCOMBE\nLILLI PILLI\nLILLI PILLI\nLILYFIELD\nLINDFIELD\nLINLEY POINT\nLITTLE BAY\nLIVERPOOL\nLLANDILO\nLOFTUS\nLONDONDERRY\nLONG POINT\nLONG POINT\nLONG POINT\nLONGUEVILLE\nLOVETT BAY\nLOWER PORTLAND\nLUCAS HEIGHTS\nLUDDENHAM\nLUGARNO\nLURNEA\nMACQUARIE FIELDS\nMACQUARIE LINKS\nMACQUARIE PARK\nMAIANBAR\nMALABAR\nMANLY\nMANLY VALE\nMARAYLYA\nMARAYONG\nMAROOTA\nMAROUBRA\nMARRICKVILLE\nMARSDEN PARK\nMARSFIELD\nMASCOT\nMATRAVILLE\nMAYS HILL\nMCGRATHS HILL\nMCMAHONS POINT\nMEADOWBANK\nMELROSE PARK\nMENAI\nMENANGLE PARK\nMERRYLANDS\nMERRYLANDS WEST\nMIDDLE COVE\nMIDDLE DURAL\nMIDDLETON GRANGE\nMILLERS POINT\nMILPERRA\nMILSONS PASSAGE\nMILSONS POINT\nMINCHINBURY\nMINTO\nMINTO HEIGHTS\nMIRANDA\nMONA VALE\nMONTEREY\nMOORE PARK\nMOOREBANK\nMORNING BAY\nMORTDALE\nMORTLAKE\nMOSMAN\nMOUNT ANNAN\nMOUNT COLAH\nMOUNT DRUITT\nMOUNT LEWIS\nMOUNT LEWIS\nMOUNT PRITCHARD\nMOUNT VERNON\nMULGOA\nMULGRAVE\nNARELLAN VALE\nNAREMBURN\nNARRABEEN\nNARRAWEENA\nNARWEE\nNELSON\nNELSON\nNEUTRAL BAY\nNEWINGTON\nNEWPORT\nNEWTOWN\nNORMANHURST\nNORTH BALGOWLAH\nNORTH BONDI\nNORTH CURL CURL\nNORTH EPPING\nNORTH MANLY\nNORTH NARRABEEN\nNORTH PARRAMATTA\nNORTH RICHMOND\nNORTH ROCKS\nNORTH RYDE\nNORTH ST MARYS\nNORTH STRATHFIELD\nNORTH SYDNEY\nNORTH SYDNEY\nNORTH TURRAMURRA\nNORTH WILLOUGHBY\nNORTH WAHROONGA\nNORTHBRIDGE\nNORTHMEAD\nNORTHWOOD\nOAKHURST\nOAKVILLE\nOATLANDS\nOATLEY\nOLD GUILDFORD\nOLD TOONGABBIE\nORAN PARK\nORCHARD HILLS\nOXFORD FALLS\nOXLEY PARK\nOYSTER BAY\nPADDINGTON\nPADSTOW\nPADSTOW HEIGHTS\nPAGEWOOD\nPALM BEACH\nPANANIA\nPARKLEA\nPARRAMATTA\nPEAKHURST\nPEAKHURST HEIGHTS\nPEMULWUY\nPENDLE HILL\nPENNANT HILLS\nPENRITH\nPENSHURST\nPETERSHAM\nPHILLIP BAY\nPICNIC POINT\nPITT TOWN\nPITT TOWN BOTTOMS\nPLEASURE POINT\nPLUMPTON\nPOINT PIPER\nPORT BOTANY\nPORT HACKING\nPOTTS HILL\nPOTTS POINT\nPRAIRIEWOOD\nPRESTONS\nPROSPECT\nPUNCHBOWL\nPUNCHBOWL\nPUTNEY\nPYMBLE\nPYRMONT\nQUAKERS HILL\nQUEENS PARK\nQUEENSCLIFF\nRABY\nRAMSGATE\nRAMSGATE BEACH\nRANDWICK\nREDFERN\nREGENTS PARK\nREGENTVILLE\nREVESBY\nREVESBY HEIGHTS\nRHODES\nRICHMOND\nRICHMOND LOWLANDS\nRIVERSTONE\nRIVERVIEW\nRIVERVIEW\nRIVERWOOD\nROCKDALE\nRODD POINT\nROOKWOOD\nROOTY HILL\nROPES CROSSING\nROSE BAY\nROSEBERY\nROSEHILL\nROSELANDS\nROSEMEADOW\nROSEVILLE\nROSEVILLE CHASE\nROSSMORE\nROUSE HILL\nROZELLE\nRUSE\nRUSHCUTTERS BAY\nRUSSELL LEA\nRYDALMERE\nRYDE\nSACKVILLE\nSACKVILLE NORTH\nSADLEIR\nSANDRINGHAM\nSANDY POINT\nSANS SOUCI\nSCHEYVILLE\nSCHOFIELDS\nSCOTLAND ISLAND\nSEAFORTH\nSEFTON\nSEVEN HILLS\nSHALVEY\nSHANES PARK\nSILVERWATER\nSILVERWATER\nSINGLETONS MILL\nSMEATON GRANGE\nSMITHFIELD\nSOUTH HURSTVILLE\nSOUTH MAROOTA\nSOUTH PENRITH\nSOUTH TURRAMURRA\nSOUTH WENTWORTHVILLE\nSOUTH WINDSOR\nSPRING FARM\nST CLAIR\nST CLAIR\nST HELENS PARK\nST IVES\nST IVES CHASE\nST JOHNS PARK\nST LEONARDS\nST MARYS\nST PETERS\nSTANHOPE GARDENS\nSTANMORE\nSTRATHFIELD\nSTRATHFIELD SOUTH\nSUMMER HILL\nSUMMER HILL\nSURRY HILLS\nSUTHERLAND\nSYDENHAM\nSYLVANIA\nSYLVANIA WATERS\nTAMARAMA\nTAREN POINT\nTELOPEA\nTEMPE\nTENNYSON\nTENNYSON POINT\nTERREY HILLS\nTHE PONDS\nTHE ROCKS\nTHE ROCKS\nTHE SLOPES\nTHORNLEIGH\nTOONGABBIE\nTREGEAR\nTURRAMURRA\nTURRELLA\nULTIMO\nVARROVILLE\nVAUCLUSE\nVILLAWOOD\nVOYAGER POINT\nWAHROONGA\nWAITARA\nWAKELEY\nWALLACIA\nWAREEMBA\nWARRAWEE\nWARRIEWOOD\nWARWICK FARM\nWATERFALL\nWATERLOO\nWATSONS BAY\nWATTLE GROVE\nWAVERLEY\nWAVERTON\nWEDDERBURN\nWENTWORTHVILLE\nWERRINGTON\nWERRINGTON COUNTY\nWERRINGTON DOWNS\nWEST HOXTON\nWEST PENNANT HILLS\nWEST PYMBLE\nWEST RYDE\nWESTLEIGH\nWESTMEAD\nWETHERILL PARK\nWHALAN\nWHALE BEACH\nWHEELER HEIGHTS\nWILBERFORCE\nWILEY PARK\nWILLMOT\nWILLOUGHBY\nWILLOUGHBY EAST\nWINDSOR\nWINDSOR DOWNS\nWINSTON HILLS\nWISEMANS FERRY\nWOLLI CREEK\nWOLLSTONECRAFT\nWOODBINE\nWOODCROFT\nWOODPARK\nWOOLLAHRA\nWOOLLOOMOOLOO\nWOOLOOWARE\nWOOLWICH\nWORONORA\nWORONORA HEIGHTS\nYAGOONA\nYARRAMUNDI\nYARRAWARRAH\nYENNORA\nYOWIE BAY\nZETLAND\n"
    }
   ],
   "source": [
    "sydney_venues = getNearbyVenues(names = SYDPC7['suburb'], latitudes = SYDPC7['lat'], longitudes = SYDPC7['lon'])"
   ]
  },
  {
   "cell_type": "code",
   "execution_count": 180,
   "metadata": {},
   "outputs": [],
   "source": [
    "sydney_venues.to_csv('sydney_veunes.csv', index=False)"
   ]
  },
  {
   "cell_type": "code",
   "execution_count": 182,
   "metadata": {
    "tags": []
   },
   "outputs": [
    {
     "output_type": "stream",
     "name": "stdout",
     "text": "6677\n"
    }
   ],
   "source": [
    "#check the size of scraped dataframe\n",
    "print(sydney_venues.shape[0])"
   ]
  },
  {
   "cell_type": "code",
   "execution_count": 10,
   "metadata": {},
   "outputs": [],
   "source": [
    "sydney_venues = pd.read_csv('sydney_veunes.csv')"
   ]
  },
  {
   "cell_type": "code",
   "execution_count": 13,
   "metadata": {
    "tags": []
   },
   "outputs": [
    {
     "output_type": "stream",
     "name": "stdout",
     "text": "575\n"
    },
    {
     "output_type": "execute_result",
     "data": {
      "text/plain": "            Suburb  Venue\n0    Elizabeth Bay    100\n1        The Rocks    100\n2     Darlinghurst    100\n3       Crows Nest     99\n4       Parramatta     82\n5      Chippendale     79\n6      Surry Hills     74\n7         Cronulla     70\n8      Potts Point     69\n9      Dawes Point     69\n10   Woolloomooloo     68\n11           Manly     66\n12       Haymarket     64\n13     Neutral Bay     63\n14         Newtown     60\n15          Coogee     57\n16    North Sydney     56\n17  Bondi Junction     56\n18       Chatswood     56\n19          Enmore     56",
      "text/html": "<div>\n<style scoped>\n    .dataframe tbody tr th:only-of-type {\n        vertical-align: middle;\n    }\n\n    .dataframe tbody tr th {\n        vertical-align: top;\n    }\n\n    .dataframe thead th {\n        text-align: right;\n    }\n</style>\n<table border=\"1\" class=\"dataframe\">\n  <thead>\n    <tr style=\"text-align: right;\">\n      <th></th>\n      <th>Suburb</th>\n      <th>Venue</th>\n    </tr>\n  </thead>\n  <tbody>\n    <tr>\n      <th>0</th>\n      <td>Elizabeth Bay</td>\n      <td>100</td>\n    </tr>\n    <tr>\n      <th>1</th>\n      <td>The Rocks</td>\n      <td>100</td>\n    </tr>\n    <tr>\n      <th>2</th>\n      <td>Darlinghurst</td>\n      <td>100</td>\n    </tr>\n    <tr>\n      <th>3</th>\n      <td>Crows Nest</td>\n      <td>99</td>\n    </tr>\n    <tr>\n      <th>4</th>\n      <td>Parramatta</td>\n      <td>82</td>\n    </tr>\n    <tr>\n      <th>5</th>\n      <td>Chippendale</td>\n      <td>79</td>\n    </tr>\n    <tr>\n      <th>6</th>\n      <td>Surry Hills</td>\n      <td>74</td>\n    </tr>\n    <tr>\n      <th>7</th>\n      <td>Cronulla</td>\n      <td>70</td>\n    </tr>\n    <tr>\n      <th>8</th>\n      <td>Potts Point</td>\n      <td>69</td>\n    </tr>\n    <tr>\n      <th>9</th>\n      <td>Dawes Point</td>\n      <td>69</td>\n    </tr>\n    <tr>\n      <th>10</th>\n      <td>Woolloomooloo</td>\n      <td>68</td>\n    </tr>\n    <tr>\n      <th>11</th>\n      <td>Manly</td>\n      <td>66</td>\n    </tr>\n    <tr>\n      <th>12</th>\n      <td>Haymarket</td>\n      <td>64</td>\n    </tr>\n    <tr>\n      <th>13</th>\n      <td>Neutral Bay</td>\n      <td>63</td>\n    </tr>\n    <tr>\n      <th>14</th>\n      <td>Newtown</td>\n      <td>60</td>\n    </tr>\n    <tr>\n      <th>15</th>\n      <td>Coogee</td>\n      <td>57</td>\n    </tr>\n    <tr>\n      <th>16</th>\n      <td>North Sydney</td>\n      <td>56</td>\n    </tr>\n    <tr>\n      <th>17</th>\n      <td>Bondi Junction</td>\n      <td>56</td>\n    </tr>\n    <tr>\n      <th>18</th>\n      <td>Chatswood</td>\n      <td>56</td>\n    </tr>\n    <tr>\n      <th>19</th>\n      <td>Enmore</td>\n      <td>56</td>\n    </tr>\n  </tbody>\n</table>\n</div>"
     },
     "metadata": {},
     "execution_count": 13
    }
   ],
   "source": [
    "#check how many venues are returned for each suburbs\n",
    "#also check the top 20 of these suburbs\n",
    "sydney_venues_num = sydney_venues.groupby('Suburb').count()\n",
    "sydney_venues_num = sydney_venues_num.drop(columns=['Suburb Latitude', 'Suburb Longitude', 'Venue Latitude', 'Venue Longitude', 'Venue Category'])\n",
    "sydney_venues_num = sydney_venues_num.sort_values(['Venue'], ascending=False).reset_index(drop=False)\n",
    "sydney_venues_num['Suburb'] = sydney_venues_num['Suburb'].str.title()\n",
    "print(sydney_venues_num.shape[0])\n",
    "sydney_venues_num.head(20)"
   ]
  },
  {
   "cell_type": "code",
   "execution_count": 14,
   "metadata": {},
   "outputs": [
    {
     "output_type": "execute_result",
     "data": {
      "text/plain": "349"
     },
     "metadata": {},
     "execution_count": 14
    }
   ],
   "source": [
    "len(sydney_venues['Venue Category'].unique())"
   ]
  },
  {
   "cell_type": "code",
   "execution_count": 15,
   "metadata": {
    "tags": []
   },
   "outputs": [
    {
     "output_type": "stream",
     "name": "stdout",
     "text": "there are 349 unique categories in Sydney Venue categories\n"
    }
   ],
   "source": [
    "print('there are 349 unique categories in Sydney Venue categories')"
   ]
  },
  {
   "cell_type": "code",
   "execution_count": 16,
   "metadata": {},
   "outputs": [
    {
     "output_type": "execute_result",
     "data": {
      "text/plain": "       Suburb  ATM  Accessories Store  Advertising Agency  Afghan Restaurant  \\\n0  ABBOTSBURY    0                  0                   0                  0   \n1  ABBOTSFORD    0                  0                   0                  0   \n2  ABBOTSFORD    0                  0                   0                  0   \n3  ABBOTSFORD    0                  0                   0                  0   \n4  ABBOTSFORD    0                  0                   0                  0   \n\n   African Restaurant  Airport  American Restaurant  Antique Shop  Arcade  \\\n0                   0        0                    0             0       0   \n1                   0        0                    0             0       0   \n2                   0        0                    0             0       0   \n3                   0        0                    0             0       0   \n4                   0        0                    0             0       0   \n\n   ...  Video Game Store  Video Store  Vietnamese Restaurant  \\\n0  ...                 0            0                      0   \n1  ...                 0            0                      0   \n2  ...                 0            0                      0   \n3  ...                 0            0                      0   \n4  ...                 0            0                      0   \n\n   Volleyball Court  Warehouse Store  Whisky Bar  Wine Bar  Wine Shop  \\\n0                 0                0           0         0          0   \n1                 0                0           0         0          0   \n2                 0                0           0         0          0   \n3                 0                0           0         0          0   \n4                 0                0           0         0          0   \n\n   Women's Store  Yoga Studio  \n0              0            0  \n1              0            0  \n2              0            0  \n3              0            0  \n4              0            0  \n\n[5 rows x 350 columns]",
      "text/html": "<div>\n<style scoped>\n    .dataframe tbody tr th:only-of-type {\n        vertical-align: middle;\n    }\n\n    .dataframe tbody tr th {\n        vertical-align: top;\n    }\n\n    .dataframe thead th {\n        text-align: right;\n    }\n</style>\n<table border=\"1\" class=\"dataframe\">\n  <thead>\n    <tr style=\"text-align: right;\">\n      <th></th>\n      <th>Suburb</th>\n      <th>ATM</th>\n      <th>Accessories Store</th>\n      <th>Advertising Agency</th>\n      <th>Afghan Restaurant</th>\n      <th>African Restaurant</th>\n      <th>Airport</th>\n      <th>American Restaurant</th>\n      <th>Antique Shop</th>\n      <th>Arcade</th>\n      <th>...</th>\n      <th>Video Game Store</th>\n      <th>Video Store</th>\n      <th>Vietnamese Restaurant</th>\n      <th>Volleyball Court</th>\n      <th>Warehouse Store</th>\n      <th>Whisky Bar</th>\n      <th>Wine Bar</th>\n      <th>Wine Shop</th>\n      <th>Women's Store</th>\n      <th>Yoga Studio</th>\n    </tr>\n  </thead>\n  <tbody>\n    <tr>\n      <th>0</th>\n      <td>ABBOTSBURY</td>\n      <td>0</td>\n      <td>0</td>\n      <td>0</td>\n      <td>0</td>\n      <td>0</td>\n      <td>0</td>\n      <td>0</td>\n      <td>0</td>\n      <td>0</td>\n      <td>...</td>\n      <td>0</td>\n      <td>0</td>\n      <td>0</td>\n      <td>0</td>\n      <td>0</td>\n      <td>0</td>\n      <td>0</td>\n      <td>0</td>\n      <td>0</td>\n      <td>0</td>\n    </tr>\n    <tr>\n      <th>1</th>\n      <td>ABBOTSFORD</td>\n      <td>0</td>\n      <td>0</td>\n      <td>0</td>\n      <td>0</td>\n      <td>0</td>\n      <td>0</td>\n      <td>0</td>\n      <td>0</td>\n      <td>0</td>\n      <td>...</td>\n      <td>0</td>\n      <td>0</td>\n      <td>0</td>\n      <td>0</td>\n      <td>0</td>\n      <td>0</td>\n      <td>0</td>\n      <td>0</td>\n      <td>0</td>\n      <td>0</td>\n    </tr>\n    <tr>\n      <th>2</th>\n      <td>ABBOTSFORD</td>\n      <td>0</td>\n      <td>0</td>\n      <td>0</td>\n      <td>0</td>\n      <td>0</td>\n      <td>0</td>\n      <td>0</td>\n      <td>0</td>\n      <td>0</td>\n      <td>...</td>\n      <td>0</td>\n      <td>0</td>\n      <td>0</td>\n      <td>0</td>\n      <td>0</td>\n      <td>0</td>\n      <td>0</td>\n      <td>0</td>\n      <td>0</td>\n      <td>0</td>\n    </tr>\n    <tr>\n      <th>3</th>\n      <td>ABBOTSFORD</td>\n      <td>0</td>\n      <td>0</td>\n      <td>0</td>\n      <td>0</td>\n      <td>0</td>\n      <td>0</td>\n      <td>0</td>\n      <td>0</td>\n      <td>0</td>\n      <td>...</td>\n      <td>0</td>\n      <td>0</td>\n      <td>0</td>\n      <td>0</td>\n      <td>0</td>\n      <td>0</td>\n      <td>0</td>\n      <td>0</td>\n      <td>0</td>\n      <td>0</td>\n    </tr>\n    <tr>\n      <th>4</th>\n      <td>ABBOTSFORD</td>\n      <td>0</td>\n      <td>0</td>\n      <td>0</td>\n      <td>0</td>\n      <td>0</td>\n      <td>0</td>\n      <td>0</td>\n      <td>0</td>\n      <td>0</td>\n      <td>...</td>\n      <td>0</td>\n      <td>0</td>\n      <td>0</td>\n      <td>0</td>\n      <td>0</td>\n      <td>0</td>\n      <td>0</td>\n      <td>0</td>\n      <td>0</td>\n      <td>0</td>\n    </tr>\n  </tbody>\n</table>\n<p>5 rows × 350 columns</p>\n</div>"
     },
     "metadata": {},
     "execution_count": 16
    }
   ],
   "source": [
    "# one hot encoding\n",
    "sydney_onehot = pd.get_dummies(sydney_venues[['Venue Category']], prefix=\"\", prefix_sep=\"\")\n",
    "\n",
    "# add suburb column back to dataframe\n",
    "sydney_onehot['Suburb'] = sydney_venues['Suburb'] \n",
    "\n",
    "# move suburb column to the first column\n",
    "fixed_columns = [sydney_onehot.columns[-1]] + list(sydney_onehot.columns[:-1])\n",
    "sydney_onehot = sydney_onehot[fixed_columns]\n",
    "\n",
    "sydney_onehot.head()"
   ]
  },
  {
   "cell_type": "code",
   "execution_count": 17,
   "metadata": {},
   "outputs": [],
   "source": [
    "sydney_grouped = sydney_onehot.groupby('Suburb').mean().reset_index()\n",
    "sydney_grouped\n",
    "sydney_grouped.to_csv('sydney_grouped.csv', index=False)"
   ]
  },
  {
   "cell_type": "code",
   "execution_count": null,
   "metadata": {},
   "outputs": [],
   "source": [
    "#find each suburb along with top 10 venues"
   ]
  },
  {
   "cell_type": "code",
   "execution_count": 18,
   "metadata": {},
   "outputs": [],
   "source": [
    "def return_most_common_venues(row, num_top_venues):\n",
    "    row_categories = row.iloc[1:]\n",
    "    row_categories_sorted = row_categories.sort_values(ascending=False)\n",
    "    \n",
    "    return row_categories_sorted.index.values[0:num_top_venues]"
   ]
  },
  {
   "cell_type": "code",
   "execution_count": 19,
   "metadata": {},
   "outputs": [
    {
     "output_type": "execute_result",
     "data": {
      "text/plain": "              Suburb 1st Most Common Venue          2nd Most Common Venue  \\\n0         ABBOTSBURY                   Spa                 Cosmetics Shop   \n1         ABBOTSFORD           Pizza Place                           Café   \n2     ACACIA GARDENS  Fast Food Restaurant                    Pizza Place   \n3        AGNES BANKS   Rental Car Location                    Yoga Studio   \n4              AIRDS         Grocery Store                            Pub   \n5         ALEXANDRIA                   Pub                           Café   \n6      ALFORDS POINT            Playground                    Flea Market   \n7   ALLAMBIE HEIGHTS                  Café                         Bakery   \n8            ALLAWAH            Food Truck                Thai Restaurant   \n9          AMBARVALE          Soccer Field                          Trail   \n10         ANNANDALE                  Café                           Park   \n11        ANNANGROVE     Indian Restaurant                      Racetrack   \n12           ARCADIA           Art Gallery                            Gym   \n13         ARNCLIFFE                  Park  Paper / Office Supplies Store   \n14      ARNDELL PARK            Playground                        Dog Run   \n15          ARTARMON                  Café                           Park   \n16           ASHBURY            Playground             Seafood Restaurant   \n17          ASHFIELD           Supermarket            Dumpling Restaurant   \n18           ASQUITH           Supermarket                     Hobby Shop   \n19            AUBURN                  Café                  Grocery Store   \n\n          3rd Most Common Venue       4th Most Common Venue  \\\n0             Electronics Store               Event Service   \n1               Thai Restaurant  Construction & Landscaping   \n2                   Snack Place                 Gas Station   \n3   Eastern European Restaurant           Electronics Store   \n4                   Gas Station               Shopping Mall   \n5                        Bakery             Thai Restaurant   \n6                 Shopping Mall                Burger Joint   \n7                 Grocery Store                Liquor Store   \n8                           Pub                 Yoga Studio   \n9                      Bus Stop              Clothing Store   \n10                Grocery Store               Garden Center   \n11                  Yoga Studio                       Field   \n12                  Yoga Studio           Electronics Store   \n13              Thai Restaurant                      Bakery   \n14       Furniture / Home Store                 Yoga Studio   \n15             Ramen Restaurant                   BBQ Joint   \n16                   Racecourse                      Market   \n17            Electronics Store                    Platform   \n18                Train Station                 Gas Station   \n19                  Supermarket                         Gym   \n\n   5th Most Common Venue 6th Most Common Venue 7th Most Common Venue  \\\n0            Event Space    Falafel Restaurant                  Farm   \n1             Hobby Shop          Liquor Store          Burger Joint   \n2              Pet Store        Sandwich Place         Shopping Mall   \n3          Event Service           Event Space    Falafel Restaurant   \n4            Yoga Studio  Fast Food Restaurant     Electronics Store   \n5     Italian Restaurant                Office                  Park   \n6            Flower Shop                  Food     Electronics Store   \n7                   Park  Fast Food Restaurant         Event Service   \n8                  Field     Electronics Store         Event Service   \n9                   Park           Yoga Studio  Fast Food Restaurant   \n10            Playground      Asian Restaurant                   Bar   \n11   Egyptian Restaurant     Electronics Store         Event Service   \n12         Event Service           Event Space    Falafel Restaurant   \n13                  Café         Grocery Store                   Gym   \n14   Filipino Restaurant         Event Service           Event Space   \n15        Sandwich Place   Japanese Restaurant       Thai Restaurant   \n16  Fast Food Restaurant   Egyptian Restaurant     Electronics Store   \n17   Shanghai Restaurant                  Café    Chinese Restaurant   \n18  Fast Food Restaurant                 Field     Electronics Store   \n19      Kebab Restaurant  Fast Food Restaurant    Turkish Restaurant   \n\n   8th Most Common Venue 9th Most Common Venue 10th Most Common Venue  \n0         Farmers Market  Fast Food Restaurant                  Field  \n1          Grocery Store    Italian Restaurant                   Park  \n2          Grocery Store       Thai Restaurant                    Gym  \n3                   Farm        Farmers Market   Fast Food Restaurant  \n4          Event Service           Event Space     Falafel Restaurant  \n5           Tennis Court        Breakfast Spot          Grocery Store  \n6          Event Service           Event Space     Falafel Restaurant  \n7            Event Space    Falafel Restaurant                   Farm  \n8            Event Space    Falafel Restaurant                   Farm  \n9      Electronics Store         Event Service            Event Space  \n10           Pizza Place           Snack Place     Italian Restaurant  \n11           Event Space    Falafel Restaurant                   Farm  \n12                  Farm        Farmers Market   Fast Food Restaurant  \n13          Outlet Store   Lebanese Restaurant                  Hotel  \n14    Falafel Restaurant                  Farm         Farmers Market  \n15     Convenience Store                 Plaza      Fish & Chips Shop  \n16         Event Service           Event Space     Falafel Restaurant  \n17   Japanese Restaurant      Asian Restaurant             Restaurant  \n18         Event Service           Event Space     Falafel Restaurant  \n19  Pakistani Restaurant       Thai Restaurant           Dessert Shop  ",
      "text/html": "<div>\n<style scoped>\n    .dataframe tbody tr th:only-of-type {\n        vertical-align: middle;\n    }\n\n    .dataframe tbody tr th {\n        vertical-align: top;\n    }\n\n    .dataframe thead th {\n        text-align: right;\n    }\n</style>\n<table border=\"1\" class=\"dataframe\">\n  <thead>\n    <tr style=\"text-align: right;\">\n      <th></th>\n      <th>Suburb</th>\n      <th>1st Most Common Venue</th>\n      <th>2nd Most Common Venue</th>\n      <th>3rd Most Common Venue</th>\n      <th>4th Most Common Venue</th>\n      <th>5th Most Common Venue</th>\n      <th>6th Most Common Venue</th>\n      <th>7th Most Common Venue</th>\n      <th>8th Most Common Venue</th>\n      <th>9th Most Common Venue</th>\n      <th>10th Most Common Venue</th>\n    </tr>\n  </thead>\n  <tbody>\n    <tr>\n      <th>0</th>\n      <td>ABBOTSBURY</td>\n      <td>Spa</td>\n      <td>Cosmetics Shop</td>\n      <td>Electronics Store</td>\n      <td>Event Service</td>\n      <td>Event Space</td>\n      <td>Falafel Restaurant</td>\n      <td>Farm</td>\n      <td>Farmers Market</td>\n      <td>Fast Food Restaurant</td>\n      <td>Field</td>\n    </tr>\n    <tr>\n      <th>1</th>\n      <td>ABBOTSFORD</td>\n      <td>Pizza Place</td>\n      <td>Café</td>\n      <td>Thai Restaurant</td>\n      <td>Construction &amp; Landscaping</td>\n      <td>Hobby Shop</td>\n      <td>Liquor Store</td>\n      <td>Burger Joint</td>\n      <td>Grocery Store</td>\n      <td>Italian Restaurant</td>\n      <td>Park</td>\n    </tr>\n    <tr>\n      <th>2</th>\n      <td>ACACIA GARDENS</td>\n      <td>Fast Food Restaurant</td>\n      <td>Pizza Place</td>\n      <td>Snack Place</td>\n      <td>Gas Station</td>\n      <td>Pet Store</td>\n      <td>Sandwich Place</td>\n      <td>Shopping Mall</td>\n      <td>Grocery Store</td>\n      <td>Thai Restaurant</td>\n      <td>Gym</td>\n    </tr>\n    <tr>\n      <th>3</th>\n      <td>AGNES BANKS</td>\n      <td>Rental Car Location</td>\n      <td>Yoga Studio</td>\n      <td>Eastern European Restaurant</td>\n      <td>Electronics Store</td>\n      <td>Event Service</td>\n      <td>Event Space</td>\n      <td>Falafel Restaurant</td>\n      <td>Farm</td>\n      <td>Farmers Market</td>\n      <td>Fast Food Restaurant</td>\n    </tr>\n    <tr>\n      <th>4</th>\n      <td>AIRDS</td>\n      <td>Grocery Store</td>\n      <td>Pub</td>\n      <td>Gas Station</td>\n      <td>Shopping Mall</td>\n      <td>Yoga Studio</td>\n      <td>Fast Food Restaurant</td>\n      <td>Electronics Store</td>\n      <td>Event Service</td>\n      <td>Event Space</td>\n      <td>Falafel Restaurant</td>\n    </tr>\n    <tr>\n      <th>5</th>\n      <td>ALEXANDRIA</td>\n      <td>Pub</td>\n      <td>Café</td>\n      <td>Bakery</td>\n      <td>Thai Restaurant</td>\n      <td>Italian Restaurant</td>\n      <td>Office</td>\n      <td>Park</td>\n      <td>Tennis Court</td>\n      <td>Breakfast Spot</td>\n      <td>Grocery Store</td>\n    </tr>\n    <tr>\n      <th>6</th>\n      <td>ALFORDS POINT</td>\n      <td>Playground</td>\n      <td>Flea Market</td>\n      <td>Shopping Mall</td>\n      <td>Burger Joint</td>\n      <td>Flower Shop</td>\n      <td>Food</td>\n      <td>Electronics Store</td>\n      <td>Event Service</td>\n      <td>Event Space</td>\n      <td>Falafel Restaurant</td>\n    </tr>\n    <tr>\n      <th>7</th>\n      <td>ALLAMBIE HEIGHTS</td>\n      <td>Café</td>\n      <td>Bakery</td>\n      <td>Grocery Store</td>\n      <td>Liquor Store</td>\n      <td>Park</td>\n      <td>Fast Food Restaurant</td>\n      <td>Event Service</td>\n      <td>Event Space</td>\n      <td>Falafel Restaurant</td>\n      <td>Farm</td>\n    </tr>\n    <tr>\n      <th>8</th>\n      <td>ALLAWAH</td>\n      <td>Food Truck</td>\n      <td>Thai Restaurant</td>\n      <td>Pub</td>\n      <td>Yoga Studio</td>\n      <td>Field</td>\n      <td>Electronics Store</td>\n      <td>Event Service</td>\n      <td>Event Space</td>\n      <td>Falafel Restaurant</td>\n      <td>Farm</td>\n    </tr>\n    <tr>\n      <th>9</th>\n      <td>AMBARVALE</td>\n      <td>Soccer Field</td>\n      <td>Trail</td>\n      <td>Bus Stop</td>\n      <td>Clothing Store</td>\n      <td>Park</td>\n      <td>Yoga Studio</td>\n      <td>Fast Food Restaurant</td>\n      <td>Electronics Store</td>\n      <td>Event Service</td>\n      <td>Event Space</td>\n    </tr>\n    <tr>\n      <th>10</th>\n      <td>ANNANDALE</td>\n      <td>Café</td>\n      <td>Park</td>\n      <td>Grocery Store</td>\n      <td>Garden Center</td>\n      <td>Playground</td>\n      <td>Asian Restaurant</td>\n      <td>Bar</td>\n      <td>Pizza Place</td>\n      <td>Snack Place</td>\n      <td>Italian Restaurant</td>\n    </tr>\n    <tr>\n      <th>11</th>\n      <td>ANNANGROVE</td>\n      <td>Indian Restaurant</td>\n      <td>Racetrack</td>\n      <td>Yoga Studio</td>\n      <td>Field</td>\n      <td>Egyptian Restaurant</td>\n      <td>Electronics Store</td>\n      <td>Event Service</td>\n      <td>Event Space</td>\n      <td>Falafel Restaurant</td>\n      <td>Farm</td>\n    </tr>\n    <tr>\n      <th>12</th>\n      <td>ARCADIA</td>\n      <td>Art Gallery</td>\n      <td>Gym</td>\n      <td>Yoga Studio</td>\n      <td>Electronics Store</td>\n      <td>Event Service</td>\n      <td>Event Space</td>\n      <td>Falafel Restaurant</td>\n      <td>Farm</td>\n      <td>Farmers Market</td>\n      <td>Fast Food Restaurant</td>\n    </tr>\n    <tr>\n      <th>13</th>\n      <td>ARNCLIFFE</td>\n      <td>Park</td>\n      <td>Paper / Office Supplies Store</td>\n      <td>Thai Restaurant</td>\n      <td>Bakery</td>\n      <td>Café</td>\n      <td>Grocery Store</td>\n      <td>Gym</td>\n      <td>Outlet Store</td>\n      <td>Lebanese Restaurant</td>\n      <td>Hotel</td>\n    </tr>\n    <tr>\n      <th>14</th>\n      <td>ARNDELL PARK</td>\n      <td>Playground</td>\n      <td>Dog Run</td>\n      <td>Furniture / Home Store</td>\n      <td>Yoga Studio</td>\n      <td>Filipino Restaurant</td>\n      <td>Event Service</td>\n      <td>Event Space</td>\n      <td>Falafel Restaurant</td>\n      <td>Farm</td>\n      <td>Farmers Market</td>\n    </tr>\n    <tr>\n      <th>15</th>\n      <td>ARTARMON</td>\n      <td>Café</td>\n      <td>Park</td>\n      <td>Ramen Restaurant</td>\n      <td>BBQ Joint</td>\n      <td>Sandwich Place</td>\n      <td>Japanese Restaurant</td>\n      <td>Thai Restaurant</td>\n      <td>Convenience Store</td>\n      <td>Plaza</td>\n      <td>Fish &amp; Chips Shop</td>\n    </tr>\n    <tr>\n      <th>16</th>\n      <td>ASHBURY</td>\n      <td>Playground</td>\n      <td>Seafood Restaurant</td>\n      <td>Racecourse</td>\n      <td>Market</td>\n      <td>Fast Food Restaurant</td>\n      <td>Egyptian Restaurant</td>\n      <td>Electronics Store</td>\n      <td>Event Service</td>\n      <td>Event Space</td>\n      <td>Falafel Restaurant</td>\n    </tr>\n    <tr>\n      <th>17</th>\n      <td>ASHFIELD</td>\n      <td>Supermarket</td>\n      <td>Dumpling Restaurant</td>\n      <td>Electronics Store</td>\n      <td>Platform</td>\n      <td>Shanghai Restaurant</td>\n      <td>Café</td>\n      <td>Chinese Restaurant</td>\n      <td>Japanese Restaurant</td>\n      <td>Asian Restaurant</td>\n      <td>Restaurant</td>\n    </tr>\n    <tr>\n      <th>18</th>\n      <td>ASQUITH</td>\n      <td>Supermarket</td>\n      <td>Hobby Shop</td>\n      <td>Train Station</td>\n      <td>Gas Station</td>\n      <td>Fast Food Restaurant</td>\n      <td>Field</td>\n      <td>Electronics Store</td>\n      <td>Event Service</td>\n      <td>Event Space</td>\n      <td>Falafel Restaurant</td>\n    </tr>\n    <tr>\n      <th>19</th>\n      <td>AUBURN</td>\n      <td>Café</td>\n      <td>Grocery Store</td>\n      <td>Supermarket</td>\n      <td>Gym</td>\n      <td>Kebab Restaurant</td>\n      <td>Fast Food Restaurant</td>\n      <td>Turkish Restaurant</td>\n      <td>Pakistani Restaurant</td>\n      <td>Thai Restaurant</td>\n      <td>Dessert Shop</td>\n    </tr>\n  </tbody>\n</table>\n</div>"
     },
     "metadata": {},
     "execution_count": 19
    }
   ],
   "source": [
    "num_top_venues = 10\n",
    "\n",
    "indicators = ['st', 'nd', 'rd']\n",
    "\n",
    "# create columns according to number of top venues\n",
    "columns = ['Suburb']\n",
    "for ind in np.arange(num_top_venues):\n",
    "    try:\n",
    "        columns.append('{}{} Most Common Venue'.format(ind+1, indicators[ind]))\n",
    "    except:\n",
    "        columns.append('{}th Most Common Venue'.format(ind+1))\n",
    "\n",
    "# create a new dataframe\n",
    "suburbs_venues_sorted = pd.DataFrame(columns=columns)\n",
    "suburbs_venues_sorted['Suburb'] = sydney_grouped['Suburb']\n",
    "\n",
    "for ind in np.arange(sydney_grouped.shape[0]):\n",
    "    suburbs_venues_sorted.iloc[ind, 1:] = return_most_common_venues(sydney_grouped.iloc[ind, :], num_top_venues)\n",
    "\n",
    "suburbs_venues_sorted.head(20)\n"
   ]
  },
  {
   "cell_type": "code",
   "execution_count": null,
   "metadata": {},
   "outputs": [],
   "source": [
    "#Applying K-means for clustering"
   ]
  },
  {
   "cell_type": "code",
   "execution_count": 20,
   "metadata": {},
   "outputs": [],
   "source": [
    "from sklearn.cluster import KMeans"
   ]
  },
  {
   "cell_type": "code",
   "execution_count": 21,
   "metadata": {},
   "outputs": [
    {
     "output_type": "execute_result",
     "data": {
      "text/plain": "array([1, 3, 0, 1, 0, 3, 1, 3, 0, 1, 3, 1, 0, 1, 1, 3, 1, 0, 0, 0])"
     },
     "metadata": {},
     "execution_count": 21
    }
   ],
   "source": [
    "#setup the number of cluster\n",
    "kclusters = 5\n",
    "sydney_grouped_clustering = sydney_grouped.drop('Suburb',1)\n",
    "kmeans = KMeans(n_clusters = kclusters, random_state = 0).fit(sydney_grouped_clustering)\n",
    "kmeans.labels_[0:20]"
   ]
  },
  {
   "cell_type": "code",
   "execution_count": null,
   "metadata": {},
   "outputs": [],
   "source": [
    "#create a new DF, which including the clusters and top 10 venues for each suburbs"
   ]
  },
  {
   "cell_type": "code",
   "execution_count": 22,
   "metadata": {},
   "outputs": [
    {
     "output_type": "execute_result",
     "data": {
      "text/plain": "             suburb  postcode        lat         lon  total_patient  \\\n0        ABBOTSBURY      2176 -33.877538  150.867768             18   \n1        ABBOTSFORD      2046 -33.852469  151.129453             14   \n2    ACACIA GARDENS      2763 -33.730077  150.906502             17   \n3       AGNES BANKS      2753 -33.618877  150.707372              5   \n4             AIRDS      2560 -34.084468  150.829041             19   \n5        ALEXANDRIA      2015 -33.897571  151.195567             11   \n6     ALFORDS POINT      2234 -33.993303  151.024751             20   \n7  ALLAMBIE HEIGHTS      2100 -33.765076  151.248864             11   \n8           ALLAWAH      2218 -33.970018  151.114517             12   \n9         AMBARVALE      2560 -34.080467  150.803644             19   \n\n   population      age  AM  Cluster Labels 1st Most Common Venue  \\\n0        4242  mid-age  49             1.0                   Spa   \n1        5366  mid-age  49             3.0           Pizza Place   \n2        3786    adult  29             0.0  Fast Food Restaurant   \n3         919  mid-age  49             1.0   Rental Car Location   \n4        2939    young   9             0.0         Grocery Store   \n5        8266    adult  29             3.0                   Pub   \n6        3093  mid-age  49             1.0            Playground   \n7        7001  mid-age  49             3.0                  Café   \n8        5729    adult  29             0.0            Food Truck   \n9        7358    adult  29             1.0          Soccer Field   \n\n  2nd Most Common Venue        3rd Most Common Venue  \\\n0        Cosmetics Shop            Electronics Store   \n1                  Café              Thai Restaurant   \n2           Pizza Place                  Snack Place   \n3           Yoga Studio  Eastern European Restaurant   \n4                   Pub                  Gas Station   \n5                  Café                       Bakery   \n6           Flea Market                Shopping Mall   \n7                Bakery                Grocery Store   \n8       Thai Restaurant                          Pub   \n9                 Trail                     Bus Stop   \n\n        4th Most Common Venue 5th Most Common Venue 6th Most Common Venue  \\\n0               Event Service           Event Space    Falafel Restaurant   \n1  Construction & Landscaping            Hobby Shop          Liquor Store   \n2                 Gas Station             Pet Store        Sandwich Place   \n3           Electronics Store         Event Service           Event Space   \n4               Shopping Mall           Yoga Studio  Fast Food Restaurant   \n5             Thai Restaurant    Italian Restaurant                Office   \n6                Burger Joint           Flower Shop                  Food   \n7                Liquor Store                  Park  Fast Food Restaurant   \n8                 Yoga Studio                 Field     Electronics Store   \n9              Clothing Store                  Park           Yoga Studio   \n\n  7th Most Common Venue 8th Most Common Venue 9th Most Common Venue  \\\n0                  Farm        Farmers Market  Fast Food Restaurant   \n1          Burger Joint         Grocery Store    Italian Restaurant   \n2         Shopping Mall         Grocery Store       Thai Restaurant   \n3    Falafel Restaurant                  Farm        Farmers Market   \n4     Electronics Store         Event Service           Event Space   \n5                  Park          Tennis Court        Breakfast Spot   \n6     Electronics Store         Event Service           Event Space   \n7         Event Service           Event Space    Falafel Restaurant   \n8         Event Service           Event Space    Falafel Restaurant   \n9  Fast Food Restaurant     Electronics Store         Event Service   \n\n  10th Most Common Venue  \n0                  Field  \n1                   Park  \n2                    Gym  \n3   Fast Food Restaurant  \n4     Falafel Restaurant  \n5          Grocery Store  \n6     Falafel Restaurant  \n7                   Farm  \n8                   Farm  \n9            Event Space  ",
      "text/html": "<div>\n<style scoped>\n    .dataframe tbody tr th:only-of-type {\n        vertical-align: middle;\n    }\n\n    .dataframe tbody tr th {\n        vertical-align: top;\n    }\n\n    .dataframe thead th {\n        text-align: right;\n    }\n</style>\n<table border=\"1\" class=\"dataframe\">\n  <thead>\n    <tr style=\"text-align: right;\">\n      <th></th>\n      <th>suburb</th>\n      <th>postcode</th>\n      <th>lat</th>\n      <th>lon</th>\n      <th>total_patient</th>\n      <th>population</th>\n      <th>age</th>\n      <th>AM</th>\n      <th>Cluster Labels</th>\n      <th>1st Most Common Venue</th>\n      <th>2nd Most Common Venue</th>\n      <th>3rd Most Common Venue</th>\n      <th>4th Most Common Venue</th>\n      <th>5th Most Common Venue</th>\n      <th>6th Most Common Venue</th>\n      <th>7th Most Common Venue</th>\n      <th>8th Most Common Venue</th>\n      <th>9th Most Common Venue</th>\n      <th>10th Most Common Venue</th>\n    </tr>\n  </thead>\n  <tbody>\n    <tr>\n      <th>0</th>\n      <td>ABBOTSBURY</td>\n      <td>2176</td>\n      <td>-33.877538</td>\n      <td>150.867768</td>\n      <td>18</td>\n      <td>4242</td>\n      <td>mid-age</td>\n      <td>49</td>\n      <td>1.0</td>\n      <td>Spa</td>\n      <td>Cosmetics Shop</td>\n      <td>Electronics Store</td>\n      <td>Event Service</td>\n      <td>Event Space</td>\n      <td>Falafel Restaurant</td>\n      <td>Farm</td>\n      <td>Farmers Market</td>\n      <td>Fast Food Restaurant</td>\n      <td>Field</td>\n    </tr>\n    <tr>\n      <th>1</th>\n      <td>ABBOTSFORD</td>\n      <td>2046</td>\n      <td>-33.852469</td>\n      <td>151.129453</td>\n      <td>14</td>\n      <td>5366</td>\n      <td>mid-age</td>\n      <td>49</td>\n      <td>3.0</td>\n      <td>Pizza Place</td>\n      <td>Café</td>\n      <td>Thai Restaurant</td>\n      <td>Construction &amp; Landscaping</td>\n      <td>Hobby Shop</td>\n      <td>Liquor Store</td>\n      <td>Burger Joint</td>\n      <td>Grocery Store</td>\n      <td>Italian Restaurant</td>\n      <td>Park</td>\n    </tr>\n    <tr>\n      <th>2</th>\n      <td>ACACIA GARDENS</td>\n      <td>2763</td>\n      <td>-33.730077</td>\n      <td>150.906502</td>\n      <td>17</td>\n      <td>3786</td>\n      <td>adult</td>\n      <td>29</td>\n      <td>0.0</td>\n      <td>Fast Food Restaurant</td>\n      <td>Pizza Place</td>\n      <td>Snack Place</td>\n      <td>Gas Station</td>\n      <td>Pet Store</td>\n      <td>Sandwich Place</td>\n      <td>Shopping Mall</td>\n      <td>Grocery Store</td>\n      <td>Thai Restaurant</td>\n      <td>Gym</td>\n    </tr>\n    <tr>\n      <th>3</th>\n      <td>AGNES BANKS</td>\n      <td>2753</td>\n      <td>-33.618877</td>\n      <td>150.707372</td>\n      <td>5</td>\n      <td>919</td>\n      <td>mid-age</td>\n      <td>49</td>\n      <td>1.0</td>\n      <td>Rental Car Location</td>\n      <td>Yoga Studio</td>\n      <td>Eastern European Restaurant</td>\n      <td>Electronics Store</td>\n      <td>Event Service</td>\n      <td>Event Space</td>\n      <td>Falafel Restaurant</td>\n      <td>Farm</td>\n      <td>Farmers Market</td>\n      <td>Fast Food Restaurant</td>\n    </tr>\n    <tr>\n      <th>4</th>\n      <td>AIRDS</td>\n      <td>2560</td>\n      <td>-34.084468</td>\n      <td>150.829041</td>\n      <td>19</td>\n      <td>2939</td>\n      <td>young</td>\n      <td>9</td>\n      <td>0.0</td>\n      <td>Grocery Store</td>\n      <td>Pub</td>\n      <td>Gas Station</td>\n      <td>Shopping Mall</td>\n      <td>Yoga Studio</td>\n      <td>Fast Food Restaurant</td>\n      <td>Electronics Store</td>\n      <td>Event Service</td>\n      <td>Event Space</td>\n      <td>Falafel Restaurant</td>\n    </tr>\n    <tr>\n      <th>5</th>\n      <td>ALEXANDRIA</td>\n      <td>2015</td>\n      <td>-33.897571</td>\n      <td>151.195567</td>\n      <td>11</td>\n      <td>8266</td>\n      <td>adult</td>\n      <td>29</td>\n      <td>3.0</td>\n      <td>Pub</td>\n      <td>Café</td>\n      <td>Bakery</td>\n      <td>Thai Restaurant</td>\n      <td>Italian Restaurant</td>\n      <td>Office</td>\n      <td>Park</td>\n      <td>Tennis Court</td>\n      <td>Breakfast Spot</td>\n      <td>Grocery Store</td>\n    </tr>\n    <tr>\n      <th>6</th>\n      <td>ALFORDS POINT</td>\n      <td>2234</td>\n      <td>-33.993303</td>\n      <td>151.024751</td>\n      <td>20</td>\n      <td>3093</td>\n      <td>mid-age</td>\n      <td>49</td>\n      <td>1.0</td>\n      <td>Playground</td>\n      <td>Flea Market</td>\n      <td>Shopping Mall</td>\n      <td>Burger Joint</td>\n      <td>Flower Shop</td>\n      <td>Food</td>\n      <td>Electronics Store</td>\n      <td>Event Service</td>\n      <td>Event Space</td>\n      <td>Falafel Restaurant</td>\n    </tr>\n    <tr>\n      <th>7</th>\n      <td>ALLAMBIE HEIGHTS</td>\n      <td>2100</td>\n      <td>-33.765076</td>\n      <td>151.248864</td>\n      <td>11</td>\n      <td>7001</td>\n      <td>mid-age</td>\n      <td>49</td>\n      <td>3.0</td>\n      <td>Café</td>\n      <td>Bakery</td>\n      <td>Grocery Store</td>\n      <td>Liquor Store</td>\n      <td>Park</td>\n      <td>Fast Food Restaurant</td>\n      <td>Event Service</td>\n      <td>Event Space</td>\n      <td>Falafel Restaurant</td>\n      <td>Farm</td>\n    </tr>\n    <tr>\n      <th>8</th>\n      <td>ALLAWAH</td>\n      <td>2218</td>\n      <td>-33.970018</td>\n      <td>151.114517</td>\n      <td>12</td>\n      <td>5729</td>\n      <td>adult</td>\n      <td>29</td>\n      <td>0.0</td>\n      <td>Food Truck</td>\n      <td>Thai Restaurant</td>\n      <td>Pub</td>\n      <td>Yoga Studio</td>\n      <td>Field</td>\n      <td>Electronics Store</td>\n      <td>Event Service</td>\n      <td>Event Space</td>\n      <td>Falafel Restaurant</td>\n      <td>Farm</td>\n    </tr>\n    <tr>\n      <th>9</th>\n      <td>AMBARVALE</td>\n      <td>2560</td>\n      <td>-34.080467</td>\n      <td>150.803644</td>\n      <td>19</td>\n      <td>7358</td>\n      <td>adult</td>\n      <td>29</td>\n      <td>1.0</td>\n      <td>Soccer Field</td>\n      <td>Trail</td>\n      <td>Bus Stop</td>\n      <td>Clothing Store</td>\n      <td>Park</td>\n      <td>Yoga Studio</td>\n      <td>Fast Food Restaurant</td>\n      <td>Electronics Store</td>\n      <td>Event Service</td>\n      <td>Event Space</td>\n    </tr>\n  </tbody>\n</table>\n</div>"
     },
     "metadata": {},
     "execution_count": 22
    }
   ],
   "source": [
    "\n",
    "# add clustering labels\n",
    "suburbs_venues_sorted.insert(0, 'Cluster Labels', kmeans.labels_)\n",
    "\n",
    "sydney_merged = SYDPC6\n",
    "\n",
    "# merge sydney_grouped with sydney_data to add latitude/longitude for each neighborhood\n",
    "sydney_merged = sydney_merged.join(suburbs_venues_sorted.set_index('Suburb'), on='suburb')\n",
    "\n",
    "sydney_merged.head(10)"
   ]
  },
  {
   "cell_type": "code",
   "execution_count": 24,
   "metadata": {},
   "outputs": [],
   "source": [
    "sydney_merged.to_csv('sydney_merged.csv',index=False)"
   ]
  },
  {
   "cell_type": "code",
   "execution_count": 25,
   "metadata": {},
   "outputs": [],
   "source": [
    "sydney_merged['Cluster Labels'] = sydney_merged['Cluster Labels'].fillna(-1)"
   ]
  },
  {
   "cell_type": "code",
   "execution_count": 26,
   "metadata": {},
   "outputs": [
    {
     "output_type": "execute_result",
     "data": {
      "text/plain": "suburb                     object\npostcode                    int64\nlat                       float64\nlon                       float64\ntotal_patient               int64\npopulation                  int64\nage                        object\nAM                          int64\nCluster Labels            float64\n1st Most Common Venue      object\n2nd Most Common Venue      object\n3rd Most Common Venue      object\n4th Most Common Venue      object\n5th Most Common Venue      object\n6th Most Common Venue      object\n7th Most Common Venue      object\n8th Most Common Venue      object\n9th Most Common Venue      object\n10th Most Common Venue     object\ndtype: object"
     },
     "metadata": {},
     "execution_count": 26
    }
   ],
   "source": [
    "#check data type for sydney_merged\n",
    "sydney_merged.dtypes"
   ]
  },
  {
   "cell_type": "code",
   "execution_count": 29,
   "metadata": {},
   "outputs": [
    {
     "output_type": "execute_result",
     "data": {
      "text/plain": "suburb                     object\npostcode                    int64\nlat                       float64\nlon                       float64\ntotal_patient               int64\npopulation                  int64\nage                        object\nAM                          int64\nCluster Labels              int32\n1st Most Common Venue      object\n2nd Most Common Venue      object\n3rd Most Common Venue      object\n4th Most Common Venue      object\n5th Most Common Venue      object\n6th Most Common Venue      object\n7th Most Common Venue      object\n8th Most Common Venue      object\n9th Most Common Venue      object\n10th Most Common Venue     object\ndtype: object"
     },
     "metadata": {},
     "execution_count": 29
    }
   ],
   "source": [
    "#convert data type for cluster labels from float64 to int\n",
    "sydney_merged['Cluster Labels'] = sydney_merged['Cluster Labels'].astype(int)\n",
    "sydney_merged.dtypes"
   ]
  },
  {
   "cell_type": "markdown",
   "metadata": {},
   "source": [
    "#making maps of clusters along with population, age group and patient number"
   ]
  },
  {
   "cell_type": "code",
   "execution_count": 30,
   "metadata": {},
   "outputs": [],
   "source": [
    "import matplotlib.cm as cm\n",
    "import matplotlib.colors as colors"
   ]
  },
  {
   "cell_type": "code",
   "execution_count": 31,
   "metadata": {},
   "outputs": [],
   "source": [
    "#First of all, cluster with population\n",
    "SYD_lat = -33.865143\n",
    "SYD_lon = 151.209900\n",
    "population_map = folium.Map(location= [SYD_lat, SYD_lon], zoom_start=10, tiles='cartodbpositron' )\n",
    "bins = list(range(0,50000,7000))\n",
    "population_map.choropleth(geo_data = NSW_data, data=SYDPC6, columns=['suburb','population'],key_on = 'feature.properties.nsw_loca_2',fill_color='BuGn', \n",
    "    fill_opacity=0.7, \n",
    "    line_opacity=0.9,\n",
    "    legend_name='Population by Suburb',\n",
    "    bins=bins,\n",
    "    reset=True)\n",
    "\n",
    "# set color scheme for the clusters\n",
    "x = np.arange(kclusters)\n",
    "ys = [i + x + (i*x)**2 for i in range(kclusters)]\n",
    "colors_array = cm.rainbow(np.linspace(0, 1, len(ys)))\n",
    "rainbow = [colors.rgb2hex(i) for i in colors_array]\n",
    "# add markers to the map\n",
    "markers_colors = []\n",
    "for lat, lon, poi, cluster in zip(sydney_merged['lat'], sydney_merged['lon'], sydney_merged['suburb'], sydney_merged['Cluster Labels']):\n",
    "    label = folium.Popup(str(poi) + ' Cluster ' + str(cluster), parse_html=True)\n",
    "    folium.CircleMarker(\n",
    "        [lat, lon],\n",
    "        radius=5,\n",
    "        popup=label,\n",
    "        color=rainbow[cluster-1],\n",
    "        fill=True,\n",
    "        fill_color=rainbow[cluster-1],\n",
    "        fill_opacity=1).add_to(population_map)\n",
    "population_map.save(os.path.join('C:/Users/user/Desktop/test', 'cluster_with_population.html'))"
   ]
  },
  {
   "cell_type": "code",
   "execution_count": 32,
   "metadata": {},
   "outputs": [],
   "source": [
    "#Then clustering with age groups\n",
    "SYD_lat = -33.865143\n",
    "SYD_lon = 151.209900\n",
    "population_map = folium.Map(location= [SYD_lat, SYD_lon], zoom_start=10, tiles='cartodbpositron' )\n",
    "bins = [5,20,40,60,100]\n",
    "population_map.choropleth(geo_data = NSW_data, data=SYDPC6, columns=['suburb','AM'],key_on = 'feature.properties.nsw_loca_2',fill_color='BuPu', \n",
    "    fill_opacity=0.7, \n",
    "    line_opacity=0.9,\n",
    "    legend_name='Patient by Suburb',\n",
    "    bins=bins,\n",
    "    reset=True)\n",
    "# set color scheme for the clusters\n",
    "x = np.arange(kclusters)\n",
    "ys = [i + x + (i*x)**2 for i in range(kclusters)]\n",
    "colors_array = cm.rainbow(np.linspace(0, 1, len(ys)))\n",
    "rainbow = [colors.rgb2hex(i) for i in colors_array]\n",
    "# add markers to the map\n",
    "markers_colors = []\n",
    "for lat, lon, poi, cluster in zip(sydney_merged['lat'], sydney_merged['lon'], sydney_merged['suburb'], sydney_merged['Cluster Labels']):\n",
    "    label = folium.Popup(str(poi) + ' Cluster ' + str(cluster), parse_html=True)\n",
    "    folium.CircleMarker(\n",
    "        [lat, lon],\n",
    "        radius=5,\n",
    "        popup=label,\n",
    "        color=rainbow[cluster-1],\n",
    "        fill=True,\n",
    "        fill_color=rainbow[cluster-1],\n",
    "        fill_opacity=1).add_to(population_map)\n",
    "population_map.save(os.path.join('C:/Users/user/Desktop/test', 'cluster_with_age.html'))\n"
   ]
  },
  {
   "cell_type": "code",
   "execution_count": 33,
   "metadata": {},
   "outputs": [],
   "source": [
    "#finally cluster with patient number\n",
    "#patient number map\n",
    "SYD_lat = -33.865143\n",
    "SYD_lon = 151.209900\n",
    "population_map = folium.Map(location= [SYD_lat, SYD_lon], zoom_start=10, tiles='cartodbpositron' )\n",
    "bins = [0,10,20,30,40,50,100,120]\n",
    "population_map.choropleth(geo_data = NSW_data, data=SYDPC6, columns=['suburb','total_patient'],key_on = 'feature.properties.nsw_loca_2',fill_color='YlOrRd', \n",
    "    fill_opacity=0.7, \n",
    "    line_opacity=0.9,\n",
    "    legend_name='Patient by Suburb',\n",
    "    bins=bins,\n",
    "    reset=True)\n",
    "# set color scheme for the clusters\n",
    "x = np.arange(kclusters)\n",
    "ys = [i + x + (i*x)**2 for i in range(kclusters)]\n",
    "colors_array = cm.rainbow(np.linspace(0, 1, len(ys)))\n",
    "rainbow = [colors.rgb2hex(i) for i in colors_array]\n",
    "# add markers to the map\n",
    "markers_colors = []\n",
    "for lat, lon, poi, cluster in zip(sydney_merged['lat'], sydney_merged['lon'], sydney_merged['suburb'], sydney_merged['Cluster Labels']):\n",
    "    label = folium.Popup(str(poi) + ' Cluster ' + str(cluster), parse_html=True)\n",
    "    folium.CircleMarker(\n",
    "        [lat, lon],\n",
    "        radius=5,\n",
    "        popup=label,\n",
    "        color=rainbow[cluster-1],\n",
    "        fill=True,\n",
    "        fill_color=rainbow[cluster-1],\n",
    "        fill_opacity=1).add_to(population_map)\n",
    "population_map.save(os.path.join('C:/Users/user/Desktop/test', 'cluster_with_patient.html'))"
   ]
  },
  {
   "cell_type": "markdown",
   "metadata": {},
   "source": [
    "#Exam all clusters one by one, find out the discriminate venue category wihch make the cluster distinguish with others."
   ]
  },
  {
   "cell_type": "code",
   "execution_count": 34,
   "metadata": {},
   "outputs": [
    {
     "output_type": "execute_result",
     "data": {
      "text/plain": "                 suburb  total_patient  population      age  AM  \\\n17             ASHCROFT             13        3584    adult  29   \n23       BADGERYS CREEK              0         233    adult  29   \n53             BERRILEE              3         236  mid-age  49   \n55        BEVERLY HILLS             12       10167    adult  29   \n58         BICKLEY VALE             16         446  senior+  69   \n..                  ...            ...         ...      ...  ..   \n630  WEST PENNANT HILLS             14       16367  mid-age  49   \n633           WESTLEIGH             13        4463  mid-age  49   \n636              WHALAN             12        5962    adult  29   \n647      WISEMANS FERRY              0         229  mid-age  49   \n660          YARRAMUNDI              5         828  mid-age  49   \n\n     Cluster Labels 1st Most Common Venue 2nd Most Common Venue  \\\n17               -1                   NaN                   NaN   \n23               -1                   NaN                   NaN   \n53               -1                   NaN                   NaN   \n55               -1                   NaN                   NaN   \n58               -1                   NaN                   NaN   \n..              ...                   ...                   ...   \n630              -1                   NaN                   NaN   \n633              -1                   NaN                   NaN   \n636              -1                   NaN                   NaN   \n647              -1                   NaN                   NaN   \n660              -1                   NaN                   NaN   \n\n    3rd Most Common Venue 4th Most Common Venue 5th Most Common Venue  \\\n17                    NaN                   NaN                   NaN   \n23                    NaN                   NaN                   NaN   \n53                    NaN                   NaN                   NaN   \n55                    NaN                   NaN                   NaN   \n58                    NaN                   NaN                   NaN   \n..                    ...                   ...                   ...   \n630                   NaN                   NaN                   NaN   \n633                   NaN                   NaN                   NaN   \n636                   NaN                   NaN                   NaN   \n647                   NaN                   NaN                   NaN   \n660                   NaN                   NaN                   NaN   \n\n    6th Most Common Venue 7th Most Common Venue 8th Most Common Venue  \\\n17                    NaN                   NaN                   NaN   \n23                    NaN                   NaN                   NaN   \n53                    NaN                   NaN                   NaN   \n55                    NaN                   NaN                   NaN   \n58                    NaN                   NaN                   NaN   \n..                    ...                   ...                   ...   \n630                   NaN                   NaN                   NaN   \n633                   NaN                   NaN                   NaN   \n636                   NaN                   NaN                   NaN   \n647                   NaN                   NaN                   NaN   \n660                   NaN                   NaN                   NaN   \n\n    9th Most Common Venue 10th Most Common Venue  \n17                    NaN                    NaN  \n23                    NaN                    NaN  \n53                    NaN                    NaN  \n55                    NaN                    NaN  \n58                    NaN                    NaN  \n..                    ...                    ...  \n630                   NaN                    NaN  \n633                   NaN                    NaN  \n636                   NaN                    NaN  \n647                   NaN                    NaN  \n660                   NaN                    NaN  \n\n[75 rows x 16 columns]",
      "text/html": "<div>\n<style scoped>\n    .dataframe tbody tr th:only-of-type {\n        vertical-align: middle;\n    }\n\n    .dataframe tbody tr th {\n        vertical-align: top;\n    }\n\n    .dataframe thead th {\n        text-align: right;\n    }\n</style>\n<table border=\"1\" class=\"dataframe\">\n  <thead>\n    <tr style=\"text-align: right;\">\n      <th></th>\n      <th>suburb</th>\n      <th>total_patient</th>\n      <th>population</th>\n      <th>age</th>\n      <th>AM</th>\n      <th>Cluster Labels</th>\n      <th>1st Most Common Venue</th>\n      <th>2nd Most Common Venue</th>\n      <th>3rd Most Common Venue</th>\n      <th>4th Most Common Venue</th>\n      <th>5th Most Common Venue</th>\n      <th>6th Most Common Venue</th>\n      <th>7th Most Common Venue</th>\n      <th>8th Most Common Venue</th>\n      <th>9th Most Common Venue</th>\n      <th>10th Most Common Venue</th>\n    </tr>\n  </thead>\n  <tbody>\n    <tr>\n      <th>17</th>\n      <td>ASHCROFT</td>\n      <td>13</td>\n      <td>3584</td>\n      <td>adult</td>\n      <td>29</td>\n      <td>-1</td>\n      <td>NaN</td>\n      <td>NaN</td>\n      <td>NaN</td>\n      <td>NaN</td>\n      <td>NaN</td>\n      <td>NaN</td>\n      <td>NaN</td>\n      <td>NaN</td>\n      <td>NaN</td>\n      <td>NaN</td>\n    </tr>\n    <tr>\n      <th>23</th>\n      <td>BADGERYS CREEK</td>\n      <td>0</td>\n      <td>233</td>\n      <td>adult</td>\n      <td>29</td>\n      <td>-1</td>\n      <td>NaN</td>\n      <td>NaN</td>\n      <td>NaN</td>\n      <td>NaN</td>\n      <td>NaN</td>\n      <td>NaN</td>\n      <td>NaN</td>\n      <td>NaN</td>\n      <td>NaN</td>\n      <td>NaN</td>\n    </tr>\n    <tr>\n      <th>53</th>\n      <td>BERRILEE</td>\n      <td>3</td>\n      <td>236</td>\n      <td>mid-age</td>\n      <td>49</td>\n      <td>-1</td>\n      <td>NaN</td>\n      <td>NaN</td>\n      <td>NaN</td>\n      <td>NaN</td>\n      <td>NaN</td>\n      <td>NaN</td>\n      <td>NaN</td>\n      <td>NaN</td>\n      <td>NaN</td>\n      <td>NaN</td>\n    </tr>\n    <tr>\n      <th>55</th>\n      <td>BEVERLY HILLS</td>\n      <td>12</td>\n      <td>10167</td>\n      <td>adult</td>\n      <td>29</td>\n      <td>-1</td>\n      <td>NaN</td>\n      <td>NaN</td>\n      <td>NaN</td>\n      <td>NaN</td>\n      <td>NaN</td>\n      <td>NaN</td>\n      <td>NaN</td>\n      <td>NaN</td>\n      <td>NaN</td>\n      <td>NaN</td>\n    </tr>\n    <tr>\n      <th>58</th>\n      <td>BICKLEY VALE</td>\n      <td>16</td>\n      <td>446</td>\n      <td>senior+</td>\n      <td>69</td>\n      <td>-1</td>\n      <td>NaN</td>\n      <td>NaN</td>\n      <td>NaN</td>\n      <td>NaN</td>\n      <td>NaN</td>\n      <td>NaN</td>\n      <td>NaN</td>\n      <td>NaN</td>\n      <td>NaN</td>\n      <td>NaN</td>\n    </tr>\n    <tr>\n      <th>...</th>\n      <td>...</td>\n      <td>...</td>\n      <td>...</td>\n      <td>...</td>\n      <td>...</td>\n      <td>...</td>\n      <td>...</td>\n      <td>...</td>\n      <td>...</td>\n      <td>...</td>\n      <td>...</td>\n      <td>...</td>\n      <td>...</td>\n      <td>...</td>\n      <td>...</td>\n      <td>...</td>\n    </tr>\n    <tr>\n      <th>630</th>\n      <td>WEST PENNANT HILLS</td>\n      <td>14</td>\n      <td>16367</td>\n      <td>mid-age</td>\n      <td>49</td>\n      <td>-1</td>\n      <td>NaN</td>\n      <td>NaN</td>\n      <td>NaN</td>\n      <td>NaN</td>\n      <td>NaN</td>\n      <td>NaN</td>\n      <td>NaN</td>\n      <td>NaN</td>\n      <td>NaN</td>\n      <td>NaN</td>\n    </tr>\n    <tr>\n      <th>633</th>\n      <td>WESTLEIGH</td>\n      <td>13</td>\n      <td>4463</td>\n      <td>mid-age</td>\n      <td>49</td>\n      <td>-1</td>\n      <td>NaN</td>\n      <td>NaN</td>\n      <td>NaN</td>\n      <td>NaN</td>\n      <td>NaN</td>\n      <td>NaN</td>\n      <td>NaN</td>\n      <td>NaN</td>\n      <td>NaN</td>\n      <td>NaN</td>\n    </tr>\n    <tr>\n      <th>636</th>\n      <td>WHALAN</td>\n      <td>12</td>\n      <td>5962</td>\n      <td>adult</td>\n      <td>29</td>\n      <td>-1</td>\n      <td>NaN</td>\n      <td>NaN</td>\n      <td>NaN</td>\n      <td>NaN</td>\n      <td>NaN</td>\n      <td>NaN</td>\n      <td>NaN</td>\n      <td>NaN</td>\n      <td>NaN</td>\n      <td>NaN</td>\n    </tr>\n    <tr>\n      <th>647</th>\n      <td>WISEMANS FERRY</td>\n      <td>0</td>\n      <td>229</td>\n      <td>mid-age</td>\n      <td>49</td>\n      <td>-1</td>\n      <td>NaN</td>\n      <td>NaN</td>\n      <td>NaN</td>\n      <td>NaN</td>\n      <td>NaN</td>\n      <td>NaN</td>\n      <td>NaN</td>\n      <td>NaN</td>\n      <td>NaN</td>\n      <td>NaN</td>\n    </tr>\n    <tr>\n      <th>660</th>\n      <td>YARRAMUNDI</td>\n      <td>5</td>\n      <td>828</td>\n      <td>mid-age</td>\n      <td>49</td>\n      <td>-1</td>\n      <td>NaN</td>\n      <td>NaN</td>\n      <td>NaN</td>\n      <td>NaN</td>\n      <td>NaN</td>\n      <td>NaN</td>\n      <td>NaN</td>\n      <td>NaN</td>\n      <td>NaN</td>\n      <td>NaN</td>\n    </tr>\n  </tbody>\n</table>\n<p>75 rows × 16 columns</p>\n</div>"
     },
     "metadata": {},
     "execution_count": 34
    }
   ],
   "source": [
    "sydney_merged.loc[sydney_merged['Cluster Labels'] == -1, sydney_merged.columns[[0] + list(range(4, sydney_merged.shape[1]))]]"
   ]
  },
  {
   "cell_type": "code",
   "execution_count": 35,
   "metadata": {},
   "outputs": [
    {
     "output_type": "execute_result",
     "data": {
      "text/plain": "             suburb  total_patient  population      age  AM  Cluster Labels  \\\n2    ACACIA GARDENS             17        3786    adult  29               0   \n4             AIRDS             19        2939    young   9               0   \n8           ALLAWAH             12        5729    adult  29               0   \n12          ARCADIA              3        1373  mid-age  49               0   \n18         ASHFIELD             13       23832    adult  29               0   \n..              ...            ...         ...      ...  ..             ...   \n650        WOODBINE             19        2750    adult  29               0   \n651       WOODCROFT             11        6448    adult  29               0   \n659         YAGOONA             11       18014    adult  29               0   \n662         YENNORA              8        1616  senior+  69               0   \n663       YOWIE BAY              6        3095  mid-age  49               0   \n\n    1st Most Common Venue 2nd Most Common Venue 3rd Most Common Venue  \\\n2    Fast Food Restaurant           Pizza Place           Snack Place   \n4           Grocery Store                   Pub           Gas Station   \n8              Food Truck       Thai Restaurant                   Pub   \n12            Art Gallery                   Gym           Yoga Studio   \n18            Supermarket   Dumpling Restaurant     Electronics Store   \n..                    ...                   ...                   ...   \n650        Sandwich Place           Yoga Studio        Cosmetics Shop   \n651                  Lake        Sandwich Place           Yoga Studio   \n659                Bakery                   ATM           Gas Station   \n662              Platform              Pharmacy         Train Station   \n663               Brewery          Liquor Store           Coffee Shop   \n\n           4th Most Common Venue 5th Most Common Venue 6th Most Common Venue  \\\n2                    Gas Station             Pet Store        Sandwich Place   \n4                  Shopping Mall           Yoga Studio  Fast Food Restaurant   \n8                    Yoga Studio                 Field     Electronics Store   \n12             Electronics Store         Event Service           Event Space   \n18                      Platform   Shanghai Restaurant                  Café   \n..                           ...                   ...                   ...   \n650            Electronics Store         Event Service           Event Space   \n651  Eastern European Restaurant     Electronics Store         Event Service   \n659            Convenience Store  Fast Food Restaurant          Burger Joint   \n662                  Yoga Studio                 Field     Electronics Store   \n663                  Yoga Studio           Film Studio           Event Space   \n\n    7th Most Common Venue 8th Most Common Venue 9th Most Common Venue  \\\n2           Shopping Mall         Grocery Store       Thai Restaurant   \n4       Electronics Store         Event Service           Event Space   \n8           Event Service           Event Space    Falafel Restaurant   \n12     Falafel Restaurant                  Farm        Farmers Market   \n18     Chinese Restaurant   Japanese Restaurant      Asian Restaurant   \n..                    ...                   ...                   ...   \n650    Falafel Restaurant                  Farm        Farmers Market   \n651           Event Space    Falafel Restaurant                  Farm   \n659           Event Space    Falafel Restaurant                  Farm   \n662         Event Service           Event Space    Falafel Restaurant   \n663    Falafel Restaurant                  Farm        Farmers Market   \n\n    10th Most Common Venue  \n2                      Gym  \n4       Falafel Restaurant  \n8                     Farm  \n12    Fast Food Restaurant  \n18              Restaurant  \n..                     ...  \n650   Fast Food Restaurant  \n651         Farmers Market  \n659         Farmers Market  \n662                   Farm  \n663   Fast Food Restaurant  \n\n[220 rows x 16 columns]",
      "text/html": "<div>\n<style scoped>\n    .dataframe tbody tr th:only-of-type {\n        vertical-align: middle;\n    }\n\n    .dataframe tbody tr th {\n        vertical-align: top;\n    }\n\n    .dataframe thead th {\n        text-align: right;\n    }\n</style>\n<table border=\"1\" class=\"dataframe\">\n  <thead>\n    <tr style=\"text-align: right;\">\n      <th></th>\n      <th>suburb</th>\n      <th>total_patient</th>\n      <th>population</th>\n      <th>age</th>\n      <th>AM</th>\n      <th>Cluster Labels</th>\n      <th>1st Most Common Venue</th>\n      <th>2nd Most Common Venue</th>\n      <th>3rd Most Common Venue</th>\n      <th>4th Most Common Venue</th>\n      <th>5th Most Common Venue</th>\n      <th>6th Most Common Venue</th>\n      <th>7th Most Common Venue</th>\n      <th>8th Most Common Venue</th>\n      <th>9th Most Common Venue</th>\n      <th>10th Most Common Venue</th>\n    </tr>\n  </thead>\n  <tbody>\n    <tr>\n      <th>2</th>\n      <td>ACACIA GARDENS</td>\n      <td>17</td>\n      <td>3786</td>\n      <td>adult</td>\n      <td>29</td>\n      <td>0</td>\n      <td>Fast Food Restaurant</td>\n      <td>Pizza Place</td>\n      <td>Snack Place</td>\n      <td>Gas Station</td>\n      <td>Pet Store</td>\n      <td>Sandwich Place</td>\n      <td>Shopping Mall</td>\n      <td>Grocery Store</td>\n      <td>Thai Restaurant</td>\n      <td>Gym</td>\n    </tr>\n    <tr>\n      <th>4</th>\n      <td>AIRDS</td>\n      <td>19</td>\n      <td>2939</td>\n      <td>young</td>\n      <td>9</td>\n      <td>0</td>\n      <td>Grocery Store</td>\n      <td>Pub</td>\n      <td>Gas Station</td>\n      <td>Shopping Mall</td>\n      <td>Yoga Studio</td>\n      <td>Fast Food Restaurant</td>\n      <td>Electronics Store</td>\n      <td>Event Service</td>\n      <td>Event Space</td>\n      <td>Falafel Restaurant</td>\n    </tr>\n    <tr>\n      <th>8</th>\n      <td>ALLAWAH</td>\n      <td>12</td>\n      <td>5729</td>\n      <td>adult</td>\n      <td>29</td>\n      <td>0</td>\n      <td>Food Truck</td>\n      <td>Thai Restaurant</td>\n      <td>Pub</td>\n      <td>Yoga Studio</td>\n      <td>Field</td>\n      <td>Electronics Store</td>\n      <td>Event Service</td>\n      <td>Event Space</td>\n      <td>Falafel Restaurant</td>\n      <td>Farm</td>\n    </tr>\n    <tr>\n      <th>12</th>\n      <td>ARCADIA</td>\n      <td>3</td>\n      <td>1373</td>\n      <td>mid-age</td>\n      <td>49</td>\n      <td>0</td>\n      <td>Art Gallery</td>\n      <td>Gym</td>\n      <td>Yoga Studio</td>\n      <td>Electronics Store</td>\n      <td>Event Service</td>\n      <td>Event Space</td>\n      <td>Falafel Restaurant</td>\n      <td>Farm</td>\n      <td>Farmers Market</td>\n      <td>Fast Food Restaurant</td>\n    </tr>\n    <tr>\n      <th>18</th>\n      <td>ASHFIELD</td>\n      <td>13</td>\n      <td>23832</td>\n      <td>adult</td>\n      <td>29</td>\n      <td>0</td>\n      <td>Supermarket</td>\n      <td>Dumpling Restaurant</td>\n      <td>Electronics Store</td>\n      <td>Platform</td>\n      <td>Shanghai Restaurant</td>\n      <td>Café</td>\n      <td>Chinese Restaurant</td>\n      <td>Japanese Restaurant</td>\n      <td>Asian Restaurant</td>\n      <td>Restaurant</td>\n    </tr>\n    <tr>\n      <th>...</th>\n      <td>...</td>\n      <td>...</td>\n      <td>...</td>\n      <td>...</td>\n      <td>...</td>\n      <td>...</td>\n      <td>...</td>\n      <td>...</td>\n      <td>...</td>\n      <td>...</td>\n      <td>...</td>\n      <td>...</td>\n      <td>...</td>\n      <td>...</td>\n      <td>...</td>\n      <td>...</td>\n    </tr>\n    <tr>\n      <th>650</th>\n      <td>WOODBINE</td>\n      <td>19</td>\n      <td>2750</td>\n      <td>adult</td>\n      <td>29</td>\n      <td>0</td>\n      <td>Sandwich Place</td>\n      <td>Yoga Studio</td>\n      <td>Cosmetics Shop</td>\n      <td>Electronics Store</td>\n      <td>Event Service</td>\n      <td>Event Space</td>\n      <td>Falafel Restaurant</td>\n      <td>Farm</td>\n      <td>Farmers Market</td>\n      <td>Fast Food Restaurant</td>\n    </tr>\n    <tr>\n      <th>651</th>\n      <td>WOODCROFT</td>\n      <td>11</td>\n      <td>6448</td>\n      <td>adult</td>\n      <td>29</td>\n      <td>0</td>\n      <td>Lake</td>\n      <td>Sandwich Place</td>\n      <td>Yoga Studio</td>\n      <td>Eastern European Restaurant</td>\n      <td>Electronics Store</td>\n      <td>Event Service</td>\n      <td>Event Space</td>\n      <td>Falafel Restaurant</td>\n      <td>Farm</td>\n      <td>Farmers Market</td>\n    </tr>\n    <tr>\n      <th>659</th>\n      <td>YAGOONA</td>\n      <td>11</td>\n      <td>18014</td>\n      <td>adult</td>\n      <td>29</td>\n      <td>0</td>\n      <td>Bakery</td>\n      <td>ATM</td>\n      <td>Gas Station</td>\n      <td>Convenience Store</td>\n      <td>Fast Food Restaurant</td>\n      <td>Burger Joint</td>\n      <td>Event Space</td>\n      <td>Falafel Restaurant</td>\n      <td>Farm</td>\n      <td>Farmers Market</td>\n    </tr>\n    <tr>\n      <th>662</th>\n      <td>YENNORA</td>\n      <td>8</td>\n      <td>1616</td>\n      <td>senior+</td>\n      <td>69</td>\n      <td>0</td>\n      <td>Platform</td>\n      <td>Pharmacy</td>\n      <td>Train Station</td>\n      <td>Yoga Studio</td>\n      <td>Field</td>\n      <td>Electronics Store</td>\n      <td>Event Service</td>\n      <td>Event Space</td>\n      <td>Falafel Restaurant</td>\n      <td>Farm</td>\n    </tr>\n    <tr>\n      <th>663</th>\n      <td>YOWIE BAY</td>\n      <td>6</td>\n      <td>3095</td>\n      <td>mid-age</td>\n      <td>49</td>\n      <td>0</td>\n      <td>Brewery</td>\n      <td>Liquor Store</td>\n      <td>Coffee Shop</td>\n      <td>Yoga Studio</td>\n      <td>Film Studio</td>\n      <td>Event Space</td>\n      <td>Falafel Restaurant</td>\n      <td>Farm</td>\n      <td>Farmers Market</td>\n      <td>Fast Food Restaurant</td>\n    </tr>\n  </tbody>\n</table>\n<p>220 rows × 16 columns</p>\n</div>"
     },
     "metadata": {},
     "execution_count": 35
    }
   ],
   "source": [
    "\n",
    "sydney_merged.loc[sydney_merged['Cluster Labels'] == 0, sydney_merged.columns[[0] + list(range(4, sydney_merged.shape[1]))]]"
   ]
  },
  {
   "cell_type": "code",
   "execution_count": 36,
   "metadata": {},
   "outputs": [
    {
     "output_type": "execute_result",
     "data": {
      "text/plain": "               suburb  total_patient  population      age  AM  Cluster Labels  \\\n0          ABBOTSBURY             18        4242  mid-age  49               1   \n3         AGNES BANKS              5         919  mid-age  49               1   \n6       ALFORDS POINT             20        3093  mid-age  49               1   \n9           AMBARVALE             19        7358    adult  29               1   \n11         ANNANGROVE              3        1403  mid-age  49               1   \n..                ...            ...         ...      ...  ..             ...   \n654     WOOLLOOMOOLOO             30        4014    adult  29               1   \n655        WOOLOOWARE             25        3967  mid-age  49               1   \n656          WOOLWICH             10         814  senior+  69               1   \n657          WORONORA             18        2193  mid-age  49               1   \n658  WORONORA HEIGHTS             13        2870  mid-age  49               1   \n\n     1st Most Common Venue 2nd Most Common Venue        3rd Most Common Venue  \\\n0                      Spa        Cosmetics Shop            Electronics Store   \n3      Rental Car Location           Yoga Studio  Eastern European Restaurant   \n6               Playground           Flea Market                Shopping Mall   \n9             Soccer Field                 Trail                     Bus Stop   \n11       Indian Restaurant             Racetrack                  Yoga Studio   \n..                     ...                   ...                          ...   \n654  Australian Restaurant                  Café                        Hotel   \n655           Cupcake Shop      Business Service      Fruit & Vegetable Store   \n656        Harbor / Marina                  Park                         Pier   \n657                 Lawyer  Gym / Fitness Center                 Burger Joint   \n658          Grocery Store          Soccer Field                       Arcade   \n\n    4th Most Common Venue  5th Most Common Venue 6th Most Common Venue  \\\n0           Event Service            Event Space    Falafel Restaurant   \n3       Electronics Store          Event Service           Event Space   \n6            Burger Joint            Flower Shop                  Food   \n9          Clothing Store                   Park           Yoga Studio   \n11                  Field    Egyptian Restaurant     Electronics Store   \n..                    ...                    ...                   ...   \n654    Italian Restaurant                    Pub    Chinese Restaurant   \n655                 Beach          Train Station          Burger Joint   \n656                  Café  Australian Restaurant                   Bar   \n657        Scenic Lookout                   Park        Farmers Market   \n658   Filipino Restaurant      Electronics Store         Event Service   \n\n    7th Most Common Venue 8th Most Common Venue 9th Most Common Venue  \\\n0                    Farm        Farmers Market  Fast Food Restaurant   \n3      Falafel Restaurant                  Farm        Farmers Market   \n6       Electronics Store         Event Service           Event Space   \n9    Fast Food Restaurant     Electronics Store         Event Service   \n11          Event Service           Event Space    Falafel Restaurant   \n..                    ...                   ...                   ...   \n654                 Trail           Art Gallery       Harbor / Marina   \n655           Yoga Studio   Filipino Restaurant    Falafel Restaurant   \n656    Italian Restaurant           Yoga Studio         Event Service   \n657   Egyptian Restaurant     Electronics Store         Event Service   \n658           Event Space    Falafel Restaurant                  Farm   \n\n    10th Most Common Venue  \n0                    Field  \n3     Fast Food Restaurant  \n6       Falafel Restaurant  \n9              Event Space  \n11                    Farm  \n..                     ...  \n654                   Park  \n655                   Farm  \n656            Event Space  \n657            Event Space  \n658         Farmers Market  \n\n[157 rows x 16 columns]",
      "text/html": "<div>\n<style scoped>\n    .dataframe tbody tr th:only-of-type {\n        vertical-align: middle;\n    }\n\n    .dataframe tbody tr th {\n        vertical-align: top;\n    }\n\n    .dataframe thead th {\n        text-align: right;\n    }\n</style>\n<table border=\"1\" class=\"dataframe\">\n  <thead>\n    <tr style=\"text-align: right;\">\n      <th></th>\n      <th>suburb</th>\n      <th>total_patient</th>\n      <th>population</th>\n      <th>age</th>\n      <th>AM</th>\n      <th>Cluster Labels</th>\n      <th>1st Most Common Venue</th>\n      <th>2nd Most Common Venue</th>\n      <th>3rd Most Common Venue</th>\n      <th>4th Most Common Venue</th>\n      <th>5th Most Common Venue</th>\n      <th>6th Most Common Venue</th>\n      <th>7th Most Common Venue</th>\n      <th>8th Most Common Venue</th>\n      <th>9th Most Common Venue</th>\n      <th>10th Most Common Venue</th>\n    </tr>\n  </thead>\n  <tbody>\n    <tr>\n      <th>0</th>\n      <td>ABBOTSBURY</td>\n      <td>18</td>\n      <td>4242</td>\n      <td>mid-age</td>\n      <td>49</td>\n      <td>1</td>\n      <td>Spa</td>\n      <td>Cosmetics Shop</td>\n      <td>Electronics Store</td>\n      <td>Event Service</td>\n      <td>Event Space</td>\n      <td>Falafel Restaurant</td>\n      <td>Farm</td>\n      <td>Farmers Market</td>\n      <td>Fast Food Restaurant</td>\n      <td>Field</td>\n    </tr>\n    <tr>\n      <th>3</th>\n      <td>AGNES BANKS</td>\n      <td>5</td>\n      <td>919</td>\n      <td>mid-age</td>\n      <td>49</td>\n      <td>1</td>\n      <td>Rental Car Location</td>\n      <td>Yoga Studio</td>\n      <td>Eastern European Restaurant</td>\n      <td>Electronics Store</td>\n      <td>Event Service</td>\n      <td>Event Space</td>\n      <td>Falafel Restaurant</td>\n      <td>Farm</td>\n      <td>Farmers Market</td>\n      <td>Fast Food Restaurant</td>\n    </tr>\n    <tr>\n      <th>6</th>\n      <td>ALFORDS POINT</td>\n      <td>20</td>\n      <td>3093</td>\n      <td>mid-age</td>\n      <td>49</td>\n      <td>1</td>\n      <td>Playground</td>\n      <td>Flea Market</td>\n      <td>Shopping Mall</td>\n      <td>Burger Joint</td>\n      <td>Flower Shop</td>\n      <td>Food</td>\n      <td>Electronics Store</td>\n      <td>Event Service</td>\n      <td>Event Space</td>\n      <td>Falafel Restaurant</td>\n    </tr>\n    <tr>\n      <th>9</th>\n      <td>AMBARVALE</td>\n      <td>19</td>\n      <td>7358</td>\n      <td>adult</td>\n      <td>29</td>\n      <td>1</td>\n      <td>Soccer Field</td>\n      <td>Trail</td>\n      <td>Bus Stop</td>\n      <td>Clothing Store</td>\n      <td>Park</td>\n      <td>Yoga Studio</td>\n      <td>Fast Food Restaurant</td>\n      <td>Electronics Store</td>\n      <td>Event Service</td>\n      <td>Event Space</td>\n    </tr>\n    <tr>\n      <th>11</th>\n      <td>ANNANGROVE</td>\n      <td>3</td>\n      <td>1403</td>\n      <td>mid-age</td>\n      <td>49</td>\n      <td>1</td>\n      <td>Indian Restaurant</td>\n      <td>Racetrack</td>\n      <td>Yoga Studio</td>\n      <td>Field</td>\n      <td>Egyptian Restaurant</td>\n      <td>Electronics Store</td>\n      <td>Event Service</td>\n      <td>Event Space</td>\n      <td>Falafel Restaurant</td>\n      <td>Farm</td>\n    </tr>\n    <tr>\n      <th>...</th>\n      <td>...</td>\n      <td>...</td>\n      <td>...</td>\n      <td>...</td>\n      <td>...</td>\n      <td>...</td>\n      <td>...</td>\n      <td>...</td>\n      <td>...</td>\n      <td>...</td>\n      <td>...</td>\n      <td>...</td>\n      <td>...</td>\n      <td>...</td>\n      <td>...</td>\n      <td>...</td>\n    </tr>\n    <tr>\n      <th>654</th>\n      <td>WOOLLOOMOOLOO</td>\n      <td>30</td>\n      <td>4014</td>\n      <td>adult</td>\n      <td>29</td>\n      <td>1</td>\n      <td>Australian Restaurant</td>\n      <td>Café</td>\n      <td>Hotel</td>\n      <td>Italian Restaurant</td>\n      <td>Pub</td>\n      <td>Chinese Restaurant</td>\n      <td>Trail</td>\n      <td>Art Gallery</td>\n      <td>Harbor / Marina</td>\n      <td>Park</td>\n    </tr>\n    <tr>\n      <th>655</th>\n      <td>WOOLOOWARE</td>\n      <td>25</td>\n      <td>3967</td>\n      <td>mid-age</td>\n      <td>49</td>\n      <td>1</td>\n      <td>Cupcake Shop</td>\n      <td>Business Service</td>\n      <td>Fruit &amp; Vegetable Store</td>\n      <td>Beach</td>\n      <td>Train Station</td>\n      <td>Burger Joint</td>\n      <td>Yoga Studio</td>\n      <td>Filipino Restaurant</td>\n      <td>Falafel Restaurant</td>\n      <td>Farm</td>\n    </tr>\n    <tr>\n      <th>656</th>\n      <td>WOOLWICH</td>\n      <td>10</td>\n      <td>814</td>\n      <td>senior+</td>\n      <td>69</td>\n      <td>1</td>\n      <td>Harbor / Marina</td>\n      <td>Park</td>\n      <td>Pier</td>\n      <td>Café</td>\n      <td>Australian Restaurant</td>\n      <td>Bar</td>\n      <td>Italian Restaurant</td>\n      <td>Yoga Studio</td>\n      <td>Event Service</td>\n      <td>Event Space</td>\n    </tr>\n    <tr>\n      <th>657</th>\n      <td>WORONORA</td>\n      <td>18</td>\n      <td>2193</td>\n      <td>mid-age</td>\n      <td>49</td>\n      <td>1</td>\n      <td>Lawyer</td>\n      <td>Gym / Fitness Center</td>\n      <td>Burger Joint</td>\n      <td>Scenic Lookout</td>\n      <td>Park</td>\n      <td>Farmers Market</td>\n      <td>Egyptian Restaurant</td>\n      <td>Electronics Store</td>\n      <td>Event Service</td>\n      <td>Event Space</td>\n    </tr>\n    <tr>\n      <th>658</th>\n      <td>WORONORA HEIGHTS</td>\n      <td>13</td>\n      <td>2870</td>\n      <td>mid-age</td>\n      <td>49</td>\n      <td>1</td>\n      <td>Grocery Store</td>\n      <td>Soccer Field</td>\n      <td>Arcade</td>\n      <td>Filipino Restaurant</td>\n      <td>Electronics Store</td>\n      <td>Event Service</td>\n      <td>Event Space</td>\n      <td>Falafel Restaurant</td>\n      <td>Farm</td>\n      <td>Farmers Market</td>\n    </tr>\n  </tbody>\n</table>\n<p>157 rows × 16 columns</p>\n</div>"
     },
     "metadata": {},
     "execution_count": 36
    }
   ],
   "source": [
    "sydney_merged.loc[sydney_merged['Cluster Labels'] == 1, sydney_merged.columns[[0] + list(range(4, sydney_merged.shape[1]))]]"
   ]
  },
  {
   "cell_type": "code",
   "execution_count": 37,
   "metadata": {},
   "outputs": [
    {
     "output_type": "execute_result",
     "data": {
      "text/plain": "                   suburb  total_patient  population      age  AM  \\\n33           BARDEN RIDGE             20        4312  mid-age  49   \n35        BARDWELL VALLEY             10        2328  mid-age  49   \n38                BAYVIEW              2        3624  senior+  69   \n41         BEAUMONT HILLS             25        9052  mid-age  49   \n45          BELLEVUE HILL             35       10709    adult  29   \n73      BONNYRIGG HEIGHTS              2        7310  mid-age  49   \n89               CABARITA             10        1973  senior+  69   \n109              CARRAMAR              7        3547    adult  29   \n123        CHATSWOOD WEST              2        1492  mid-age  49   \n124            CHELTENHAM              9        2249  mid-age  49   \n150        CONNELLS POINT              2        2816  mid-age  49   \n164             CURL CURL             14        2419  mid-age  49   \n169         DARLING POINT              7        4192  senior+  69   \n196          EAST KILLARA              4        2979  mid-age  49   \n218         ENGLORIE PARK             19         417    adult  29   \n291       HORNSBY HEIGHTS             22        6290  mid-age  49   \n358          LINLEY POINT             16         352  mid-age  49   \n367           LONGUEVILLE             16        2082  mid-age  49   \n372               LUGARNO             21        5616  mid-age  49   \n375       MACQUARIE LINKS              3        1373  mid-age  49   \n376        MACQUARIE PARK             22        8153    adult  29   \n390             MAYS HILL             42         762    adult  29   \n394          MELROSE PARK             12        1576  mid-age  49   \n399           MIDDLE COVE             15        1327  mid-age  49   \n449        NORTH ST MARYS             11        3903    adult  29   \n490        PLEASURE POINT              1         517  mid-age  49   \n521             RIVERVIEW             16        3340    young   9   \n522             RIVERVIEW              0        3347    young   9   \n567  SOUTH WENTWORTHVILLE             42        6212    adult  29   \n575         ST JOHNS PARK             18        6120  senior+  69   \n595        TENNYSON POINT             12        1227  mid-age  49   \n597             THE PONDS              4       11715    adult  29   \n615              WARRAWEE             14        2982  mid-age  49   \n628      WERRINGTON DOWNS             50        3240    adult  29   \n641               WILLMOT             12        2445    young   9   \n661           YARRAWARRAH             13        2726  mid-age  49   \n\n     Cluster Labels 1st Most Common Venue 2nd Most Common Venue  \\\n33                2    Italian Restaurant                  Park   \n35                2            Playground    Miscellaneous Shop   \n38                2                  Park         Boat or Ferry   \n41                2                  Park           Yoga Studio   \n45                2                  Park                  Café   \n73                2            Playground                  Park   \n89                2                  Park                 Beach   \n109               2         Train Station                  Park   \n123               2                  Park           Sports Club   \n124               2  Herbs & Spices Store                  Park   \n150               2         Boat or Ferry              Bus Stop   \n164               2                  Park             Surf Spot   \n169               2                  Park    Italian Restaurant   \n196               2                  Park                 Trail   \n218               2                  Park           Yoga Studio   \n291               2                  Park     Food & Drink Shop   \n358               2                  Park         Historic Site   \n367               2                  Park       Harbor / Marina   \n372               2       Thai Restaurant      Business Service   \n375               2                  Park           Yoga Studio   \n376               2                  Park           Coffee Shop   \n390               2                  Park                Museum   \n394               2                   Gym                  Park   \n399               2                  Park            Playground   \n449               2                  Park           Yoga Studio   \n490               2                  Park           Yoga Studio   \n521               2                  Park                   Gym   \n522               2                  Park                   Gym   \n567               2                  Park         Train Station   \n575               2                  Park    Photography Studio   \n595               2             Gift Shop             Cafeteria   \n597               2                  Lake                  Park   \n615               2    Athletics & Sports         Train Station   \n628               2                  Park           Yoga Studio   \n641               2     Convenience Store                  Park   \n661               2           Pizza Place              Pharmacy   \n\n           3rd Most Common Venue 4th Most Common Venue  \\\n33                   Yoga Studio     Electronics Store   \n35                          Park           Yoga Studio   \n38                          Café               Dog Run   \n41   Eastern European Restaurant     Electronics Store   \n45                   Pizza Place    Italian Restaurant   \n73                   Yoga Studio                 Field   \n89                   Yoga Studio   Egyptian Restaurant   \n109                  Yoga Studio  Fast Food Restaurant   \n123                     Bus Stop                Arcade   \n124          Filipino Restaurant     Electronics Store   \n150                         Park           Yoga Studio   \n164                      Dog Run                 Beach   \n169                         Café       Harbor / Marina   \n196                  Yoga Studio  Fast Food Restaurant   \n218  Eastern European Restaurant     Electronics Store   \n291                 Home Service           Yoga Studio   \n358                  Yoga Studio   Filipino Restaurant   \n367                     Bus Stop           Yoga Studio   \n372                         Park           Yoga Studio   \n375  Eastern European Restaurant     Electronics Store   \n376                   Steakhouse         Garden Center   \n390                  Yoga Studio                 Field   \n394                  Yoga Studio                 Field   \n399                         Café              Bus Stop   \n449  Eastern European Restaurant     Electronics Store   \n490  Eastern European Restaurant     Electronics Store   \n521              Harbor / Marina                Arcade   \n522              Harbor / Marina                Arcade   \n567      Health & Beauty Service           Yoga Studio   \n575                  Yoga Studio                 Field   \n595                         Park           Yoga Studio   \n597                  Yoga Studio                 Field   \n615                         Park           Yoga Studio   \n628  Eastern European Restaurant     Electronics Store   \n641                  Yoga Studio   Filipino Restaurant   \n661                         Park           Yoga Studio   \n\n           5th Most Common Venue 6th Most Common Venue 7th Most Common Venue  \\\n33                 Event Service           Event Space    Falafel Restaurant   \n35                         Field     Electronics Store         Event Service   \n38                   Yoga Studio   Filipino Restaurant           Event Space   \n41                 Event Service           Event Space    Falafel Restaurant   \n45                   Yoga Studio                 Field         Event Service   \n73             Electronics Store         Event Service           Event Space   \n89                 Event Service           Event Space    Falafel Restaurant   \n109          Egyptian Restaurant     Electronics Store         Event Service   \n123                  Bus Station           Yoga Studio                 Field   \n124                Event Service           Event Space    Falafel Restaurant   \n150          Filipino Restaurant           Event Space    Falafel Restaurant   \n164          Filipino Restaurant           Event Space    Falafel Restaurant   \n169  Eastern European Restaurant     Electronics Store         Event Service   \n196          Egyptian Restaurant     Electronics Store         Event Service   \n218                Event Service           Event Space    Falafel Restaurant   \n291                        Field     Electronics Store         Event Service   \n358            Electronics Store         Event Service           Event Space   \n367         Fast Food Restaurant     Electronics Store         Event Service   \n372          Egyptian Restaurant         Event Service           Event Space   \n375                Event Service           Event Space    Falafel Restaurant   \n376                  Yoga Studio                 Field         Event Service   \n390            Electronics Store         Event Service           Event Space   \n394            Electronics Store         Event Service           Event Space   \n399          Egyptian Restaurant         Event Service           Event Space   \n449                Event Service           Event Space    Falafel Restaurant   \n490                Event Service           Event Space    Falafel Restaurant   \n521                  Yoga Studio  Fast Food Restaurant     Electronics Store   \n522                  Yoga Studio  Fast Food Restaurant     Electronics Store   \n567          Dumpling Restaurant   Egyptian Restaurant     Electronics Store   \n575            Electronics Store         Event Service           Event Space   \n595          Egyptian Restaurant         Event Service           Event Space   \n597            Electronics Store         Event Service           Event Space   \n615  Eastern European Restaurant     Electronics Store         Event Service   \n628                Event Service           Event Space    Falafel Restaurant   \n641            Electronics Store         Event Service           Event Space   \n661                        Field     Electronics Store         Event Service   \n\n    8th Most Common Venue 9th Most Common Venue 10th Most Common Venue  \n33                   Farm        Farmers Market   Fast Food Restaurant  \n35            Event Space    Falafel Restaurant                   Farm  \n38     Falafel Restaurant                  Farm         Farmers Market  \n41                   Farm        Farmers Market   Fast Food Restaurant  \n45            Event Space    Falafel Restaurant                   Farm  \n73     Falafel Restaurant                  Farm         Farmers Market  \n89                   Farm        Farmers Market   Fast Food Restaurant  \n109           Event Space    Falafel Restaurant                   Farm  \n123           Event Space    Falafel Restaurant                   Farm  \n124                  Farm        Farmers Market   Fast Food Restaurant  \n150                  Farm        Farmers Market   Fast Food Restaurant  \n164                  Farm        Farmers Market   Fast Food Restaurant  \n169           Event Space    Falafel Restaurant                   Farm  \n196           Event Space    Falafel Restaurant                   Farm  \n218                  Farm        Farmers Market   Fast Food Restaurant  \n291           Event Space    Falafel Restaurant                   Farm  \n358    Falafel Restaurant                  Farm         Farmers Market  \n367           Event Space    Falafel Restaurant                   Farm  \n372    Falafel Restaurant                  Farm         Farmers Market  \n375                  Farm        Farmers Market   Fast Food Restaurant  \n376           Event Space    Falafel Restaurant                   Farm  \n390    Falafel Restaurant                  Farm         Farmers Market  \n394    Falafel Restaurant                  Farm         Farmers Market  \n399    Falafel Restaurant                  Farm         Farmers Market  \n449                  Farm        Farmers Market   Fast Food Restaurant  \n490                  Farm        Farmers Market   Fast Food Restaurant  \n521         Event Service           Event Space     Falafel Restaurant  \n522         Event Service           Event Space     Falafel Restaurant  \n567         Event Service           Event Space     Falafel Restaurant  \n575    Falafel Restaurant                  Farm         Farmers Market  \n595    Falafel Restaurant                  Farm         Farmers Market  \n597    Falafel Restaurant                  Farm         Farmers Market  \n615           Event Space    Falafel Restaurant                   Farm  \n628                  Farm        Farmers Market   Fast Food Restaurant  \n641    Falafel Restaurant                  Farm         Farmers Market  \n661           Event Space    Falafel Restaurant                   Farm  ",
      "text/html": "<div>\n<style scoped>\n    .dataframe tbody tr th:only-of-type {\n        vertical-align: middle;\n    }\n\n    .dataframe tbody tr th {\n        vertical-align: top;\n    }\n\n    .dataframe thead th {\n        text-align: right;\n    }\n</style>\n<table border=\"1\" class=\"dataframe\">\n  <thead>\n    <tr style=\"text-align: right;\">\n      <th></th>\n      <th>suburb</th>\n      <th>total_patient</th>\n      <th>population</th>\n      <th>age</th>\n      <th>AM</th>\n      <th>Cluster Labels</th>\n      <th>1st Most Common Venue</th>\n      <th>2nd Most Common Venue</th>\n      <th>3rd Most Common Venue</th>\n      <th>4th Most Common Venue</th>\n      <th>5th Most Common Venue</th>\n      <th>6th Most Common Venue</th>\n      <th>7th Most Common Venue</th>\n      <th>8th Most Common Venue</th>\n      <th>9th Most Common Venue</th>\n      <th>10th Most Common Venue</th>\n    </tr>\n  </thead>\n  <tbody>\n    <tr>\n      <th>33</th>\n      <td>BARDEN RIDGE</td>\n      <td>20</td>\n      <td>4312</td>\n      <td>mid-age</td>\n      <td>49</td>\n      <td>2</td>\n      <td>Italian Restaurant</td>\n      <td>Park</td>\n      <td>Yoga Studio</td>\n      <td>Electronics Store</td>\n      <td>Event Service</td>\n      <td>Event Space</td>\n      <td>Falafel Restaurant</td>\n      <td>Farm</td>\n      <td>Farmers Market</td>\n      <td>Fast Food Restaurant</td>\n    </tr>\n    <tr>\n      <th>35</th>\n      <td>BARDWELL VALLEY</td>\n      <td>10</td>\n      <td>2328</td>\n      <td>mid-age</td>\n      <td>49</td>\n      <td>2</td>\n      <td>Playground</td>\n      <td>Miscellaneous Shop</td>\n      <td>Park</td>\n      <td>Yoga Studio</td>\n      <td>Field</td>\n      <td>Electronics Store</td>\n      <td>Event Service</td>\n      <td>Event Space</td>\n      <td>Falafel Restaurant</td>\n      <td>Farm</td>\n    </tr>\n    <tr>\n      <th>38</th>\n      <td>BAYVIEW</td>\n      <td>2</td>\n      <td>3624</td>\n      <td>senior+</td>\n      <td>69</td>\n      <td>2</td>\n      <td>Park</td>\n      <td>Boat or Ferry</td>\n      <td>Café</td>\n      <td>Dog Run</td>\n      <td>Yoga Studio</td>\n      <td>Filipino Restaurant</td>\n      <td>Event Space</td>\n      <td>Falafel Restaurant</td>\n      <td>Farm</td>\n      <td>Farmers Market</td>\n    </tr>\n    <tr>\n      <th>41</th>\n      <td>BEAUMONT HILLS</td>\n      <td>25</td>\n      <td>9052</td>\n      <td>mid-age</td>\n      <td>49</td>\n      <td>2</td>\n      <td>Park</td>\n      <td>Yoga Studio</td>\n      <td>Eastern European Restaurant</td>\n      <td>Electronics Store</td>\n      <td>Event Service</td>\n      <td>Event Space</td>\n      <td>Falafel Restaurant</td>\n      <td>Farm</td>\n      <td>Farmers Market</td>\n      <td>Fast Food Restaurant</td>\n    </tr>\n    <tr>\n      <th>45</th>\n      <td>BELLEVUE HILL</td>\n      <td>35</td>\n      <td>10709</td>\n      <td>adult</td>\n      <td>29</td>\n      <td>2</td>\n      <td>Park</td>\n      <td>Café</td>\n      <td>Pizza Place</td>\n      <td>Italian Restaurant</td>\n      <td>Yoga Studio</td>\n      <td>Field</td>\n      <td>Event Service</td>\n      <td>Event Space</td>\n      <td>Falafel Restaurant</td>\n      <td>Farm</td>\n    </tr>\n    <tr>\n      <th>73</th>\n      <td>BONNYRIGG HEIGHTS</td>\n      <td>2</td>\n      <td>7310</td>\n      <td>mid-age</td>\n      <td>49</td>\n      <td>2</td>\n      <td>Playground</td>\n      <td>Park</td>\n      <td>Yoga Studio</td>\n      <td>Field</td>\n      <td>Electronics Store</td>\n      <td>Event Service</td>\n      <td>Event Space</td>\n      <td>Falafel Restaurant</td>\n      <td>Farm</td>\n      <td>Farmers Market</td>\n    </tr>\n    <tr>\n      <th>89</th>\n      <td>CABARITA</td>\n      <td>10</td>\n      <td>1973</td>\n      <td>senior+</td>\n      <td>69</td>\n      <td>2</td>\n      <td>Park</td>\n      <td>Beach</td>\n      <td>Yoga Studio</td>\n      <td>Egyptian Restaurant</td>\n      <td>Event Service</td>\n      <td>Event Space</td>\n      <td>Falafel Restaurant</td>\n      <td>Farm</td>\n      <td>Farmers Market</td>\n      <td>Fast Food Restaurant</td>\n    </tr>\n    <tr>\n      <th>109</th>\n      <td>CARRAMAR</td>\n      <td>7</td>\n      <td>3547</td>\n      <td>adult</td>\n      <td>29</td>\n      <td>2</td>\n      <td>Train Station</td>\n      <td>Park</td>\n      <td>Yoga Studio</td>\n      <td>Fast Food Restaurant</td>\n      <td>Egyptian Restaurant</td>\n      <td>Electronics Store</td>\n      <td>Event Service</td>\n      <td>Event Space</td>\n      <td>Falafel Restaurant</td>\n      <td>Farm</td>\n    </tr>\n    <tr>\n      <th>123</th>\n      <td>CHATSWOOD WEST</td>\n      <td>2</td>\n      <td>1492</td>\n      <td>mid-age</td>\n      <td>49</td>\n      <td>2</td>\n      <td>Park</td>\n      <td>Sports Club</td>\n      <td>Bus Stop</td>\n      <td>Arcade</td>\n      <td>Bus Station</td>\n      <td>Yoga Studio</td>\n      <td>Field</td>\n      <td>Event Space</td>\n      <td>Falafel Restaurant</td>\n      <td>Farm</td>\n    </tr>\n    <tr>\n      <th>124</th>\n      <td>CHELTENHAM</td>\n      <td>9</td>\n      <td>2249</td>\n      <td>mid-age</td>\n      <td>49</td>\n      <td>2</td>\n      <td>Herbs &amp; Spices Store</td>\n      <td>Park</td>\n      <td>Filipino Restaurant</td>\n      <td>Electronics Store</td>\n      <td>Event Service</td>\n      <td>Event Space</td>\n      <td>Falafel Restaurant</td>\n      <td>Farm</td>\n      <td>Farmers Market</td>\n      <td>Fast Food Restaurant</td>\n    </tr>\n    <tr>\n      <th>150</th>\n      <td>CONNELLS POINT</td>\n      <td>2</td>\n      <td>2816</td>\n      <td>mid-age</td>\n      <td>49</td>\n      <td>2</td>\n      <td>Boat or Ferry</td>\n      <td>Bus Stop</td>\n      <td>Park</td>\n      <td>Yoga Studio</td>\n      <td>Filipino Restaurant</td>\n      <td>Event Space</td>\n      <td>Falafel Restaurant</td>\n      <td>Farm</td>\n      <td>Farmers Market</td>\n      <td>Fast Food Restaurant</td>\n    </tr>\n    <tr>\n      <th>164</th>\n      <td>CURL CURL</td>\n      <td>14</td>\n      <td>2419</td>\n      <td>mid-age</td>\n      <td>49</td>\n      <td>2</td>\n      <td>Park</td>\n      <td>Surf Spot</td>\n      <td>Dog Run</td>\n      <td>Beach</td>\n      <td>Filipino Restaurant</td>\n      <td>Event Space</td>\n      <td>Falafel Restaurant</td>\n      <td>Farm</td>\n      <td>Farmers Market</td>\n      <td>Fast Food Restaurant</td>\n    </tr>\n    <tr>\n      <th>169</th>\n      <td>DARLING POINT</td>\n      <td>7</td>\n      <td>4192</td>\n      <td>senior+</td>\n      <td>69</td>\n      <td>2</td>\n      <td>Park</td>\n      <td>Italian Restaurant</td>\n      <td>Café</td>\n      <td>Harbor / Marina</td>\n      <td>Eastern European Restaurant</td>\n      <td>Electronics Store</td>\n      <td>Event Service</td>\n      <td>Event Space</td>\n      <td>Falafel Restaurant</td>\n      <td>Farm</td>\n    </tr>\n    <tr>\n      <th>196</th>\n      <td>EAST KILLARA</td>\n      <td>4</td>\n      <td>2979</td>\n      <td>mid-age</td>\n      <td>49</td>\n      <td>2</td>\n      <td>Park</td>\n      <td>Trail</td>\n      <td>Yoga Studio</td>\n      <td>Fast Food Restaurant</td>\n      <td>Egyptian Restaurant</td>\n      <td>Electronics Store</td>\n      <td>Event Service</td>\n      <td>Event Space</td>\n      <td>Falafel Restaurant</td>\n      <td>Farm</td>\n    </tr>\n    <tr>\n      <th>218</th>\n      <td>ENGLORIE PARK</td>\n      <td>19</td>\n      <td>417</td>\n      <td>adult</td>\n      <td>29</td>\n      <td>2</td>\n      <td>Park</td>\n      <td>Yoga Studio</td>\n      <td>Eastern European Restaurant</td>\n      <td>Electronics Store</td>\n      <td>Event Service</td>\n      <td>Event Space</td>\n      <td>Falafel Restaurant</td>\n      <td>Farm</td>\n      <td>Farmers Market</td>\n      <td>Fast Food Restaurant</td>\n    </tr>\n    <tr>\n      <th>291</th>\n      <td>HORNSBY HEIGHTS</td>\n      <td>22</td>\n      <td>6290</td>\n      <td>mid-age</td>\n      <td>49</td>\n      <td>2</td>\n      <td>Park</td>\n      <td>Food &amp; Drink Shop</td>\n      <td>Home Service</td>\n      <td>Yoga Studio</td>\n      <td>Field</td>\n      <td>Electronics Store</td>\n      <td>Event Service</td>\n      <td>Event Space</td>\n      <td>Falafel Restaurant</td>\n      <td>Farm</td>\n    </tr>\n    <tr>\n      <th>358</th>\n      <td>LINLEY POINT</td>\n      <td>16</td>\n      <td>352</td>\n      <td>mid-age</td>\n      <td>49</td>\n      <td>2</td>\n      <td>Park</td>\n      <td>Historic Site</td>\n      <td>Yoga Studio</td>\n      <td>Filipino Restaurant</td>\n      <td>Electronics Store</td>\n      <td>Event Service</td>\n      <td>Event Space</td>\n      <td>Falafel Restaurant</td>\n      <td>Farm</td>\n      <td>Farmers Market</td>\n    </tr>\n    <tr>\n      <th>367</th>\n      <td>LONGUEVILLE</td>\n      <td>16</td>\n      <td>2082</td>\n      <td>mid-age</td>\n      <td>49</td>\n      <td>2</td>\n      <td>Park</td>\n      <td>Harbor / Marina</td>\n      <td>Bus Stop</td>\n      <td>Yoga Studio</td>\n      <td>Fast Food Restaurant</td>\n      <td>Electronics Store</td>\n      <td>Event Service</td>\n      <td>Event Space</td>\n      <td>Falafel Restaurant</td>\n      <td>Farm</td>\n    </tr>\n    <tr>\n      <th>372</th>\n      <td>LUGARNO</td>\n      <td>21</td>\n      <td>5616</td>\n      <td>mid-age</td>\n      <td>49</td>\n      <td>2</td>\n      <td>Thai Restaurant</td>\n      <td>Business Service</td>\n      <td>Park</td>\n      <td>Yoga Studio</td>\n      <td>Egyptian Restaurant</td>\n      <td>Event Service</td>\n      <td>Event Space</td>\n      <td>Falafel Restaurant</td>\n      <td>Farm</td>\n      <td>Farmers Market</td>\n    </tr>\n    <tr>\n      <th>375</th>\n      <td>MACQUARIE LINKS</td>\n      <td>3</td>\n      <td>1373</td>\n      <td>mid-age</td>\n      <td>49</td>\n      <td>2</td>\n      <td>Park</td>\n      <td>Yoga Studio</td>\n      <td>Eastern European Restaurant</td>\n      <td>Electronics Store</td>\n      <td>Event Service</td>\n      <td>Event Space</td>\n      <td>Falafel Restaurant</td>\n      <td>Farm</td>\n      <td>Farmers Market</td>\n      <td>Fast Food Restaurant</td>\n    </tr>\n    <tr>\n      <th>376</th>\n      <td>MACQUARIE PARK</td>\n      <td>22</td>\n      <td>8153</td>\n      <td>adult</td>\n      <td>29</td>\n      <td>2</td>\n      <td>Park</td>\n      <td>Coffee Shop</td>\n      <td>Steakhouse</td>\n      <td>Garden Center</td>\n      <td>Yoga Studio</td>\n      <td>Field</td>\n      <td>Event Service</td>\n      <td>Event Space</td>\n      <td>Falafel Restaurant</td>\n      <td>Farm</td>\n    </tr>\n    <tr>\n      <th>390</th>\n      <td>MAYS HILL</td>\n      <td>42</td>\n      <td>762</td>\n      <td>adult</td>\n      <td>29</td>\n      <td>2</td>\n      <td>Park</td>\n      <td>Museum</td>\n      <td>Yoga Studio</td>\n      <td>Field</td>\n      <td>Electronics Store</td>\n      <td>Event Service</td>\n      <td>Event Space</td>\n      <td>Falafel Restaurant</td>\n      <td>Farm</td>\n      <td>Farmers Market</td>\n    </tr>\n    <tr>\n      <th>394</th>\n      <td>MELROSE PARK</td>\n      <td>12</td>\n      <td>1576</td>\n      <td>mid-age</td>\n      <td>49</td>\n      <td>2</td>\n      <td>Gym</td>\n      <td>Park</td>\n      <td>Yoga Studio</td>\n      <td>Field</td>\n      <td>Electronics Store</td>\n      <td>Event Service</td>\n      <td>Event Space</td>\n      <td>Falafel Restaurant</td>\n      <td>Farm</td>\n      <td>Farmers Market</td>\n    </tr>\n    <tr>\n      <th>399</th>\n      <td>MIDDLE COVE</td>\n      <td>15</td>\n      <td>1327</td>\n      <td>mid-age</td>\n      <td>49</td>\n      <td>2</td>\n      <td>Park</td>\n      <td>Playground</td>\n      <td>Café</td>\n      <td>Bus Stop</td>\n      <td>Egyptian Restaurant</td>\n      <td>Event Service</td>\n      <td>Event Space</td>\n      <td>Falafel Restaurant</td>\n      <td>Farm</td>\n      <td>Farmers Market</td>\n    </tr>\n    <tr>\n      <th>449</th>\n      <td>NORTH ST MARYS</td>\n      <td>11</td>\n      <td>3903</td>\n      <td>adult</td>\n      <td>29</td>\n      <td>2</td>\n      <td>Park</td>\n      <td>Yoga Studio</td>\n      <td>Eastern European Restaurant</td>\n      <td>Electronics Store</td>\n      <td>Event Service</td>\n      <td>Event Space</td>\n      <td>Falafel Restaurant</td>\n      <td>Farm</td>\n      <td>Farmers Market</td>\n      <td>Fast Food Restaurant</td>\n    </tr>\n    <tr>\n      <th>490</th>\n      <td>PLEASURE POINT</td>\n      <td>1</td>\n      <td>517</td>\n      <td>mid-age</td>\n      <td>49</td>\n      <td>2</td>\n      <td>Park</td>\n      <td>Yoga Studio</td>\n      <td>Eastern European Restaurant</td>\n      <td>Electronics Store</td>\n      <td>Event Service</td>\n      <td>Event Space</td>\n      <td>Falafel Restaurant</td>\n      <td>Farm</td>\n      <td>Farmers Market</td>\n      <td>Fast Food Restaurant</td>\n    </tr>\n    <tr>\n      <th>521</th>\n      <td>RIVERVIEW</td>\n      <td>16</td>\n      <td>3340</td>\n      <td>young</td>\n      <td>9</td>\n      <td>2</td>\n      <td>Park</td>\n      <td>Gym</td>\n      <td>Harbor / Marina</td>\n      <td>Arcade</td>\n      <td>Yoga Studio</td>\n      <td>Fast Food Restaurant</td>\n      <td>Electronics Store</td>\n      <td>Event Service</td>\n      <td>Event Space</td>\n      <td>Falafel Restaurant</td>\n    </tr>\n    <tr>\n      <th>522</th>\n      <td>RIVERVIEW</td>\n      <td>0</td>\n      <td>3347</td>\n      <td>young</td>\n      <td>9</td>\n      <td>2</td>\n      <td>Park</td>\n      <td>Gym</td>\n      <td>Harbor / Marina</td>\n      <td>Arcade</td>\n      <td>Yoga Studio</td>\n      <td>Fast Food Restaurant</td>\n      <td>Electronics Store</td>\n      <td>Event Service</td>\n      <td>Event Space</td>\n      <td>Falafel Restaurant</td>\n    </tr>\n    <tr>\n      <th>567</th>\n      <td>SOUTH WENTWORTHVILLE</td>\n      <td>42</td>\n      <td>6212</td>\n      <td>adult</td>\n      <td>29</td>\n      <td>2</td>\n      <td>Park</td>\n      <td>Train Station</td>\n      <td>Health &amp; Beauty Service</td>\n      <td>Yoga Studio</td>\n      <td>Dumpling Restaurant</td>\n      <td>Egyptian Restaurant</td>\n      <td>Electronics Store</td>\n      <td>Event Service</td>\n      <td>Event Space</td>\n      <td>Falafel Restaurant</td>\n    </tr>\n    <tr>\n      <th>575</th>\n      <td>ST JOHNS PARK</td>\n      <td>18</td>\n      <td>6120</td>\n      <td>senior+</td>\n      <td>69</td>\n      <td>2</td>\n      <td>Park</td>\n      <td>Photography Studio</td>\n      <td>Yoga Studio</td>\n      <td>Field</td>\n      <td>Electronics Store</td>\n      <td>Event Service</td>\n      <td>Event Space</td>\n      <td>Falafel Restaurant</td>\n      <td>Farm</td>\n      <td>Farmers Market</td>\n    </tr>\n    <tr>\n      <th>595</th>\n      <td>TENNYSON POINT</td>\n      <td>12</td>\n      <td>1227</td>\n      <td>mid-age</td>\n      <td>49</td>\n      <td>2</td>\n      <td>Gift Shop</td>\n      <td>Cafeteria</td>\n      <td>Park</td>\n      <td>Yoga Studio</td>\n      <td>Egyptian Restaurant</td>\n      <td>Event Service</td>\n      <td>Event Space</td>\n      <td>Falafel Restaurant</td>\n      <td>Farm</td>\n      <td>Farmers Market</td>\n    </tr>\n    <tr>\n      <th>597</th>\n      <td>THE PONDS</td>\n      <td>4</td>\n      <td>11715</td>\n      <td>adult</td>\n      <td>29</td>\n      <td>2</td>\n      <td>Lake</td>\n      <td>Park</td>\n      <td>Yoga Studio</td>\n      <td>Field</td>\n      <td>Electronics Store</td>\n      <td>Event Service</td>\n      <td>Event Space</td>\n      <td>Falafel Restaurant</td>\n      <td>Farm</td>\n      <td>Farmers Market</td>\n    </tr>\n    <tr>\n      <th>615</th>\n      <td>WARRAWEE</td>\n      <td>14</td>\n      <td>2982</td>\n      <td>mid-age</td>\n      <td>49</td>\n      <td>2</td>\n      <td>Athletics &amp; Sports</td>\n      <td>Train Station</td>\n      <td>Park</td>\n      <td>Yoga Studio</td>\n      <td>Eastern European Restaurant</td>\n      <td>Electronics Store</td>\n      <td>Event Service</td>\n      <td>Event Space</td>\n      <td>Falafel Restaurant</td>\n      <td>Farm</td>\n    </tr>\n    <tr>\n      <th>628</th>\n      <td>WERRINGTON DOWNS</td>\n      <td>50</td>\n      <td>3240</td>\n      <td>adult</td>\n      <td>29</td>\n      <td>2</td>\n      <td>Park</td>\n      <td>Yoga Studio</td>\n      <td>Eastern European Restaurant</td>\n      <td>Electronics Store</td>\n      <td>Event Service</td>\n      <td>Event Space</td>\n      <td>Falafel Restaurant</td>\n      <td>Farm</td>\n      <td>Farmers Market</td>\n      <td>Fast Food Restaurant</td>\n    </tr>\n    <tr>\n      <th>641</th>\n      <td>WILLMOT</td>\n      <td>12</td>\n      <td>2445</td>\n      <td>young</td>\n      <td>9</td>\n      <td>2</td>\n      <td>Convenience Store</td>\n      <td>Park</td>\n      <td>Yoga Studio</td>\n      <td>Filipino Restaurant</td>\n      <td>Electronics Store</td>\n      <td>Event Service</td>\n      <td>Event Space</td>\n      <td>Falafel Restaurant</td>\n      <td>Farm</td>\n      <td>Farmers Market</td>\n    </tr>\n    <tr>\n      <th>661</th>\n      <td>YARRAWARRAH</td>\n      <td>13</td>\n      <td>2726</td>\n      <td>mid-age</td>\n      <td>49</td>\n      <td>2</td>\n      <td>Pizza Place</td>\n      <td>Pharmacy</td>\n      <td>Park</td>\n      <td>Yoga Studio</td>\n      <td>Field</td>\n      <td>Electronics Store</td>\n      <td>Event Service</td>\n      <td>Event Space</td>\n      <td>Falafel Restaurant</td>\n      <td>Farm</td>\n    </tr>\n  </tbody>\n</table>\n</div>"
     },
     "metadata": {},
     "execution_count": 37
    }
   ],
   "source": [
    "sydney_merged.loc[sydney_merged['Cluster Labels'] == 2, sydney_merged.columns[[0] + list(range(4, sydney_merged.shape[1]))]]"
   ]
  },
  {
   "cell_type": "code",
   "execution_count": 38,
   "metadata": {},
   "outputs": [
    {
     "output_type": "execute_result",
     "data": {
      "text/plain": "               suburb  total_patient  population      age  AM  Cluster Labels  \\\n1          ABBOTSFORD             14        5366  mid-age  49               3   \n5          ALEXANDRIA             11        8266    adult  29               3   \n7    ALLAMBIE HEIGHTS             11        7001  mid-age  49               3   \n10          ANNANDALE              4        9459    adult  29               3   \n15           ARTARMON              5        9527    adult  29               3   \n..                ...            ...         ...      ...  ..             ...   \n646     WINSTON HILLS             15       11694  mid-age  49               3   \n649    WOLLSTONECRAFT             22        8323    adult  29               3   \n652          WOODPARK              4        1519    adult  29               3   \n653         WOOLLAHRA             16        7414    adult  29               3   \n664           ZETLAND             11       10071    adult  29               3   \n\n    1st Most Common Venue 2nd Most Common Venue  3rd Most Common Venue  \\\n1             Pizza Place                  Café        Thai Restaurant   \n5                     Pub                  Café                 Bakery   \n7                    Café                Bakery          Grocery Store   \n10                   Café                  Park          Grocery Store   \n15                   Café                  Park       Ramen Restaurant   \n..                    ...                   ...                    ...   \n646            Playground     Food & Drink Shop                   Café   \n649                  Café   Japanese Restaurant            Coffee Shop   \n652                Bakery     Convenience Store                   Café   \n653    Italian Restaurant                  Café  Australian Restaurant   \n664                  Café           Coffee Shop        Thai Restaurant   \n\n          4th Most Common Venue 5th Most Common Venue 6th Most Common Venue  \\\n1    Construction & Landscaping            Hobby Shop          Liquor Store   \n5               Thai Restaurant    Italian Restaurant                Office   \n7                  Liquor Store                  Park  Fast Food Restaurant   \n10                Garden Center            Playground      Asian Restaurant   \n15                    BBQ Joint        Sandwich Place   Japanese Restaurant   \n..                          ...                   ...                   ...   \n646               Shopping Mall                 Field     Electronics Store   \n649     South Indian Restaurant     Indian Restaurant       Thai Restaurant   \n652                 Bus Station           Yoga Studio   Filipino Restaurant   \n653                        Park   Egyptian Restaurant         Event Service   \n664                      Bakery             Pet Store      Department Store   \n\n    7th Most Common Venue 8th Most Common Venue 9th Most Common Venue  \\\n1            Burger Joint         Grocery Store    Italian Restaurant   \n5                    Park          Tennis Court        Breakfast Spot   \n7           Event Service           Event Space    Falafel Restaurant   \n10                    Bar           Pizza Place           Snack Place   \n15        Thai Restaurant     Convenience Store                 Plaza   \n..                    ...                   ...                   ...   \n646         Event Service           Event Space    Falafel Restaurant   \n649          Noodle House    Italian Restaurant             BBQ Joint   \n652           Event Space    Falafel Restaurant                  Farm   \n653           Event Space    Falafel Restaurant                  Farm   \n664           Supermarket     Electronics Store    Italian Restaurant   \n\n    10th Most Common Venue  \n1                     Park  \n5            Grocery Store  \n7                     Farm  \n10      Italian Restaurant  \n15       Fish & Chips Shop  \n..                     ...  \n646                   Farm  \n649                 Office  \n652         Farmers Market  \n653         Farmers Market  \n664    Japanese Restaurant  \n\n[172 rows x 16 columns]",
      "text/html": "<div>\n<style scoped>\n    .dataframe tbody tr th:only-of-type {\n        vertical-align: middle;\n    }\n\n    .dataframe tbody tr th {\n        vertical-align: top;\n    }\n\n    .dataframe thead th {\n        text-align: right;\n    }\n</style>\n<table border=\"1\" class=\"dataframe\">\n  <thead>\n    <tr style=\"text-align: right;\">\n      <th></th>\n      <th>suburb</th>\n      <th>total_patient</th>\n      <th>population</th>\n      <th>age</th>\n      <th>AM</th>\n      <th>Cluster Labels</th>\n      <th>1st Most Common Venue</th>\n      <th>2nd Most Common Venue</th>\n      <th>3rd Most Common Venue</th>\n      <th>4th Most Common Venue</th>\n      <th>5th Most Common Venue</th>\n      <th>6th Most Common Venue</th>\n      <th>7th Most Common Venue</th>\n      <th>8th Most Common Venue</th>\n      <th>9th Most Common Venue</th>\n      <th>10th Most Common Venue</th>\n    </tr>\n  </thead>\n  <tbody>\n    <tr>\n      <th>1</th>\n      <td>ABBOTSFORD</td>\n      <td>14</td>\n      <td>5366</td>\n      <td>mid-age</td>\n      <td>49</td>\n      <td>3</td>\n      <td>Pizza Place</td>\n      <td>Café</td>\n      <td>Thai Restaurant</td>\n      <td>Construction &amp; Landscaping</td>\n      <td>Hobby Shop</td>\n      <td>Liquor Store</td>\n      <td>Burger Joint</td>\n      <td>Grocery Store</td>\n      <td>Italian Restaurant</td>\n      <td>Park</td>\n    </tr>\n    <tr>\n      <th>5</th>\n      <td>ALEXANDRIA</td>\n      <td>11</td>\n      <td>8266</td>\n      <td>adult</td>\n      <td>29</td>\n      <td>3</td>\n      <td>Pub</td>\n      <td>Café</td>\n      <td>Bakery</td>\n      <td>Thai Restaurant</td>\n      <td>Italian Restaurant</td>\n      <td>Office</td>\n      <td>Park</td>\n      <td>Tennis Court</td>\n      <td>Breakfast Spot</td>\n      <td>Grocery Store</td>\n    </tr>\n    <tr>\n      <th>7</th>\n      <td>ALLAMBIE HEIGHTS</td>\n      <td>11</td>\n      <td>7001</td>\n      <td>mid-age</td>\n      <td>49</td>\n      <td>3</td>\n      <td>Café</td>\n      <td>Bakery</td>\n      <td>Grocery Store</td>\n      <td>Liquor Store</td>\n      <td>Park</td>\n      <td>Fast Food Restaurant</td>\n      <td>Event Service</td>\n      <td>Event Space</td>\n      <td>Falafel Restaurant</td>\n      <td>Farm</td>\n    </tr>\n    <tr>\n      <th>10</th>\n      <td>ANNANDALE</td>\n      <td>4</td>\n      <td>9459</td>\n      <td>adult</td>\n      <td>29</td>\n      <td>3</td>\n      <td>Café</td>\n      <td>Park</td>\n      <td>Grocery Store</td>\n      <td>Garden Center</td>\n      <td>Playground</td>\n      <td>Asian Restaurant</td>\n      <td>Bar</td>\n      <td>Pizza Place</td>\n      <td>Snack Place</td>\n      <td>Italian Restaurant</td>\n    </tr>\n    <tr>\n      <th>15</th>\n      <td>ARTARMON</td>\n      <td>5</td>\n      <td>9527</td>\n      <td>adult</td>\n      <td>29</td>\n      <td>3</td>\n      <td>Café</td>\n      <td>Park</td>\n      <td>Ramen Restaurant</td>\n      <td>BBQ Joint</td>\n      <td>Sandwich Place</td>\n      <td>Japanese Restaurant</td>\n      <td>Thai Restaurant</td>\n      <td>Convenience Store</td>\n      <td>Plaza</td>\n      <td>Fish &amp; Chips Shop</td>\n    </tr>\n    <tr>\n      <th>...</th>\n      <td>...</td>\n      <td>...</td>\n      <td>...</td>\n      <td>...</td>\n      <td>...</td>\n      <td>...</td>\n      <td>...</td>\n      <td>...</td>\n      <td>...</td>\n      <td>...</td>\n      <td>...</td>\n      <td>...</td>\n      <td>...</td>\n      <td>...</td>\n      <td>...</td>\n      <td>...</td>\n    </tr>\n    <tr>\n      <th>646</th>\n      <td>WINSTON HILLS</td>\n      <td>15</td>\n      <td>11694</td>\n      <td>mid-age</td>\n      <td>49</td>\n      <td>3</td>\n      <td>Playground</td>\n      <td>Food &amp; Drink Shop</td>\n      <td>Café</td>\n      <td>Shopping Mall</td>\n      <td>Field</td>\n      <td>Electronics Store</td>\n      <td>Event Service</td>\n      <td>Event Space</td>\n      <td>Falafel Restaurant</td>\n      <td>Farm</td>\n    </tr>\n    <tr>\n      <th>649</th>\n      <td>WOLLSTONECRAFT</td>\n      <td>22</td>\n      <td>8323</td>\n      <td>adult</td>\n      <td>29</td>\n      <td>3</td>\n      <td>Café</td>\n      <td>Japanese Restaurant</td>\n      <td>Coffee Shop</td>\n      <td>South Indian Restaurant</td>\n      <td>Indian Restaurant</td>\n      <td>Thai Restaurant</td>\n      <td>Noodle House</td>\n      <td>Italian Restaurant</td>\n      <td>BBQ Joint</td>\n      <td>Office</td>\n    </tr>\n    <tr>\n      <th>652</th>\n      <td>WOODPARK</td>\n      <td>4</td>\n      <td>1519</td>\n      <td>adult</td>\n      <td>29</td>\n      <td>3</td>\n      <td>Bakery</td>\n      <td>Convenience Store</td>\n      <td>Café</td>\n      <td>Bus Station</td>\n      <td>Yoga Studio</td>\n      <td>Filipino Restaurant</td>\n      <td>Event Space</td>\n      <td>Falafel Restaurant</td>\n      <td>Farm</td>\n      <td>Farmers Market</td>\n    </tr>\n    <tr>\n      <th>653</th>\n      <td>WOOLLAHRA</td>\n      <td>16</td>\n      <td>7414</td>\n      <td>adult</td>\n      <td>29</td>\n      <td>3</td>\n      <td>Italian Restaurant</td>\n      <td>Café</td>\n      <td>Australian Restaurant</td>\n      <td>Park</td>\n      <td>Egyptian Restaurant</td>\n      <td>Event Service</td>\n      <td>Event Space</td>\n      <td>Falafel Restaurant</td>\n      <td>Farm</td>\n      <td>Farmers Market</td>\n    </tr>\n    <tr>\n      <th>664</th>\n      <td>ZETLAND</td>\n      <td>11</td>\n      <td>10071</td>\n      <td>adult</td>\n      <td>29</td>\n      <td>3</td>\n      <td>Café</td>\n      <td>Coffee Shop</td>\n      <td>Thai Restaurant</td>\n      <td>Bakery</td>\n      <td>Pet Store</td>\n      <td>Department Store</td>\n      <td>Supermarket</td>\n      <td>Electronics Store</td>\n      <td>Italian Restaurant</td>\n      <td>Japanese Restaurant</td>\n    </tr>\n  </tbody>\n</table>\n<p>172 rows × 16 columns</p>\n</div>"
     },
     "metadata": {},
     "execution_count": 38
    }
   ],
   "source": [
    "sydney_merged.loc[sydney_merged['Cluster Labels'] == 3, sydney_merged.columns[[0] + list(range(4, sydney_merged.shape[1]))]]"
   ]
  },
  {
   "cell_type": "markdown",
   "metadata": {},
   "source": [
    "#By quick glance over these five clusters, I found out that cluster 3 contains more restaurant compares to other 4 clusters. Therefore, I'm going to concerntrate on cluster 3"
   ]
  },
  {
   "cell_type": "markdown",
   "metadata": {},
   "source": [
    "#although we already check the correlation between population and COVID-19 total patient number in previous steps, I'm still going to make an scatter plot to show the potential connection between population and patient for cluster 3."
   ]
  },
  {
   "cell_type": "code",
   "execution_count": 41,
   "metadata": {},
   "outputs": [
    {
     "output_type": "display_data",
     "data": {
      "text/plain": "<Figure size 720x720 with 1 Axes>",
      "image/svg+xml": "<?xml version=\"1.0\" encoding=\"utf-8\" standalone=\"no\"?>\r\n<!DOCTYPE svg PUBLIC \"-//W3C//DTD SVG 1.1//EN\"\r\n  \"http://www.w3.org/Graphics/SVG/1.1/DTD/svg11.dtd\">\r\n<!-- Created with matplotlib (https://matplotlib.org/) -->\r\n<svg height=\"588.35625pt\" version=\"1.1\" viewBox=\"0 0 612.44375 588.35625\" width=\"612.44375pt\" xmlns=\"http://www.w3.org/2000/svg\" xmlns:xlink=\"http://www.w3.org/1999/xlink\">\r\n <defs>\r\n  <style type=\"text/css\">\r\n*{stroke-linecap:butt;stroke-linejoin:round;}\r\n  </style>\r\n </defs>\r\n <g id=\"figure_1\">\r\n  <g id=\"patch_1\">\r\n   <path d=\"M 0 588.35625 \r\nL 612.44375 588.35625 \r\nL 612.44375 0 \r\nL 0 0 \r\nz\r\n\" style=\"fill:none;\"/>\r\n  </g>\r\n  <g id=\"axes_1\">\r\n   <g id=\"patch_2\">\r\n    <path d=\"M 47.24375 550.8 \r\nL 605.24375 550.8 \r\nL 605.24375 7.2 \r\nL 47.24375 7.2 \r\nz\r\n\" style=\"fill:#ffffff;\"/>\r\n   </g>\r\n   <g id=\"PathCollection_1\">\r\n    <defs>\r\n     <path d=\"M 0 4.472136 \r\nC 1.186024 4.472136 2.323632 4.000923 3.162278 3.162278 \r\nC 4.000923 2.323632 4.472136 1.186024 4.472136 0 \r\nC 4.472136 -1.186024 4.000923 -2.323632 3.162278 -3.162278 \r\nC 2.323632 -4.000923 1.186024 -4.472136 0 -4.472136 \r\nC -1.186024 -4.472136 -2.323632 -4.000923 -3.162278 -3.162278 \r\nC -4.000923 -2.323632 -4.472136 -1.186024 -4.472136 0 \r\nC -4.472136 1.186024 -4.000923 2.323632 -3.162278 3.162278 \r\nC -2.323632 4.000923 -1.186024 4.472136 0 4.472136 \r\nz\r\n\" id=\"C0_0_7a5cefd68e\"/>\r\n    </defs>\r\n    <g clip-path=\"url(#p463d27b834)\">\r\n     <use style=\"fill:#1f77b4;stroke:#ffffff;stroke-width:0.75;\" x=\"157.258167\" xlink:href=\"#C0_0_7a5cefd68e\" y=\"464.864843\"/>\r\n    </g>\r\n    <g clip-path=\"url(#p463d27b834)\">\r\n     <use style=\"fill:#ff7f0e;stroke:#ffffff;stroke-width:0.75;\" x=\"203.075126\" xlink:href=\"#C0_0_7a5cefd68e\" y=\"477.984714\"/>\r\n    </g>\r\n    <g clip-path=\"url(#p463d27b834)\">\r\n     <use style=\"fill:#1f77b4;stroke:#ffffff;stroke-width:0.75;\" x=\"183.089453\" xlink:href=\"#C0_0_7a5cefd68e\" y=\"477.984714\"/>\r\n    </g>\r\n    <g clip-path=\"url(#p463d27b834)\">\r\n     <use style=\"fill:#ff7f0e;stroke:#ffffff;stroke-width:0.75;\" x=\"221.923275\" xlink:href=\"#C0_0_7a5cefd68e\" y=\"508.597747\"/>\r\n    </g>\r\n    <g clip-path=\"url(#p463d27b834)\">\r\n     <use style=\"fill:#ff7f0e;stroke:#ffffff;stroke-width:0.75;\" x=\"222.997603\" xlink:href=\"#C0_0_7a5cefd68e\" y=\"504.224457\"/>\r\n    </g>\r\n    <g clip-path=\"url(#p463d27b834)\">\r\n     <use style=\"fill:#1f77b4;stroke:#ffffff;stroke-width:0.75;\" x=\"228.985406\" xlink:href=\"#C0_0_7a5cefd68e\" y=\"499.851167\"/>\r\n    </g>\r\n    <g clip-path=\"url(#p463d27b834)\">\r\n     <use style=\"fill:#1f77b4;stroke:#ffffff;stroke-width:0.75;\" x=\"198.556626\" xlink:href=\"#C0_0_7a5cefd68e\" y=\"473.611424\"/>\r\n    </g>\r\n    <g clip-path=\"url(#p463d27b834)\">\r\n     <use style=\"fill:#1f77b4;stroke:#ffffff;stroke-width:0.75;\" x=\"237.674829\" xlink:href=\"#C0_0_7a5cefd68e\" y=\"486.731295\"/>\r\n    </g>\r\n    <g clip-path=\"url(#p463d27b834)\">\r\n     <use style=\"fill:#1f77b4;stroke:#ffffff;stroke-width:0.75;\" x=\"103.036167\" xlink:href=\"#C0_0_7a5cefd68e\" y=\"486.731295\"/>\r\n    </g>\r\n    <g clip-path=\"url(#p463d27b834)\">\r\n     <use style=\"fill:#2ca02c;stroke:#ffffff;stroke-width:0.75;\" x=\"72.765376\" xlink:href=\"#C0_0_7a5cefd68e\" y=\"499.851167\"/>\r\n    </g>\r\n    <g clip-path=\"url(#p463d27b834)\">\r\n     <use style=\"fill:#ff7f0e;stroke:#ffffff;stroke-width:0.75;\" x=\"579.880114\" xlink:href=\"#C0_0_7a5cefd68e\" y=\"469.238134\"/>\r\n    </g>\r\n    <g clip-path=\"url(#p463d27b834)\">\r\n     <use style=\"fill:#1f77b4;stroke:#ffffff;stroke-width:0.75;\" x=\"107.886445\" xlink:href=\"#C0_0_7a5cefd68e\" y=\"482.358005\"/>\r\n    </g>\r\n    <g clip-path=\"url(#p463d27b834)\">\r\n     <use style=\"fill:#1f77b4;stroke:#ffffff;stroke-width:0.75;\" x=\"220.864745\" xlink:href=\"#C0_0_7a5cefd68e\" y=\"486.731295\"/>\r\n    </g>\r\n    <g clip-path=\"url(#p463d27b834)\">\r\n     <use style=\"fill:#1f77b4;stroke:#ffffff;stroke-width:0.75;\" x=\"172.298769\" xlink:href=\"#C0_0_7a5cefd68e\" y=\"504.224457\"/>\r\n    </g>\r\n    <g clip-path=\"url(#p463d27b834)\">\r\n     <use style=\"fill:#1f77b4;stroke:#ffffff;stroke-width:0.75;\" x=\"196.076191\" xlink:href=\"#C0_0_7a5cefd68e\" y=\"460.491553\"/>\r\n    </g>\r\n    <g clip-path=\"url(#p463d27b834)\">\r\n     <use style=\"fill:#ff7f0e;stroke:#ffffff;stroke-width:0.75;\" x=\"273.443655\" xlink:href=\"#C0_0_7a5cefd68e\" y=\"504.224457\"/>\r\n    </g>\r\n    <g clip-path=\"url(#p463d27b834)\">\r\n     <use style=\"fill:#1f77b4;stroke:#ffffff;stroke-width:0.75;\" x=\"137.193499\" xlink:href=\"#C0_0_7a5cefd68e\" y=\"482.358005\"/>\r\n    </g>\r\n    <g clip-path=\"url(#p463d27b834)\">\r\n     <use style=\"fill:#1f77b4;stroke:#ffffff;stroke-width:0.75;\" x=\"124.649132\" xlink:href=\"#C0_0_7a5cefd68e\" y=\"486.731295\"/>\r\n    </g>\r\n    <g clip-path=\"url(#p463d27b834)\">\r\n     <use style=\"fill:#ff7f0e;stroke:#ffffff;stroke-width:0.75;\" x=\"256.680968\" xlink:href=\"#C0_0_7a5cefd68e\" y=\"31.909091\"/>\r\n    </g>\r\n    <g clip-path=\"url(#p463d27b834)\">\r\n     <use style=\"fill:#1f77b4;stroke:#ffffff;stroke-width:0.75;\" x=\"108.281418\" xlink:href=\"#C0_0_7a5cefd68e\" y=\"517.344328\"/>\r\n    </g>\r\n    <g clip-path=\"url(#p463d27b834)\">\r\n     <use style=\"fill:#ff7f0e;stroke:#ffffff;stroke-width:0.75;\" x=\"243.473044\" xlink:href=\"#C0_0_7a5cefd68e\" y=\"499.851167\"/>\r\n    </g>\r\n    <g clip-path=\"url(#p463d27b834)\">\r\n     <use style=\"fill:#ff7f0e;stroke:#ffffff;stroke-width:0.75;\" x=\"138.962982\" xlink:href=\"#C0_0_7a5cefd68e\" y=\"482.358005\"/>\r\n    </g>\r\n    <g clip-path=\"url(#p463d27b834)\">\r\n     <use style=\"fill:#ff7f0e;stroke:#ffffff;stroke-width:0.75;\" x=\"178.618349\" xlink:href=\"#C0_0_7a5cefd68e\" y=\"451.744972\"/>\r\n    </g>\r\n    <g clip-path=\"url(#p463d27b834)\">\r\n     <use style=\"fill:#1f77b4;stroke:#ffffff;stroke-width:0.75;\" x=\"102.783383\" xlink:href=\"#C0_0_7a5cefd68e\" y=\"416.758648\"/>\r\n    </g>\r\n    <g clip-path=\"url(#p463d27b834)\">\r\n     <use style=\"fill:#2ca02c;stroke:#ffffff;stroke-width:0.75;\" x=\"123.369417\" xlink:href=\"#C0_0_7a5cefd68e\" y=\"456.118262\"/>\r\n    </g>\r\n    <g clip-path=\"url(#p463d27b834)\">\r\n     <use style=\"fill:#ff7f0e;stroke:#ffffff;stroke-width:0.75;\" x=\"183.342236\" xlink:href=\"#C0_0_7a5cefd68e\" y=\"491.104586\"/>\r\n    </g>\r\n    <g clip-path=\"url(#p463d27b834)\">\r\n     <use style=\"fill:#ff7f0e;stroke:#ffffff;stroke-width:0.75;\" x=\"236.031738\" xlink:href=\"#C0_0_7a5cefd68e\" y=\"504.224457\"/>\r\n    </g>\r\n    <g clip-path=\"url(#p463d27b834)\">\r\n     <use style=\"fill:#1f77b4;stroke:#ffffff;stroke-width:0.75;\" x=\"92.371874\" xlink:href=\"#C0_0_7a5cefd68e\" y=\"517.344328\"/>\r\n    </g>\r\n    <g clip-path=\"url(#p463d27b834)\">\r\n     <use style=\"fill:#1f77b4;stroke:#ffffff;stroke-width:0.75;\" x=\"112.799918\" xlink:href=\"#C0_0_7a5cefd68e\" y=\"499.851167\"/>\r\n    </g>\r\n    <g clip-path=\"url(#p463d27b834)\">\r\n     <use style=\"fill:#1f77b4;stroke:#ffffff;stroke-width:0.75;\" x=\"118.993107\" xlink:href=\"#C0_0_7a5cefd68e\" y=\"460.491553\"/>\r\n    </g>\r\n    <g clip-path=\"url(#p463d27b834)\">\r\n     <use style=\"fill:#1f77b4;stroke:#ffffff;stroke-width:0.75;\" x=\"368.932516\" xlink:href=\"#C0_0_7a5cefd68e\" y=\"499.851167\"/>\r\n    </g>\r\n    <g clip-path=\"url(#p463d27b834)\">\r\n     <use style=\"fill:#ff7f0e;stroke:#ffffff;stroke-width:0.75;\" x=\"208.58896\" xlink:href=\"#C0_0_7a5cefd68e\" y=\"508.597747\"/>\r\n    </g>\r\n    <g clip-path=\"url(#p463d27b834)\">\r\n     <use style=\"fill:#2ca02c;stroke:#ffffff;stroke-width:0.75;\" x=\"88.011364\" xlink:href=\"#C0_0_7a5cefd68e\" y=\"526.090909\"/>\r\n    </g>\r\n    <g clip-path=\"url(#p463d27b834)\">\r\n     <use style=\"fill:#2ca02c;stroke:#ffffff;stroke-width:0.75;\" x=\"98.628259\" xlink:href=\"#C0_0_7a5cefd68e\" y=\"499.851167\"/>\r\n    </g>\r\n    <g clip-path=\"url(#p463d27b834)\">\r\n     <use style=\"fill:#1f77b4;stroke:#ffffff;stroke-width:0.75;\" x=\"100.002768\" xlink:href=\"#C0_0_7a5cefd68e\" y=\"473.611424\"/>\r\n    </g>\r\n    <g clip-path=\"url(#p463d27b834)\">\r\n     <use style=\"fill:#ff7f0e;stroke:#ffffff;stroke-width:0.75;\" x=\"147.557611\" xlink:href=\"#C0_0_7a5cefd68e\" y=\"403.638777\"/>\r\n    </g>\r\n    <g clip-path=\"url(#p463d27b834)\">\r\n     <use style=\"fill:#1f77b4;stroke:#ffffff;stroke-width:0.75;\" x=\"302.055556\" xlink:href=\"#C0_0_7a5cefd68e\" y=\"482.358005\"/>\r\n    </g>\r\n    <g clip-path=\"url(#p463d27b834)\">\r\n     <use style=\"fill:#1f77b4;stroke:#ffffff;stroke-width:0.75;\" x=\"165.852797\" xlink:href=\"#C0_0_7a5cefd68e\" y=\"508.597747\"/>\r\n    </g>\r\n    <g clip-path=\"url(#p463d27b834)\">\r\n     <use style=\"fill:#ff7f0e;stroke:#ffffff;stroke-width:0.75;\" x=\"312.925234\" xlink:href=\"#C0_0_7a5cefd68e\" y=\"486.731295\"/>\r\n    </g>\r\n    <g clip-path=\"url(#p463d27b834)\">\r\n     <use style=\"fill:#2ca02c;stroke:#ffffff;stroke-width:0.75;\" x=\"74.139885\" xlink:href=\"#C0_0_7a5cefd68e\" y=\"512.971038\"/>\r\n    </g>\r\n    <g clip-path=\"url(#p463d27b834)\">\r\n     <use style=\"fill:#ff7f0e;stroke:#ffffff;stroke-width:0.75;\" x=\"358.173431\" xlink:href=\"#C0_0_7a5cefd68e\" y=\"416.758648\"/>\r\n    </g>\r\n    <g clip-path=\"url(#p463d27b834)\">\r\n     <use style=\"fill:#ff7f0e;stroke:#ffffff;stroke-width:0.75;\" x=\"148.347559\" xlink:href=\"#C0_0_7a5cefd68e\" y=\"429.87852\"/>\r\n    </g>\r\n    <g clip-path=\"url(#p463d27b834)\">\r\n     <use style=\"fill:#1f77b4;stroke:#ffffff;stroke-width:0.75;\" x=\"240.07627\" xlink:href=\"#C0_0_7a5cefd68e\" y=\"512.971038\"/>\r\n    </g>\r\n    <g clip-path=\"url(#p463d27b834)\">\r\n     <use style=\"fill:#1f77b4;stroke:#ffffff;stroke-width:0.75;\" x=\"77.37867\" xlink:href=\"#C0_0_7a5cefd68e\" y=\"526.090909\"/>\r\n    </g>\r\n    <g clip-path=\"url(#p463d27b834)\">\r\n     <use style=\"fill:#ff7f0e;stroke:#ffffff;stroke-width:0.75;\" x=\"251.356721\" xlink:href=\"#C0_0_7a5cefd68e\" y=\"394.892196\"/>\r\n    </g>\r\n    <g clip-path=\"url(#p463d27b834)\">\r\n     <use style=\"fill:#ff7f0e;stroke:#ffffff;stroke-width:0.75;\" x=\"121.331352\" xlink:href=\"#C0_0_7a5cefd68e\" y=\"508.597747\"/>\r\n    </g>\r\n    <g clip-path=\"url(#p463d27b834)\">\r\n     <use style=\"fill:#ff7f0e;stroke:#ffffff;stroke-width:0.75;\" x=\"78.389803\" xlink:href=\"#C0_0_7a5cefd68e\" y=\"512.971038\"/>\r\n    </g>\r\n    <g clip-path=\"url(#p463d27b834)\">\r\n     <use style=\"fill:#1f77b4;stroke:#ffffff;stroke-width:0.75;\" x=\"78.152818\" xlink:href=\"#C0_0_7a5cefd68e\" y=\"447.371681\"/>\r\n    </g>\r\n    <g clip-path=\"url(#p463d27b834)\">\r\n     <use style=\"fill:#1f77b4;stroke:#ffffff;stroke-width:0.75;\" x=\"107.965439\" xlink:href=\"#C0_0_7a5cefd68e\" y=\"477.984714\"/>\r\n    </g>\r\n    <g clip-path=\"url(#p463d27b834)\">\r\n     <use style=\"fill:#1f77b4;stroke:#ffffff;stroke-width:0.75;\" x=\"87.253014\" xlink:href=\"#C0_0_7a5cefd68e\" y=\"473.611424\"/>\r\n    </g>\r\n    <g clip-path=\"url(#p463d27b834)\">\r\n     <use style=\"fill:#1f77b4;stroke:#ffffff;stroke-width:0.75;\" x=\"98.675656\" xlink:href=\"#C0_0_7a5cefd68e\" y=\"495.477876\"/>\r\n    </g>\r\n    <g clip-path=\"url(#p463d27b834)\">\r\n     <use style=\"fill:#ff7f0e;stroke:#ffffff;stroke-width:0.75;\" x=\"145.724933\" xlink:href=\"#C0_0_7a5cefd68e\" y=\"512.971038\"/>\r\n    </g>\r\n    <g clip-path=\"url(#p463d27b834)\">\r\n     <use style=\"fill:#ff7f0e;stroke:#ffffff;stroke-width:0.75;\" x=\"261.136272\" xlink:href=\"#C0_0_7a5cefd68e\" y=\"512.971038\"/>\r\n    </g>\r\n    <g clip-path=\"url(#p463d27b834)\">\r\n     <use style=\"fill:#ff7f0e;stroke:#ffffff;stroke-width:0.75;\" x=\"289.116215\" xlink:href=\"#C0_0_7a5cefd68e\" y=\"508.597747\"/>\r\n    </g>\r\n    <g clip-path=\"url(#p463d27b834)\">\r\n     <use style=\"fill:#1f77b4;stroke:#ffffff;stroke-width:0.75;\" x=\"352.817586\" xlink:href=\"#C0_0_7a5cefd68e\" y=\"499.851167\"/>\r\n    </g>\r\n    <g clip-path=\"url(#p463d27b834)\">\r\n     <use style=\"fill:#1f77b4;stroke:#ffffff;stroke-width:0.75;\" x=\"131.426882\" xlink:href=\"#C0_0_7a5cefd68e\" y=\"482.358005\"/>\r\n    </g>\r\n    <g clip-path=\"url(#p463d27b834)\">\r\n     <use style=\"fill:#ff7f0e;stroke:#ffffff;stroke-width:0.75;\" x=\"113.179093\" xlink:href=\"#C0_0_7a5cefd68e\" y=\"495.477876\"/>\r\n    </g>\r\n    <g clip-path=\"url(#p463d27b834)\">\r\n     <use style=\"fill:#ff7f0e;stroke:#ffffff;stroke-width:0.75;\" x=\"154.919922\" xlink:href=\"#C0_0_7a5cefd68e\" y=\"394.892196\"/>\r\n    </g>\r\n    <g clip-path=\"url(#p463d27b834)\">\r\n     <use style=\"fill:#1f77b4;stroke:#ffffff;stroke-width:0.75;\" x=\"346.956175\" xlink:href=\"#C0_0_7a5cefd68e\" y=\"469.238134\"/>\r\n    </g>\r\n    <g clip-path=\"url(#p463d27b834)\">\r\n     <use style=\"fill:#ff7f0e;stroke:#ffffff;stroke-width:0.75;\" x=\"198.888404\" xlink:href=\"#C0_0_7a5cefd68e\" y=\"499.851167\"/>\r\n    </g>\r\n    <g clip-path=\"url(#p463d27b834)\">\r\n     <use style=\"fill:#ff7f0e;stroke:#ffffff;stroke-width:0.75;\" x=\"83.018895\" xlink:href=\"#C0_0_7a5cefd68e\" y=\"477.984714\"/>\r\n    </g>\r\n    <g clip-path=\"url(#p463d27b834)\">\r\n     <use style=\"fill:#ff7f0e;stroke:#ffffff;stroke-width:0.75;\" x=\"164.731071\" xlink:href=\"#C0_0_7a5cefd68e\" y=\"499.851167\"/>\r\n    </g>\r\n    <g clip-path=\"url(#p463d27b834)\">\r\n     <use style=\"fill:#ff7f0e;stroke:#ffffff;stroke-width:0.75;\" x=\"144.903387\" xlink:href=\"#C0_0_7a5cefd68e\" y=\"508.597747\"/>\r\n    </g>\r\n    <g clip-path=\"url(#p463d27b834)\">\r\n     <use style=\"fill:#1f77b4;stroke:#ffffff;stroke-width:0.75;\" x=\"122.137099\" xlink:href=\"#C0_0_7a5cefd68e\" y=\"512.971038\"/>\r\n    </g>\r\n    <g clip-path=\"url(#p463d27b834)\">\r\n     <use style=\"fill:#ff7f0e;stroke:#ffffff;stroke-width:0.75;\" x=\"160.591746\" xlink:href=\"#C0_0_7a5cefd68e\" y=\"342.412711\"/>\r\n    </g>\r\n    <g clip-path=\"url(#p463d27b834)\">\r\n     <use style=\"fill:#ff7f0e;stroke:#ffffff;stroke-width:0.75;\" x=\"254.753496\" xlink:href=\"#C0_0_7a5cefd68e\" y=\"508.597747\"/>\r\n    </g>\r\n    <g clip-path=\"url(#p463d27b834)\">\r\n     <use style=\"fill:#1f77b4;stroke:#ffffff;stroke-width:0.75;\" x=\"121.66313\" xlink:href=\"#C0_0_7a5cefd68e\" y=\"447.371681\"/>\r\n    </g>\r\n    <g clip-path=\"url(#p463d27b834)\">\r\n     <use style=\"fill:#1f77b4;stroke:#ffffff;stroke-width:0.75;\" x=\"153.055646\" xlink:href=\"#C0_0_7a5cefd68e\" y=\"447.371681\"/>\r\n    </g>\r\n    <g clip-path=\"url(#p463d27b834)\">\r\n     <use style=\"fill:#ff7f0e;stroke:#ffffff;stroke-width:0.75;\" x=\"161.239503\" xlink:href=\"#C0_0_7a5cefd68e\" y=\"429.87852\"/>\r\n    </g>\r\n    <g clip-path=\"url(#p463d27b834)\">\r\n     <use style=\"fill:#1f77b4;stroke:#ffffff;stroke-width:0.75;\" x=\"192.189649\" xlink:href=\"#C0_0_7a5cefd68e\" y=\"499.851167\"/>\r\n    </g>\r\n    <g clip-path=\"url(#p463d27b834)\">\r\n     <use style=\"fill:#1f77b4;stroke:#ffffff;stroke-width:0.75;\" x=\"174.68441\" xlink:href=\"#C0_0_7a5cefd68e\" y=\"521.717619\"/>\r\n    </g>\r\n    <g clip-path=\"url(#p463d27b834)\">\r\n     <use style=\"fill:#ff7f0e;stroke:#ffffff;stroke-width:0.75;\" x=\"92.766848\" xlink:href=\"#C0_0_7a5cefd68e\" y=\"495.477876\"/>\r\n    </g>\r\n    <g clip-path=\"url(#p463d27b834)\">\r\n     <use style=\"fill:#ff7f0e;stroke:#ffffff;stroke-width:0.75;\" x=\"422.791141\" xlink:href=\"#C0_0_7a5cefd68e\" y=\"429.87852\"/>\r\n    </g>\r\n    <g clip-path=\"url(#p463d27b834)\">\r\n     <use style=\"fill:#1f77b4;stroke:#ffffff;stroke-width:0.75;\" x=\"101.882843\" xlink:href=\"#C0_0_7a5cefd68e\" y=\"526.090909\"/>\r\n    </g>\r\n    <g clip-path=\"url(#p463d27b834)\">\r\n     <use style=\"fill:#1f77b4;stroke:#ffffff;stroke-width:0.75;\" x=\"222.966006\" xlink:href=\"#C0_0_7a5cefd68e\" y=\"482.358005\"/>\r\n    </g>\r\n    <g clip-path=\"url(#p463d27b834)\">\r\n     <use style=\"fill:#1f77b4;stroke:#ffffff;stroke-width:0.75;\" x=\"152.028714\" xlink:href=\"#C0_0_7a5cefd68e\" y=\"512.971038\"/>\r\n    </g>\r\n    <g clip-path=\"url(#p463d27b834)\">\r\n     <use style=\"fill:#1f77b4;stroke:#ffffff;stroke-width:0.75;\" x=\"239.523306\" xlink:href=\"#C0_0_7a5cefd68e\" y=\"508.597747\"/>\r\n    </g>\r\n    <g clip-path=\"url(#p463d27b834)\">\r\n     <use style=\"fill:#1f77b4;stroke:#ffffff;stroke-width:0.75;\" x=\"143.2129\" xlink:href=\"#C0_0_7a5cefd68e\" y=\"499.851167\"/>\r\n    </g>\r\n    <g clip-path=\"url(#p463d27b834)\">\r\n     <use style=\"fill:#1f77b4;stroke:#ffffff;stroke-width:0.75;\" x=\"269.162139\" xlink:href=\"#C0_0_7a5cefd68e\" y=\"517.344328\"/>\r\n    </g>\r\n    <g clip-path=\"url(#p463d27b834)\">\r\n     <use style=\"fill:#ff7f0e;stroke:#ffffff;stroke-width:0.75;\" x=\"132.927782\" xlink:href=\"#C0_0_7a5cefd68e\" y=\"512.971038\"/>\r\n    </g>\r\n    <g clip-path=\"url(#p463d27b834)\">\r\n     <use style=\"fill:#1f77b4;stroke:#ffffff;stroke-width:0.75;\" x=\"82.955699\" xlink:href=\"#C0_0_7a5cefd68e\" y=\"508.597747\"/>\r\n    </g>\r\n    <g clip-path=\"url(#p463d27b834)\">\r\n     <use style=\"fill:#1f77b4;stroke:#ffffff;stroke-width:0.75;\" x=\"88.927703\" xlink:href=\"#C0_0_7a5cefd68e\" y=\"517.344328\"/>\r\n    </g>\r\n    <g clip-path=\"url(#p463d27b834)\">\r\n     <use style=\"fill:#1f77b4;stroke:#ffffff;stroke-width:0.75;\" x=\"78.911168\" xlink:href=\"#C0_0_7a5cefd68e\" y=\"473.611424\"/>\r\n    </g>\r\n    <g clip-path=\"url(#p463d27b834)\">\r\n     <use style=\"fill:#1f77b4;stroke:#ffffff;stroke-width:0.75;\" x=\"113.953242\" xlink:href=\"#C0_0_7a5cefd68e\" y=\"456.118262\"/>\r\n    </g>\r\n    <g clip-path=\"url(#p463d27b834)\">\r\n     <use style=\"fill:#ff7f0e;stroke:#ffffff;stroke-width:0.75;\" x=\"87.584792\" xlink:href=\"#C0_0_7a5cefd68e\" y=\"477.984714\"/>\r\n    </g>\r\n    <g clip-path=\"url(#p463d27b834)\">\r\n     <use style=\"fill:#ff7f0e;stroke:#ffffff;stroke-width:0.75;\" x=\"303.540657\" xlink:href=\"#C0_0_7a5cefd68e\" y=\"477.984714\"/>\r\n    </g>\r\n    <g clip-path=\"url(#p463d27b834)\">\r\n     <use style=\"fill:#ff7f0e;stroke:#ffffff;stroke-width:0.75;\" x=\"122.42148\" xlink:href=\"#C0_0_7a5cefd68e\" y=\"508.597747\"/>\r\n    </g>\r\n    <g clip-path=\"url(#p463d27b834)\">\r\n     <use style=\"fill:#1f77b4;stroke:#ffffff;stroke-width:0.75;\" x=\"226.899944\" xlink:href=\"#C0_0_7a5cefd68e\" y=\"482.358005\"/>\r\n    </g>\r\n    <g clip-path=\"url(#p463d27b834)\">\r\n     <use style=\"fill:#ff7f0e;stroke:#ffffff;stroke-width:0.75;\" x=\"143.165503\" xlink:href=\"#C0_0_7a5cefd68e\" y=\"473.611424\"/>\r\n    </g>\r\n    <g clip-path=\"url(#p463d27b834)\">\r\n     <use style=\"fill:#ff7f0e;stroke:#ffffff;stroke-width:0.75;\" x=\"500.743167\" xlink:href=\"#C0_0_7a5cefd68e\" y=\"429.87852\"/>\r\n    </g>\r\n    <g clip-path=\"url(#p463d27b834)\">\r\n     <use style=\"fill:#1f77b4;stroke:#ffffff;stroke-width:0.75;\" x=\"98.391275\" xlink:href=\"#C0_0_7a5cefd68e\" y=\"307.426388\"/>\r\n    </g>\r\n    <g clip-path=\"url(#p463d27b834)\">\r\n     <use style=\"fill:#1f77b4;stroke:#ffffff;stroke-width:0.75;\" x=\"80.348872\" xlink:href=\"#C0_0_7a5cefd68e\" y=\"416.758648\"/>\r\n    </g>\r\n    <g clip-path=\"url(#p463d27b834)\">\r\n     <use style=\"fill:#1f77b4;stroke:#ffffff;stroke-width:0.75;\" x=\"158.158707\" xlink:href=\"#C0_0_7a5cefd68e\" y=\"473.611424\"/>\r\n    </g>\r\n    <g clip-path=\"url(#p463d27b834)\">\r\n     <use style=\"fill:#ff7f0e;stroke:#ffffff;stroke-width:0.75;\" x=\"322.957568\" xlink:href=\"#C0_0_7a5cefd68e\" y=\"438.625101\"/>\r\n    </g>\r\n    <g clip-path=\"url(#p463d27b834)\">\r\n     <use style=\"fill:#ff7f0e;stroke:#ffffff;stroke-width:0.75;\" x=\"492.843691\" xlink:href=\"#C0_0_7a5cefd68e\" y=\"482.358005\"/>\r\n    </g>\r\n    <g clip-path=\"url(#p463d27b834)\">\r\n     <use style=\"fill:#ff7f0e;stroke:#ffffff;stroke-width:0.75;\" x=\"305.657716\" xlink:href=\"#C0_0_7a5cefd68e\" y=\"473.611424\"/>\r\n    </g>\r\n    <g clip-path=\"url(#p463d27b834)\">\r\n     <use style=\"fill:#1f77b4;stroke:#ffffff;stroke-width:0.75;\" x=\"96.084628\" xlink:href=\"#C0_0_7a5cefd68e\" y=\"447.371681\"/>\r\n    </g>\r\n    <g clip-path=\"url(#p463d27b834)\">\r\n     <use style=\"fill:#ff7f0e;stroke:#ffffff;stroke-width:0.75;\" x=\"106.701523\" xlink:href=\"#C0_0_7a5cefd68e\" y=\"512.971038\"/>\r\n    </g>\r\n    <g clip-path=\"url(#p463d27b834)\">\r\n     <use style=\"fill:#ff7f0e;stroke:#ffffff;stroke-width:0.75;\" x=\"161.365895\" xlink:href=\"#C0_0_7a5cefd68e\" y=\"473.611424\"/>\r\n    </g>\r\n    <g clip-path=\"url(#p463d27b834)\">\r\n     <use style=\"fill:#2ca02c;stroke:#ffffff;stroke-width:0.75;\" x=\"241.024207\" xlink:href=\"#C0_0_7a5cefd68e\" y=\"504.224457\"/>\r\n    </g>\r\n    <g clip-path=\"url(#p463d27b834)\">\r\n     <use style=\"fill:#ff7f0e;stroke:#ffffff;stroke-width:0.75;\" x=\"88.959301\" xlink:href=\"#C0_0_7a5cefd68e\" y=\"482.358005\"/>\r\n    </g>\r\n    <g clip-path=\"url(#p463d27b834)\">\r\n     <use style=\"fill:#1f77b4;stroke:#ffffff;stroke-width:0.75;\" x=\"522.277137\" xlink:href=\"#C0_0_7a5cefd68e\" y=\"346.786002\"/>\r\n    </g>\r\n    <g clip-path=\"url(#p463d27b834)\">\r\n     <use style=\"fill:#ff7f0e;stroke:#ffffff;stroke-width:0.75;\" x=\"165.457823\" xlink:href=\"#C0_0_7a5cefd68e\" y=\"429.87852\"/>\r\n    </g>\r\n    <g clip-path=\"url(#p463d27b834)\">\r\n     <use style=\"fill:#1f77b4;stroke:#ffffff;stroke-width:0.75;\" x=\"177.149047\" xlink:href=\"#C0_0_7a5cefd68e\" y=\"438.625101\"/>\r\n    </g>\r\n    <g clip-path=\"url(#p463d27b834)\">\r\n     <use style=\"fill:#1f77b4;stroke:#ffffff;stroke-width:0.75;\" x=\"155.899457\" xlink:href=\"#C0_0_7a5cefd68e\" y=\"477.984714\"/>\r\n    </g>\r\n    <g clip-path=\"url(#p463d27b834)\">\r\n     <use style=\"fill:#1f77b4;stroke:#ffffff;stroke-width:0.75;\" x=\"130.194564\" xlink:href=\"#C0_0_7a5cefd68e\" y=\"473.611424\"/>\r\n    </g>\r\n    <g clip-path=\"url(#p463d27b834)\">\r\n     <use style=\"fill:#1f77b4;stroke:#ffffff;stroke-width:0.75;\" x=\"165.126045\" xlink:href=\"#C0_0_7a5cefd68e\" y=\"486.731295\"/>\r\n    </g>\r\n    <g clip-path=\"url(#p463d27b834)\">\r\n     <use style=\"fill:#1f77b4;stroke:#ffffff;stroke-width:0.75;\" x=\"151.207169\" xlink:href=\"#C0_0_7a5cefd68e\" y=\"512.971038\"/>\r\n    </g>\r\n    <g clip-path=\"url(#p463d27b834)\">\r\n     <use style=\"fill:#1f77b4;stroke:#ffffff;stroke-width:0.75;\" x=\"198.525028\" xlink:href=\"#C0_0_7a5cefd68e\" y=\"504.224457\"/>\r\n    </g>\r\n    <g clip-path=\"url(#p463d27b834)\">\r\n     <use style=\"fill:#ff7f0e;stroke:#ffffff;stroke-width:0.75;\" x=\"194.243512\" xlink:href=\"#C0_0_7a5cefd68e\" y=\"526.090909\"/>\r\n    </g>\r\n    <g clip-path=\"url(#p463d27b834)\">\r\n     <use style=\"fill:#ff7f0e;stroke:#ffffff;stroke-width:0.75;\" x=\"194.338306\" xlink:href=\"#C0_0_7a5cefd68e\" y=\"477.984714\"/>\r\n    </g>\r\n    <g clip-path=\"url(#p463d27b834)\">\r\n     <use style=\"fill:#1f77b4;stroke:#ffffff;stroke-width:0.75;\" x=\"138.410018\" xlink:href=\"#C0_0_7a5cefd68e\" y=\"460.491553\"/>\r\n    </g>\r\n    <g clip-path=\"url(#p463d27b834)\">\r\n     <use style=\"fill:#1f77b4;stroke:#ffffff;stroke-width:0.75;\" x=\"238.227792\" xlink:href=\"#C0_0_7a5cefd68e\" y=\"512.971038\"/>\r\n    </g>\r\n    <g clip-path=\"url(#p463d27b834)\">\r\n     <use style=\"fill:#ff7f0e;stroke:#ffffff;stroke-width:0.75;\" x=\"276.635043\" xlink:href=\"#C0_0_7a5cefd68e\" y=\"425.505229\"/>\r\n    </g>\r\n    <g clip-path=\"url(#p463d27b834)\">\r\n     <use style=\"fill:#2ca02c;stroke:#ffffff;stroke-width:0.75;\" x=\"128.361885\" xlink:href=\"#C0_0_7a5cefd68e\" y=\"499.851167\"/>\r\n    </g>\r\n    <g clip-path=\"url(#p463d27b834)\">\r\n     <use style=\"fill:#2ca02c;stroke:#ffffff;stroke-width:0.75;\" x=\"97.538131\" xlink:href=\"#C0_0_7a5cefd68e\" y=\"521.717619\"/>\r\n    </g>\r\n    <g clip-path=\"url(#p463d27b834)\">\r\n     <use style=\"fill:#2ca02c;stroke:#ffffff;stroke-width:0.75;\" x=\"239.128333\" xlink:href=\"#C0_0_7a5cefd68e\" y=\"434.25181\"/>\r\n    </g>\r\n    <g clip-path=\"url(#p463d27b834)\">\r\n     <use style=\"fill:#2ca02c;stroke:#ffffff;stroke-width:0.75;\" x=\"109.529535\" xlink:href=\"#C0_0_7a5cefd68e\" y=\"434.25181\"/>\r\n    </g>\r\n    <g clip-path=\"url(#p463d27b834)\">\r\n     <use style=\"fill:#ff7f0e;stroke:#ffffff;stroke-width:0.75;\" x=\"151.681137\" xlink:href=\"#C0_0_7a5cefd68e\" y=\"342.412711\"/>\r\n    </g>\r\n    <g clip-path=\"url(#p463d27b834)\">\r\n     <use style=\"fill:#ff7f0e;stroke:#ffffff;stroke-width:0.75;\" x=\"274.707571\" xlink:href=\"#C0_0_7a5cefd68e\" y=\"526.090909\"/>\r\n    </g>\r\n    <g clip-path=\"url(#p463d27b834)\">\r\n     <use style=\"fill:#ff7f0e;stroke:#ffffff;stroke-width:0.75;\" x=\"200.389304\" xlink:href=\"#C0_0_7a5cefd68e\" y=\"508.597747\"/>\r\n    </g>\r\n    <g clip-path=\"url(#p463d27b834)\">\r\n     <use style=\"fill:#1f77b4;stroke:#ffffff;stroke-width:0.75;\" x=\"83.571859\" xlink:href=\"#C0_0_7a5cefd68e\" y=\"473.611424\"/>\r\n    </g>\r\n    <g clip-path=\"url(#p463d27b834)\">\r\n     <use style=\"fill:#1f77b4;stroke:#ffffff;stroke-width:0.75;\" x=\"120.446611\" xlink:href=\"#C0_0_7a5cefd68e\" y=\"473.611424\"/>\r\n    </g>\r\n    <g clip-path=\"url(#p463d27b834)\">\r\n     <use style=\"fill:#d62728;stroke:#ffffff;stroke-width:0.75;\" x=\"89.812444\" xlink:href=\"#C0_0_7a5cefd68e\" y=\"460.491553\"/>\r\n    </g>\r\n    <g clip-path=\"url(#p463d27b834)\">\r\n     <use style=\"fill:#ff7f0e;stroke:#ffffff;stroke-width:0.75;\" x=\"221.322915\" xlink:href=\"#C0_0_7a5cefd68e\" y=\"394.892196\"/>\r\n    </g>\r\n    <g clip-path=\"url(#p463d27b834)\">\r\n     <use style=\"fill:#ff7f0e;stroke:#ffffff;stroke-width:0.75;\" x=\"392.283366\" xlink:href=\"#C0_0_7a5cefd68e\" y=\"504.224457\"/>\r\n    </g>\r\n    <g clip-path=\"url(#p463d27b834)\">\r\n     <use style=\"fill:#2ca02c;stroke:#ffffff;stroke-width:0.75;\" x=\"77.046892\" xlink:href=\"#C0_0_7a5cefd68e\" y=\"512.971038\"/>\r\n    </g>\r\n    <g clip-path=\"url(#p463d27b834)\">\r\n     <use style=\"fill:#1f77b4;stroke:#ffffff;stroke-width:0.75;\" x=\"137.33569\" xlink:href=\"#C0_0_7a5cefd68e\" y=\"477.984714\"/>\r\n    </g>\r\n    <g clip-path=\"url(#p463d27b834)\">\r\n     <use style=\"fill:#1f77b4;stroke:#ffffff;stroke-width:0.75;\" x=\"120.90478\" xlink:href=\"#C0_0_7a5cefd68e\" y=\"364.279163\"/>\r\n    </g>\r\n    <g clip-path=\"url(#p463d27b834)\">\r\n     <use style=\"fill:#ff7f0e;stroke:#ffffff;stroke-width:0.75;\" x=\"125.644466\" xlink:href=\"#C0_0_7a5cefd68e\" y=\"464.864843\"/>\r\n    </g>\r\n    <g clip-path=\"url(#p463d27b834)\">\r\n     <use style=\"fill:#2ca02c;stroke:#ffffff;stroke-width:0.75;\" x=\"98.723053\" xlink:href=\"#C0_0_7a5cefd68e\" y=\"482.358005\"/>\r\n    </g>\r\n    <g clip-path=\"url(#p463d27b834)\">\r\n     <use style=\"fill:#ff7f0e;stroke:#ffffff;stroke-width:0.75;\" x=\"546.354739\" xlink:href=\"#C0_0_7a5cefd68e\" y=\"403.638777\"/>\r\n    </g>\r\n    <g clip-path=\"url(#p463d27b834)\">\r\n     <use style=\"fill:#ff7f0e;stroke:#ffffff;stroke-width:0.75;\" x=\"281.516919\" xlink:href=\"#C0_0_7a5cefd68e\" y=\"495.477876\"/>\r\n    </g>\r\n    <g clip-path=\"url(#p463d27b834)\">\r\n     <use style=\"fill:#ff7f0e;stroke:#ffffff;stroke-width:0.75;\" x=\"260.804494\" xlink:href=\"#C0_0_7a5cefd68e\" y=\"508.597747\"/>\r\n    </g>\r\n    <g clip-path=\"url(#p463d27b834)\">\r\n     <use style=\"fill:#1f77b4;stroke:#ffffff;stroke-width:0.75;\" x=\"94.678521\" xlink:href=\"#C0_0_7a5cefd68e\" y=\"464.864843\"/>\r\n    </g>\r\n    <g clip-path=\"url(#p463d27b834)\">\r\n     <use style=\"fill:#2ca02c;stroke:#ffffff;stroke-width:0.75;\" x=\"72.607386\" xlink:href=\"#C0_0_7a5cefd68e\" y=\"495.477876\"/>\r\n    </g>\r\n    <g clip-path=\"url(#p463d27b834)\">\r\n     <use style=\"fill:#ff7f0e;stroke:#ffffff;stroke-width:0.75;\" x=\"232.350583\" xlink:href=\"#C0_0_7a5cefd68e\" y=\"477.984714\"/>\r\n    </g>\r\n    <g clip-path=\"url(#p463d27b834)\">\r\n     <use style=\"fill:#1f77b4;stroke:#ffffff;stroke-width:0.75;\" x=\"231.860815\" xlink:href=\"#C0_0_7a5cefd68e\" y=\"499.851167\"/>\r\n    </g>\r\n    <g clip-path=\"url(#p463d27b834)\">\r\n     <use style=\"fill:#ff7f0e;stroke:#ffffff;stroke-width:0.75;\" x=\"210.24785\" xlink:href=\"#C0_0_7a5cefd68e\" y=\"504.224457\"/>\r\n    </g>\r\n    <g clip-path=\"url(#p463d27b834)\">\r\n     <use style=\"fill:#ff7f0e;stroke:#ffffff;stroke-width:0.75;\" x=\"112.689326\" xlink:href=\"#C0_0_7a5cefd68e\" y=\"394.892196\"/>\r\n    </g>\r\n    <g clip-path=\"url(#p463d27b834)\">\r\n     <use style=\"fill:#1f77b4;stroke:#ffffff;stroke-width:0.75;\" x=\"92.008499\" xlink:href=\"#C0_0_7a5cefd68e\" y=\"495.477876\"/>\r\n    </g>\r\n    <g clip-path=\"url(#p463d27b834)\">\r\n     <use style=\"fill:#1f77b4;stroke:#ffffff;stroke-width:0.75;\" x=\"235.146997\" xlink:href=\"#C0_0_7a5cefd68e\" y=\"495.477876\"/>\r\n    </g>\r\n    <g clip-path=\"url(#p463d27b834)\">\r\n     <use style=\"fill:#1f77b4;stroke:#ffffff;stroke-width:0.75;\" x=\"185.174914\" xlink:href=\"#C0_0_7a5cefd68e\" y=\"491.104586\"/>\r\n    </g>\r\n    <g clip-path=\"url(#p463d27b834)\">\r\n     <use style=\"fill:#ff7f0e;stroke:#ffffff;stroke-width:0.75;\" x=\"138.188833\" xlink:href=\"#C0_0_7a5cefd68e\" y=\"521.717619\"/>\r\n    </g>\r\n    <g clip-path=\"url(#p463d27b834)\">\r\n     <use style=\"fill:#2ca02c;stroke:#ffffff;stroke-width:0.75;\" x=\"77.173283\" xlink:href=\"#C0_0_7a5cefd68e\" y=\"504.224457\"/>\r\n    </g>\r\n    <g clip-path=\"url(#p463d27b834)\">\r\n     <use style=\"fill:#1f77b4;stroke:#ffffff;stroke-width:0.75;\" x=\"121.189162\" xlink:href=\"#C0_0_7a5cefd68e\" y=\"464.864843\"/>\r\n    </g>\r\n    <g clip-path=\"url(#p463d27b834)\">\r\n     <use style=\"fill:#1f77b4;stroke:#ffffff;stroke-width:0.75;\" x=\"345.723857\" xlink:href=\"#C0_0_7a5cefd68e\" y=\"464.864843\"/>\r\n    </g>\r\n    <g clip-path=\"url(#p463d27b834)\">\r\n     <use style=\"fill:#ff7f0e;stroke:#ffffff;stroke-width:0.75;\" x=\"159.185639\" xlink:href=\"#C0_0_7a5cefd68e\" y=\"429.87852\"/>\r\n    </g>\r\n    <g clip-path=\"url(#p463d27b834)\">\r\n     <use style=\"fill:#ff7f0e;stroke:#ffffff;stroke-width:0.75;\" x=\"122.137099\" xlink:href=\"#C0_0_7a5cefd68e\" y=\"491.104586\"/>\r\n    </g>\r\n    <g clip-path=\"url(#p463d27b834)\">\r\n     <use style=\"fill:#ff7f0e;stroke:#ffffff;stroke-width:0.75;\" x=\"198.082657\" xlink:href=\"#C0_0_7a5cefd68e\" y=\"517.344328\"/>\r\n    </g>\r\n    <g clip-path=\"url(#p463d27b834)\">\r\n     <use style=\"fill:#ff7f0e;stroke:#ffffff;stroke-width:0.75;\" x=\"188.050323\" xlink:href=\"#C0_0_7a5cefd68e\" y=\"512.971038\"/>\r\n    </g>\r\n    <g clip-path=\"url(#p463d27b834)\">\r\n     <use style=\"fill:#ff7f0e;stroke:#ffffff;stroke-width:0.75;\" x=\"188.050323\" xlink:href=\"#C0_0_7a5cefd68e\" y=\"451.744972\"/>\r\n    </g>\r\n    <g clip-path=\"url(#p463d27b834)\">\r\n     <use style=\"fill:#ff7f0e;stroke:#ffffff;stroke-width:0.75;\" x=\"331.710187\" xlink:href=\"#C0_0_7a5cefd68e\" y=\"394.892196\"/>\r\n    </g>\r\n    <g clip-path=\"url(#p463d27b834)\">\r\n     <use style=\"fill:#1f77b4;stroke:#ffffff;stroke-width:0.75;\" x=\"122.389882\" xlink:href=\"#C0_0_7a5cefd68e\" y=\"495.477876\"/>\r\n    </g>\r\n    <g clip-path=\"url(#p463d27b834)\">\r\n     <use style=\"fill:#ff7f0e;stroke:#ffffff;stroke-width:0.75;\" x=\"98.185888\" xlink:href=\"#C0_0_7a5cefd68e\" y=\"31.909091\"/>\r\n    </g>\r\n    <g clip-path=\"url(#p463d27b834)\">\r\n     <use style=\"fill:#1f77b4;stroke:#ffffff;stroke-width:0.75;\" x=\"206.155921\" xlink:href=\"#C0_0_7a5cefd68e\" y=\"469.238134\"/>\r\n    </g>\r\n    <g clip-path=\"url(#p463d27b834)\">\r\n     <use style=\"fill:#ff7f0e;stroke:#ffffff;stroke-width:0.75;\" x=\"212.001533\" xlink:href=\"#C0_0_7a5cefd68e\" y=\"486.731295\"/>\r\n    </g>\r\n    <g clip-path=\"url(#p463d27b834)\">\r\n     <use style=\"fill:#1f77b4;stroke:#ffffff;stroke-width:0.75;\" x=\"97.048364\" xlink:href=\"#C0_0_7a5cefd68e\" y=\"464.864843\"/>\r\n    </g>\r\n    <g clip-path=\"url(#p463d27b834)\">\r\n     <use style=\"fill:#ff7f0e;stroke:#ffffff;stroke-width:0.75;\" x=\"303.445863\" xlink:href=\"#C0_0_7a5cefd68e\" y=\"477.984714\"/>\r\n    </g>\r\n    <g clip-path=\"url(#p463d27b834)\">\r\n     <use style=\"fill:#ff7f0e;stroke:#ffffff;stroke-width:0.75;\" x=\"214.039598\" xlink:href=\"#C0_0_7a5cefd68e\" y=\"521.717619\"/>\r\n    </g>\r\n    <g clip-path=\"url(#p463d27b834)\">\r\n     <use style=\"fill:#ff7f0e;stroke:#ffffff;stroke-width:0.75;\" x=\"141.190634\" xlink:href=\"#C0_0_7a5cefd68e\" y=\"451.744972\"/>\r\n    </g>\r\n    <g clip-path=\"url(#p463d27b834)\">\r\n     <use style=\"fill:#ff7f0e;stroke:#ffffff;stroke-width:0.75;\" x=\"120.035838\" xlink:href=\"#C0_0_7a5cefd68e\" y=\"477.984714\"/>\r\n    </g>\r\n    <g clip-path=\"url(#p463d27b834)\">\r\n     <use style=\"fill:#1f77b4;stroke:#ffffff;stroke-width:0.75;\" x=\"156.294431\" xlink:href=\"#C0_0_7a5cefd68e\" y=\"499.851167\"/>\r\n    </g>\r\n    <g clip-path=\"url(#p463d27b834)\">\r\n     <use style=\"fill:#2ca02c;stroke:#ffffff;stroke-width:0.75;\" x=\"76.399135\" xlink:href=\"#C0_0_7a5cefd68e\" y=\"499.851167\"/>\r\n    </g>\r\n    <g clip-path=\"url(#p463d27b834)\">\r\n     <use style=\"fill:#1f77b4;stroke:#ffffff;stroke-width:0.75;\" x=\"175.837734\" xlink:href=\"#C0_0_7a5cefd68e\" y=\"460.491553\"/>\r\n    </g>\r\n    <g clip-path=\"url(#p463d27b834)\">\r\n     <use style=\"fill:#1f77b4;stroke:#ffffff;stroke-width:0.75;\" x=\"101.203488\" xlink:href=\"#C0_0_7a5cefd68e\" y=\"460.491553\"/>\r\n    </g>\r\n    <g clip-path=\"url(#p463d27b834)\">\r\n     <use style=\"fill:#1f77b4;stroke:#ffffff;stroke-width:0.75;\" x=\"102.499002\" xlink:href=\"#C0_0_7a5cefd68e\" y=\"473.611424\"/>\r\n    </g>\r\n    <g clip-path=\"url(#p463d27b834)\">\r\n     <use style=\"fill:#1f77b4;stroke:#ffffff;stroke-width:0.75;\" x=\"257.233931\" xlink:href=\"#C0_0_7a5cefd68e\" y=\"460.491553\"/>\r\n    </g>\r\n    <g clip-path=\"url(#p463d27b834)\">\r\n     <use style=\"fill:#ff7f0e;stroke:#ffffff;stroke-width:0.75;\" x=\"203.975666\" xlink:href=\"#C0_0_7a5cefd68e\" y=\"429.87852\"/>\r\n    </g>\r\n    <g clip-path=\"url(#p463d27b834)\">\r\n     <use style=\"fill:#ff7f0e;stroke:#ffffff;stroke-width:0.75;\" x=\"96.479602\" xlink:href=\"#C0_0_7a5cefd68e\" y=\"508.597747\"/>\r\n    </g>\r\n    <g clip-path=\"url(#p463d27b834)\">\r\n     <use style=\"fill:#ff7f0e;stroke:#ffffff;stroke-width:0.75;\" x=\"189.614419\" xlink:href=\"#C0_0_7a5cefd68e\" y=\"456.118262\"/>\r\n    </g>\r\n    <g clip-path=\"url(#p463d27b834)\">\r\n     <use style=\"fill:#ff7f0e;stroke:#ffffff;stroke-width:0.75;\" x=\"231.592233\" xlink:href=\"#C0_0_7a5cefd68e\" y=\"477.984714\"/>\r\n    </g>\r\n   </g>\r\n   <g id=\"PathCollection_2\"/>\r\n   <g id=\"PathCollection_3\"/>\r\n   <g id=\"PathCollection_4\"/>\r\n   <g id=\"PathCollection_5\"/>\r\n   <g id=\"PathCollection_6\"/>\r\n   <g id=\"matplotlib.axis_1\">\r\n    <g id=\"xtick_1\">\r\n     <g id=\"line2d_1\">\r\n      <defs>\r\n       <path d=\"M 0 0 \r\nL 0 3.5 \r\n\" id=\"mb6133c5e8b\" style=\"stroke:#000000;stroke-width:0.8;\"/>\r\n      </defs>\r\n      <g>\r\n       <use style=\"stroke:#000000;stroke-width:0.8;\" x=\"72.480995\" xlink:href=\"#mb6133c5e8b\" y=\"550.8\"/>\r\n      </g>\r\n     </g>\r\n     <g id=\"text_1\">\r\n      <!-- 0 -->\r\n      <defs>\r\n       <path d=\"M 31.78125 66.40625 \r\nQ 24.171875 66.40625 20.328125 58.90625 \r\nQ 16.5 51.421875 16.5 36.375 \r\nQ 16.5 21.390625 20.328125 13.890625 \r\nQ 24.171875 6.390625 31.78125 6.390625 \r\nQ 39.453125 6.390625 43.28125 13.890625 \r\nQ 47.125 21.390625 47.125 36.375 \r\nQ 47.125 51.421875 43.28125 58.90625 \r\nQ 39.453125 66.40625 31.78125 66.40625 \r\nz\r\nM 31.78125 74.21875 \r\nQ 44.046875 74.21875 50.515625 64.515625 \r\nQ 56.984375 54.828125 56.984375 36.375 \r\nQ 56.984375 17.96875 50.515625 8.265625 \r\nQ 44.046875 -1.421875 31.78125 -1.421875 \r\nQ 19.53125 -1.421875 13.0625 8.265625 \r\nQ 6.59375 17.96875 6.59375 36.375 \r\nQ 6.59375 54.828125 13.0625 64.515625 \r\nQ 19.53125 74.21875 31.78125 74.21875 \r\nz\r\n\" id=\"DejaVuSans-48\"/>\r\n      </defs>\r\n      <g transform=\"translate(69.299745 565.398438)scale(0.1 -0.1)\">\r\n       <use xlink:href=\"#DejaVuSans-48\"/>\r\n      </g>\r\n     </g>\r\n    </g>\r\n    <g id=\"xtick_2\">\r\n     <g id=\"line2d_2\">\r\n      <g>\r\n       <use style=\"stroke:#000000;stroke-width:0.8;\" x=\"151.475751\" xlink:href=\"#mb6133c5e8b\" y=\"550.8\"/>\r\n      </g>\r\n     </g>\r\n     <g id=\"text_2\">\r\n      <!-- 5000 -->\r\n      <defs>\r\n       <path d=\"M 10.796875 72.90625 \r\nL 49.515625 72.90625 \r\nL 49.515625 64.59375 \r\nL 19.828125 64.59375 \r\nL 19.828125 46.734375 \r\nQ 21.96875 47.46875 24.109375 47.828125 \r\nQ 26.265625 48.1875 28.421875 48.1875 \r\nQ 40.625 48.1875 47.75 41.5 \r\nQ 54.890625 34.8125 54.890625 23.390625 \r\nQ 54.890625 11.625 47.5625 5.09375 \r\nQ 40.234375 -1.421875 26.90625 -1.421875 \r\nQ 22.3125 -1.421875 17.546875 -0.640625 \r\nQ 12.796875 0.140625 7.71875 1.703125 \r\nL 7.71875 11.625 \r\nQ 12.109375 9.234375 16.796875 8.0625 \r\nQ 21.484375 6.890625 26.703125 6.890625 \r\nQ 35.15625 6.890625 40.078125 11.328125 \r\nQ 45.015625 15.765625 45.015625 23.390625 \r\nQ 45.015625 31 40.078125 35.4375 \r\nQ 35.15625 39.890625 26.703125 39.890625 \r\nQ 22.75 39.890625 18.8125 39.015625 \r\nQ 14.890625 38.140625 10.796875 36.28125 \r\nz\r\n\" id=\"DejaVuSans-53\"/>\r\n      </defs>\r\n      <g transform=\"translate(138.750751 565.398438)scale(0.1 -0.1)\">\r\n       <use xlink:href=\"#DejaVuSans-53\"/>\r\n       <use x=\"63.623047\" xlink:href=\"#DejaVuSans-48\"/>\r\n       <use x=\"127.246094\" xlink:href=\"#DejaVuSans-48\"/>\r\n       <use x=\"190.869141\" xlink:href=\"#DejaVuSans-48\"/>\r\n      </g>\r\n     </g>\r\n    </g>\r\n    <g id=\"xtick_3\">\r\n     <g id=\"line2d_3\">\r\n      <g>\r\n       <use style=\"stroke:#000000;stroke-width:0.8;\" x=\"230.470507\" xlink:href=\"#mb6133c5e8b\" y=\"550.8\"/>\r\n      </g>\r\n     </g>\r\n     <g id=\"text_3\">\r\n      <!-- 10000 -->\r\n      <defs>\r\n       <path d=\"M 12.40625 8.296875 \r\nL 28.515625 8.296875 \r\nL 28.515625 63.921875 \r\nL 10.984375 60.40625 \r\nL 10.984375 69.390625 \r\nL 28.421875 72.90625 \r\nL 38.28125 72.90625 \r\nL 38.28125 8.296875 \r\nL 54.390625 8.296875 \r\nL 54.390625 0 \r\nL 12.40625 0 \r\nz\r\n\" id=\"DejaVuSans-49\"/>\r\n      </defs>\r\n      <g transform=\"translate(214.564257 565.398438)scale(0.1 -0.1)\">\r\n       <use xlink:href=\"#DejaVuSans-49\"/>\r\n       <use x=\"63.623047\" xlink:href=\"#DejaVuSans-48\"/>\r\n       <use x=\"127.246094\" xlink:href=\"#DejaVuSans-48\"/>\r\n       <use x=\"190.869141\" xlink:href=\"#DejaVuSans-48\"/>\r\n       <use x=\"254.492188\" xlink:href=\"#DejaVuSans-48\"/>\r\n      </g>\r\n     </g>\r\n    </g>\r\n    <g id=\"xtick_4\">\r\n     <g id=\"line2d_4\">\r\n      <g>\r\n       <use style=\"stroke:#000000;stroke-width:0.8;\" x=\"309.465264\" xlink:href=\"#mb6133c5e8b\" y=\"550.8\"/>\r\n      </g>\r\n     </g>\r\n     <g id=\"text_4\">\r\n      <!-- 15000 -->\r\n      <g transform=\"translate(293.559014 565.398438)scale(0.1 -0.1)\">\r\n       <use xlink:href=\"#DejaVuSans-49\"/>\r\n       <use x=\"63.623047\" xlink:href=\"#DejaVuSans-53\"/>\r\n       <use x=\"127.246094\" xlink:href=\"#DejaVuSans-48\"/>\r\n       <use x=\"190.869141\" xlink:href=\"#DejaVuSans-48\"/>\r\n       <use x=\"254.492188\" xlink:href=\"#DejaVuSans-48\"/>\r\n      </g>\r\n     </g>\r\n    </g>\r\n    <g id=\"xtick_5\">\r\n     <g id=\"line2d_5\">\r\n      <g>\r\n       <use style=\"stroke:#000000;stroke-width:0.8;\" x=\"388.46002\" xlink:href=\"#mb6133c5e8b\" y=\"550.8\"/>\r\n      </g>\r\n     </g>\r\n     <g id=\"text_5\">\r\n      <!-- 20000 -->\r\n      <defs>\r\n       <path d=\"M 19.1875 8.296875 \r\nL 53.609375 8.296875 \r\nL 53.609375 0 \r\nL 7.328125 0 \r\nL 7.328125 8.296875 \r\nQ 12.9375 14.109375 22.625 23.890625 \r\nQ 32.328125 33.6875 34.8125 36.53125 \r\nQ 39.546875 41.84375 41.421875 45.53125 \r\nQ 43.3125 49.21875 43.3125 52.78125 \r\nQ 43.3125 58.59375 39.234375 62.25 \r\nQ 35.15625 65.921875 28.609375 65.921875 \r\nQ 23.96875 65.921875 18.8125 64.3125 \r\nQ 13.671875 62.703125 7.8125 59.421875 \r\nL 7.8125 69.390625 \r\nQ 13.765625 71.78125 18.9375 73 \r\nQ 24.125 74.21875 28.421875 74.21875 \r\nQ 39.75 74.21875 46.484375 68.546875 \r\nQ 53.21875 62.890625 53.21875 53.421875 \r\nQ 53.21875 48.921875 51.53125 44.890625 \r\nQ 49.859375 40.875 45.40625 35.40625 \r\nQ 44.1875 33.984375 37.640625 27.21875 \r\nQ 31.109375 20.453125 19.1875 8.296875 \r\nz\r\n\" id=\"DejaVuSans-50\"/>\r\n      </defs>\r\n      <g transform=\"translate(372.55377 565.398438)scale(0.1 -0.1)\">\r\n       <use xlink:href=\"#DejaVuSans-50\"/>\r\n       <use x=\"63.623047\" xlink:href=\"#DejaVuSans-48\"/>\r\n       <use x=\"127.246094\" xlink:href=\"#DejaVuSans-48\"/>\r\n       <use x=\"190.869141\" xlink:href=\"#DejaVuSans-48\"/>\r\n       <use x=\"254.492188\" xlink:href=\"#DejaVuSans-48\"/>\r\n      </g>\r\n     </g>\r\n    </g>\r\n    <g id=\"xtick_6\">\r\n     <g id=\"line2d_6\">\r\n      <g>\r\n       <use style=\"stroke:#000000;stroke-width:0.8;\" x=\"467.454776\" xlink:href=\"#mb6133c5e8b\" y=\"550.8\"/>\r\n      </g>\r\n     </g>\r\n     <g id=\"text_6\">\r\n      <!-- 25000 -->\r\n      <g transform=\"translate(451.548526 565.398438)scale(0.1 -0.1)\">\r\n       <use xlink:href=\"#DejaVuSans-50\"/>\r\n       <use x=\"63.623047\" xlink:href=\"#DejaVuSans-53\"/>\r\n       <use x=\"127.246094\" xlink:href=\"#DejaVuSans-48\"/>\r\n       <use x=\"190.869141\" xlink:href=\"#DejaVuSans-48\"/>\r\n       <use x=\"254.492188\" xlink:href=\"#DejaVuSans-48\"/>\r\n      </g>\r\n     </g>\r\n    </g>\r\n    <g id=\"xtick_7\">\r\n     <g id=\"line2d_7\">\r\n      <g>\r\n       <use style=\"stroke:#000000;stroke-width:0.8;\" x=\"546.449533\" xlink:href=\"#mb6133c5e8b\" y=\"550.8\"/>\r\n      </g>\r\n     </g>\r\n     <g id=\"text_7\">\r\n      <!-- 30000 -->\r\n      <defs>\r\n       <path d=\"M 40.578125 39.3125 \r\nQ 47.65625 37.796875 51.625 33 \r\nQ 55.609375 28.21875 55.609375 21.1875 \r\nQ 55.609375 10.40625 48.1875 4.484375 \r\nQ 40.765625 -1.421875 27.09375 -1.421875 \r\nQ 22.515625 -1.421875 17.65625 -0.515625 \r\nQ 12.796875 0.390625 7.625 2.203125 \r\nL 7.625 11.71875 \r\nQ 11.71875 9.328125 16.59375 8.109375 \r\nQ 21.484375 6.890625 26.8125 6.890625 \r\nQ 36.078125 6.890625 40.9375 10.546875 \r\nQ 45.796875 14.203125 45.796875 21.1875 \r\nQ 45.796875 27.640625 41.28125 31.265625 \r\nQ 36.765625 34.90625 28.71875 34.90625 \r\nL 20.21875 34.90625 \r\nL 20.21875 43.015625 \r\nL 29.109375 43.015625 \r\nQ 36.375 43.015625 40.234375 45.921875 \r\nQ 44.09375 48.828125 44.09375 54.296875 \r\nQ 44.09375 59.90625 40.109375 62.90625 \r\nQ 36.140625 65.921875 28.71875 65.921875 \r\nQ 24.65625 65.921875 20.015625 65.03125 \r\nQ 15.375 64.15625 9.8125 62.3125 \r\nL 9.8125 71.09375 \r\nQ 15.4375 72.65625 20.34375 73.4375 \r\nQ 25.25 74.21875 29.59375 74.21875 \r\nQ 40.828125 74.21875 47.359375 69.109375 \r\nQ 53.90625 64.015625 53.90625 55.328125 \r\nQ 53.90625 49.265625 50.4375 45.09375 \r\nQ 46.96875 40.921875 40.578125 39.3125 \r\nz\r\n\" id=\"DejaVuSans-51\"/>\r\n      </defs>\r\n      <g transform=\"translate(530.543283 565.398438)scale(0.1 -0.1)\">\r\n       <use xlink:href=\"#DejaVuSans-51\"/>\r\n       <use x=\"63.623047\" xlink:href=\"#DejaVuSans-48\"/>\r\n       <use x=\"127.246094\" xlink:href=\"#DejaVuSans-48\"/>\r\n       <use x=\"190.869141\" xlink:href=\"#DejaVuSans-48\"/>\r\n       <use x=\"254.492188\" xlink:href=\"#DejaVuSans-48\"/>\r\n      </g>\r\n     </g>\r\n    </g>\r\n    <g id=\"text_8\">\r\n     <!-- population -->\r\n     <defs>\r\n      <path d=\"M 18.109375 8.203125 \r\nL 18.109375 -20.796875 \r\nL 9.078125 -20.796875 \r\nL 9.078125 54.6875 \r\nL 18.109375 54.6875 \r\nL 18.109375 46.390625 \r\nQ 20.953125 51.265625 25.265625 53.625 \r\nQ 29.59375 56 35.59375 56 \r\nQ 45.5625 56 51.78125 48.09375 \r\nQ 58.015625 40.1875 58.015625 27.296875 \r\nQ 58.015625 14.40625 51.78125 6.484375 \r\nQ 45.5625 -1.421875 35.59375 -1.421875 \r\nQ 29.59375 -1.421875 25.265625 0.953125 \r\nQ 20.953125 3.328125 18.109375 8.203125 \r\nz\r\nM 48.6875 27.296875 \r\nQ 48.6875 37.203125 44.609375 42.84375 \r\nQ 40.53125 48.484375 33.40625 48.484375 \r\nQ 26.265625 48.484375 22.1875 42.84375 \r\nQ 18.109375 37.203125 18.109375 27.296875 \r\nQ 18.109375 17.390625 22.1875 11.75 \r\nQ 26.265625 6.109375 33.40625 6.109375 \r\nQ 40.53125 6.109375 44.609375 11.75 \r\nQ 48.6875 17.390625 48.6875 27.296875 \r\nz\r\n\" id=\"DejaVuSans-112\"/>\r\n      <path d=\"M 30.609375 48.390625 \r\nQ 23.390625 48.390625 19.1875 42.75 \r\nQ 14.984375 37.109375 14.984375 27.296875 \r\nQ 14.984375 17.484375 19.15625 11.84375 \r\nQ 23.34375 6.203125 30.609375 6.203125 \r\nQ 37.796875 6.203125 41.984375 11.859375 \r\nQ 46.1875 17.53125 46.1875 27.296875 \r\nQ 46.1875 37.015625 41.984375 42.703125 \r\nQ 37.796875 48.390625 30.609375 48.390625 \r\nz\r\nM 30.609375 56 \r\nQ 42.328125 56 49.015625 48.375 \r\nQ 55.71875 40.765625 55.71875 27.296875 \r\nQ 55.71875 13.875 49.015625 6.21875 \r\nQ 42.328125 -1.421875 30.609375 -1.421875 \r\nQ 18.84375 -1.421875 12.171875 6.21875 \r\nQ 5.515625 13.875 5.515625 27.296875 \r\nQ 5.515625 40.765625 12.171875 48.375 \r\nQ 18.84375 56 30.609375 56 \r\nz\r\n\" id=\"DejaVuSans-111\"/>\r\n      <path d=\"M 8.5 21.578125 \r\nL 8.5 54.6875 \r\nL 17.484375 54.6875 \r\nL 17.484375 21.921875 \r\nQ 17.484375 14.15625 20.5 10.265625 \r\nQ 23.53125 6.390625 29.59375 6.390625 \r\nQ 36.859375 6.390625 41.078125 11.03125 \r\nQ 45.3125 15.671875 45.3125 23.6875 \r\nL 45.3125 54.6875 \r\nL 54.296875 54.6875 \r\nL 54.296875 0 \r\nL 45.3125 0 \r\nL 45.3125 8.40625 \r\nQ 42.046875 3.421875 37.71875 1 \r\nQ 33.40625 -1.421875 27.6875 -1.421875 \r\nQ 18.265625 -1.421875 13.375 4.4375 \r\nQ 8.5 10.296875 8.5 21.578125 \r\nz\r\nM 31.109375 56 \r\nz\r\n\" id=\"DejaVuSans-117\"/>\r\n      <path d=\"M 9.421875 75.984375 \r\nL 18.40625 75.984375 \r\nL 18.40625 0 \r\nL 9.421875 0 \r\nz\r\n\" id=\"DejaVuSans-108\"/>\r\n      <path d=\"M 34.28125 27.484375 \r\nQ 23.390625 27.484375 19.1875 25 \r\nQ 14.984375 22.515625 14.984375 16.5 \r\nQ 14.984375 11.71875 18.140625 8.90625 \r\nQ 21.296875 6.109375 26.703125 6.109375 \r\nQ 34.1875 6.109375 38.703125 11.40625 \r\nQ 43.21875 16.703125 43.21875 25.484375 \r\nL 43.21875 27.484375 \r\nz\r\nM 52.203125 31.203125 \r\nL 52.203125 0 \r\nL 43.21875 0 \r\nL 43.21875 8.296875 \r\nQ 40.140625 3.328125 35.546875 0.953125 \r\nQ 30.953125 -1.421875 24.3125 -1.421875 \r\nQ 15.921875 -1.421875 10.953125 3.296875 \r\nQ 6 8.015625 6 15.921875 \r\nQ 6 25.140625 12.171875 29.828125 \r\nQ 18.359375 34.515625 30.609375 34.515625 \r\nL 43.21875 34.515625 \r\nL 43.21875 35.40625 \r\nQ 43.21875 41.609375 39.140625 45 \r\nQ 35.0625 48.390625 27.6875 48.390625 \r\nQ 23 48.390625 18.546875 47.265625 \r\nQ 14.109375 46.140625 10.015625 43.890625 \r\nL 10.015625 52.203125 \r\nQ 14.9375 54.109375 19.578125 55.046875 \r\nQ 24.21875 56 28.609375 56 \r\nQ 40.484375 56 46.34375 49.84375 \r\nQ 52.203125 43.703125 52.203125 31.203125 \r\nz\r\n\" id=\"DejaVuSans-97\"/>\r\n      <path d=\"M 18.3125 70.21875 \r\nL 18.3125 54.6875 \r\nL 36.8125 54.6875 \r\nL 36.8125 47.703125 \r\nL 18.3125 47.703125 \r\nL 18.3125 18.015625 \r\nQ 18.3125 11.328125 20.140625 9.421875 \r\nQ 21.96875 7.515625 27.59375 7.515625 \r\nL 36.8125 7.515625 \r\nL 36.8125 0 \r\nL 27.59375 0 \r\nQ 17.1875 0 13.234375 3.875 \r\nQ 9.28125 7.765625 9.28125 18.015625 \r\nL 9.28125 47.703125 \r\nL 2.6875 47.703125 \r\nL 2.6875 54.6875 \r\nL 9.28125 54.6875 \r\nL 9.28125 70.21875 \r\nz\r\n\" id=\"DejaVuSans-116\"/>\r\n      <path d=\"M 9.421875 54.6875 \r\nL 18.40625 54.6875 \r\nL 18.40625 0 \r\nL 9.421875 0 \r\nz\r\nM 9.421875 75.984375 \r\nL 18.40625 75.984375 \r\nL 18.40625 64.59375 \r\nL 9.421875 64.59375 \r\nz\r\n\" id=\"DejaVuSans-105\"/>\r\n      <path d=\"M 54.890625 33.015625 \r\nL 54.890625 0 \r\nL 45.90625 0 \r\nL 45.90625 32.71875 \r\nQ 45.90625 40.484375 42.875 44.328125 \r\nQ 39.84375 48.1875 33.796875 48.1875 \r\nQ 26.515625 48.1875 22.3125 43.546875 \r\nQ 18.109375 38.921875 18.109375 30.90625 \r\nL 18.109375 0 \r\nL 9.078125 0 \r\nL 9.078125 54.6875 \r\nL 18.109375 54.6875 \r\nL 18.109375 46.1875 \r\nQ 21.34375 51.125 25.703125 53.5625 \r\nQ 30.078125 56 35.796875 56 \r\nQ 45.21875 56 50.046875 50.171875 \r\nQ 54.890625 44.34375 54.890625 33.015625 \r\nz\r\n\" id=\"DejaVuSans-110\"/>\r\n     </defs>\r\n     <g transform=\"translate(299.636719 579.076563)scale(0.1 -0.1)\">\r\n      <use xlink:href=\"#DejaVuSans-112\"/>\r\n      <use x=\"63.476562\" xlink:href=\"#DejaVuSans-111\"/>\r\n      <use x=\"124.658203\" xlink:href=\"#DejaVuSans-112\"/>\r\n      <use x=\"188.134766\" xlink:href=\"#DejaVuSans-117\"/>\r\n      <use x=\"251.513672\" xlink:href=\"#DejaVuSans-108\"/>\r\n      <use x=\"279.296875\" xlink:href=\"#DejaVuSans-97\"/>\r\n      <use x=\"340.576172\" xlink:href=\"#DejaVuSans-116\"/>\r\n      <use x=\"379.785156\" xlink:href=\"#DejaVuSans-105\"/>\r\n      <use x=\"407.568359\" xlink:href=\"#DejaVuSans-111\"/>\r\n      <use x=\"468.75\" xlink:href=\"#DejaVuSans-110\"/>\r\n     </g>\r\n    </g>\r\n   </g>\r\n   <g id=\"matplotlib.axis_2\">\r\n    <g id=\"ytick_1\">\r\n     <g id=\"line2d_8\">\r\n      <defs>\r\n       <path d=\"M 0 0 \r\nL -3.5 0 \r\n\" id=\"m91c943e85f\" style=\"stroke:#000000;stroke-width:0.8;\"/>\r\n      </defs>\r\n      <g>\r\n       <use style=\"stroke:#000000;stroke-width:0.8;\" x=\"47.24375\" xlink:href=\"#m91c943e85f\" y=\"526.090909\"/>\r\n      </g>\r\n     </g>\r\n     <g id=\"text_9\">\r\n      <!-- 0 -->\r\n      <g transform=\"translate(33.88125 529.890128)scale(0.1 -0.1)\">\r\n       <use xlink:href=\"#DejaVuSans-48\"/>\r\n      </g>\r\n     </g>\r\n    </g>\r\n    <g id=\"ytick_2\">\r\n     <g id=\"line2d_9\">\r\n      <g>\r\n       <use style=\"stroke:#000000;stroke-width:0.8;\" x=\"47.24375\" xlink:href=\"#m91c943e85f\" y=\"438.625101\"/>\r\n      </g>\r\n     </g>\r\n     <g id=\"text_10\">\r\n      <!-- 20 -->\r\n      <g transform=\"translate(27.51875 442.424319)scale(0.1 -0.1)\">\r\n       <use xlink:href=\"#DejaVuSans-50\"/>\r\n       <use x=\"63.623047\" xlink:href=\"#DejaVuSans-48\"/>\r\n      </g>\r\n     </g>\r\n    </g>\r\n    <g id=\"ytick_3\">\r\n     <g id=\"line2d_10\">\r\n      <g>\r\n       <use style=\"stroke:#000000;stroke-width:0.8;\" x=\"47.24375\" xlink:href=\"#m91c943e85f\" y=\"351.159292\"/>\r\n      </g>\r\n     </g>\r\n     <g id=\"text_11\">\r\n      <!-- 40 -->\r\n      <defs>\r\n       <path d=\"M 37.796875 64.3125 \r\nL 12.890625 25.390625 \r\nL 37.796875 25.390625 \r\nz\r\nM 35.203125 72.90625 \r\nL 47.609375 72.90625 \r\nL 47.609375 25.390625 \r\nL 58.015625 25.390625 \r\nL 58.015625 17.1875 \r\nL 47.609375 17.1875 \r\nL 47.609375 0 \r\nL 37.796875 0 \r\nL 37.796875 17.1875 \r\nL 4.890625 17.1875 \r\nL 4.890625 26.703125 \r\nz\r\n\" id=\"DejaVuSans-52\"/>\r\n      </defs>\r\n      <g transform=\"translate(27.51875 354.958511)scale(0.1 -0.1)\">\r\n       <use xlink:href=\"#DejaVuSans-52\"/>\r\n       <use x=\"63.623047\" xlink:href=\"#DejaVuSans-48\"/>\r\n      </g>\r\n     </g>\r\n    </g>\r\n    <g id=\"ytick_4\">\r\n     <g id=\"line2d_11\">\r\n      <g>\r\n       <use style=\"stroke:#000000;stroke-width:0.8;\" x=\"47.24375\" xlink:href=\"#m91c943e85f\" y=\"263.693484\"/>\r\n      </g>\r\n     </g>\r\n     <g id=\"text_12\">\r\n      <!-- 60 -->\r\n      <defs>\r\n       <path d=\"M 33.015625 40.375 \r\nQ 26.375 40.375 22.484375 35.828125 \r\nQ 18.609375 31.296875 18.609375 23.390625 \r\nQ 18.609375 15.53125 22.484375 10.953125 \r\nQ 26.375 6.390625 33.015625 6.390625 \r\nQ 39.65625 6.390625 43.53125 10.953125 \r\nQ 47.40625 15.53125 47.40625 23.390625 \r\nQ 47.40625 31.296875 43.53125 35.828125 \r\nQ 39.65625 40.375 33.015625 40.375 \r\nz\r\nM 52.59375 71.296875 \r\nL 52.59375 62.3125 \r\nQ 48.875 64.0625 45.09375 64.984375 \r\nQ 41.3125 65.921875 37.59375 65.921875 \r\nQ 27.828125 65.921875 22.671875 59.328125 \r\nQ 17.53125 52.734375 16.796875 39.40625 \r\nQ 19.671875 43.65625 24.015625 45.921875 \r\nQ 28.375 48.1875 33.59375 48.1875 \r\nQ 44.578125 48.1875 50.953125 41.515625 \r\nQ 57.328125 34.859375 57.328125 23.390625 \r\nQ 57.328125 12.15625 50.6875 5.359375 \r\nQ 44.046875 -1.421875 33.015625 -1.421875 \r\nQ 20.359375 -1.421875 13.671875 8.265625 \r\nQ 6.984375 17.96875 6.984375 36.375 \r\nQ 6.984375 53.65625 15.1875 63.9375 \r\nQ 23.390625 74.21875 37.203125 74.21875 \r\nQ 40.921875 74.21875 44.703125 73.484375 \r\nQ 48.484375 72.75 52.59375 71.296875 \r\nz\r\n\" id=\"DejaVuSans-54\"/>\r\n      </defs>\r\n      <g transform=\"translate(27.51875 267.492702)scale(0.1 -0.1)\">\r\n       <use xlink:href=\"#DejaVuSans-54\"/>\r\n       <use x=\"63.623047\" xlink:href=\"#DejaVuSans-48\"/>\r\n      </g>\r\n     </g>\r\n    </g>\r\n    <g id=\"ytick_5\">\r\n     <g id=\"line2d_12\">\r\n      <g>\r\n       <use style=\"stroke:#000000;stroke-width:0.8;\" x=\"47.24375\" xlink:href=\"#m91c943e85f\" y=\"176.227675\"/>\r\n      </g>\r\n     </g>\r\n     <g id=\"text_13\">\r\n      <!-- 80 -->\r\n      <defs>\r\n       <path d=\"M 31.78125 34.625 \r\nQ 24.75 34.625 20.71875 30.859375 \r\nQ 16.703125 27.09375 16.703125 20.515625 \r\nQ 16.703125 13.921875 20.71875 10.15625 \r\nQ 24.75 6.390625 31.78125 6.390625 \r\nQ 38.8125 6.390625 42.859375 10.171875 \r\nQ 46.921875 13.96875 46.921875 20.515625 \r\nQ 46.921875 27.09375 42.890625 30.859375 \r\nQ 38.875 34.625 31.78125 34.625 \r\nz\r\nM 21.921875 38.8125 \r\nQ 15.578125 40.375 12.03125 44.71875 \r\nQ 8.5 49.078125 8.5 55.328125 \r\nQ 8.5 64.0625 14.71875 69.140625 \r\nQ 20.953125 74.21875 31.78125 74.21875 \r\nQ 42.671875 74.21875 48.875 69.140625 \r\nQ 55.078125 64.0625 55.078125 55.328125 \r\nQ 55.078125 49.078125 51.53125 44.71875 \r\nQ 48 40.375 41.703125 38.8125 \r\nQ 48.828125 37.15625 52.796875 32.3125 \r\nQ 56.78125 27.484375 56.78125 20.515625 \r\nQ 56.78125 9.90625 50.3125 4.234375 \r\nQ 43.84375 -1.421875 31.78125 -1.421875 \r\nQ 19.734375 -1.421875 13.25 4.234375 \r\nQ 6.78125 9.90625 6.78125 20.515625 \r\nQ 6.78125 27.484375 10.78125 32.3125 \r\nQ 14.796875 37.15625 21.921875 38.8125 \r\nz\r\nM 18.3125 54.390625 \r\nQ 18.3125 48.734375 21.84375 45.5625 \r\nQ 25.390625 42.390625 31.78125 42.390625 \r\nQ 38.140625 42.390625 41.71875 45.5625 \r\nQ 45.3125 48.734375 45.3125 54.390625 \r\nQ 45.3125 60.0625 41.71875 63.234375 \r\nQ 38.140625 66.40625 31.78125 66.40625 \r\nQ 25.390625 66.40625 21.84375 63.234375 \r\nQ 18.3125 60.0625 18.3125 54.390625 \r\nz\r\n\" id=\"DejaVuSans-56\"/>\r\n      </defs>\r\n      <g transform=\"translate(27.51875 180.026894)scale(0.1 -0.1)\">\r\n       <use xlink:href=\"#DejaVuSans-56\"/>\r\n       <use x=\"63.623047\" xlink:href=\"#DejaVuSans-48\"/>\r\n      </g>\r\n     </g>\r\n    </g>\r\n    <g id=\"ytick_6\">\r\n     <g id=\"line2d_13\">\r\n      <g>\r\n       <use style=\"stroke:#000000;stroke-width:0.8;\" x=\"47.24375\" xlink:href=\"#m91c943e85f\" y=\"88.761866\"/>\r\n      </g>\r\n     </g>\r\n     <g id=\"text_14\">\r\n      <!-- 100 -->\r\n      <g transform=\"translate(21.15625 92.561085)scale(0.1 -0.1)\">\r\n       <use xlink:href=\"#DejaVuSans-49\"/>\r\n       <use x=\"63.623047\" xlink:href=\"#DejaVuSans-48\"/>\r\n       <use x=\"127.246094\" xlink:href=\"#DejaVuSans-48\"/>\r\n      </g>\r\n     </g>\r\n    </g>\r\n    <g id=\"text_15\">\r\n     <!-- total_patient -->\r\n     <defs>\r\n      <path d=\"M 50.984375 -16.609375 \r\nL 50.984375 -23.578125 \r\nL -0.984375 -23.578125 \r\nL -0.984375 -16.609375 \r\nz\r\n\" id=\"DejaVuSans-95\"/>\r\n      <path d=\"M 56.203125 29.59375 \r\nL 56.203125 25.203125 \r\nL 14.890625 25.203125 \r\nQ 15.484375 15.921875 20.484375 11.0625 \r\nQ 25.484375 6.203125 34.421875 6.203125 \r\nQ 39.59375 6.203125 44.453125 7.46875 \r\nQ 49.3125 8.734375 54.109375 11.28125 \r\nL 54.109375 2.78125 \r\nQ 49.265625 0.734375 44.1875 -0.34375 \r\nQ 39.109375 -1.421875 33.890625 -1.421875 \r\nQ 20.796875 -1.421875 13.15625 6.1875 \r\nQ 5.515625 13.8125 5.515625 26.8125 \r\nQ 5.515625 40.234375 12.765625 48.109375 \r\nQ 20.015625 56 32.328125 56 \r\nQ 43.359375 56 49.78125 48.890625 \r\nQ 56.203125 41.796875 56.203125 29.59375 \r\nz\r\nM 47.21875 32.234375 \r\nQ 47.125 39.59375 43.09375 43.984375 \r\nQ 39.0625 48.390625 32.421875 48.390625 \r\nQ 24.90625 48.390625 20.390625 44.140625 \r\nQ 15.875 39.890625 15.1875 32.171875 \r\nz\r\n\" id=\"DejaVuSans-101\"/>\r\n     </defs>\r\n     <g transform=\"translate(14.798438 310.725781)rotate(-90)scale(0.1 -0.1)\">\r\n      <use xlink:href=\"#DejaVuSans-116\"/>\r\n      <use x=\"39.208984\" xlink:href=\"#DejaVuSans-111\"/>\r\n      <use x=\"100.390625\" xlink:href=\"#DejaVuSans-116\"/>\r\n      <use x=\"139.599609\" xlink:href=\"#DejaVuSans-97\"/>\r\n      <use x=\"200.878906\" xlink:href=\"#DejaVuSans-108\"/>\r\n      <use x=\"228.662109\" xlink:href=\"#DejaVuSans-95\"/>\r\n      <use x=\"278.662109\" xlink:href=\"#DejaVuSans-112\"/>\r\n      <use x=\"342.138672\" xlink:href=\"#DejaVuSans-97\"/>\r\n      <use x=\"403.417969\" xlink:href=\"#DejaVuSans-116\"/>\r\n      <use x=\"442.626953\" xlink:href=\"#DejaVuSans-105\"/>\r\n      <use x=\"470.410156\" xlink:href=\"#DejaVuSans-101\"/>\r\n      <use x=\"531.933594\" xlink:href=\"#DejaVuSans-110\"/>\r\n      <use x=\"595.3125\" xlink:href=\"#DejaVuSans-116\"/>\r\n     </g>\r\n    </g>\r\n   </g>\r\n   <g id=\"patch_3\">\r\n    <path d=\"M 47.24375 550.8 \r\nL 47.24375 7.2 \r\n\" style=\"fill:none;stroke:#000000;stroke-linecap:square;stroke-linejoin:miter;stroke-width:0.8;\"/>\r\n   </g>\r\n   <g id=\"patch_4\">\r\n    <path d=\"M 605.24375 550.8 \r\nL 605.24375 7.2 \r\n\" style=\"fill:none;stroke:#000000;stroke-linecap:square;stroke-linejoin:miter;stroke-width:0.8;\"/>\r\n   </g>\r\n   <g id=\"patch_5\">\r\n    <path d=\"M 47.24375 550.8 \r\nL 605.24375 550.8 \r\n\" style=\"fill:none;stroke:#000000;stroke-linecap:square;stroke-linejoin:miter;stroke-width:0.8;\"/>\r\n   </g>\r\n   <g id=\"patch_6\">\r\n    <path d=\"M 47.24375 7.2 \r\nL 605.24375 7.2 \r\n\" style=\"fill:none;stroke:#000000;stroke-linecap:square;stroke-linejoin:miter;stroke-width:0.8;\"/>\r\n   </g>\r\n   <g id=\"legend_1\">\r\n    <g id=\"patch_7\">\r\n     <path d=\"M 525.139063 88.590625 \r\nL 598.24375 88.590625 \r\nQ 600.24375 88.590625 600.24375 86.590625 \r\nL 600.24375 14.2 \r\nQ 600.24375 12.2 598.24375 12.2 \r\nL 525.139063 12.2 \r\nQ 523.139063 12.2 523.139063 14.2 \r\nL 523.139063 86.590625 \r\nQ 523.139063 88.590625 525.139063 88.590625 \r\nz\r\n\" style=\"fill:#ffffff;opacity:0.8;stroke:#cccccc;stroke-linejoin:miter;\"/>\r\n    </g>\r\n    <g id=\"PathCollection_7\">\r\n     <defs>\r\n      <path id=\"m0aaeb4a9d5\" style=\"stroke:#ffffff;stroke-width:1.5;\"/>\r\n     </defs>\r\n     <g>\r\n      <use style=\"fill:#ffffff;stroke:#ffffff;stroke-width:1.5;\" x=\"537.139063\" xlink:href=\"#m0aaeb4a9d5\" y=\"21.173438\"/>\r\n     </g>\r\n    </g>\r\n    <g id=\"text_16\">\r\n     <!-- age -->\r\n     <defs>\r\n      <path d=\"M 45.40625 27.984375 \r\nQ 45.40625 37.75 41.375 43.109375 \r\nQ 37.359375 48.484375 30.078125 48.484375 \r\nQ 22.859375 48.484375 18.828125 43.109375 \r\nQ 14.796875 37.75 14.796875 27.984375 \r\nQ 14.796875 18.265625 18.828125 12.890625 \r\nQ 22.859375 7.515625 30.078125 7.515625 \r\nQ 37.359375 7.515625 41.375 12.890625 \r\nQ 45.40625 18.265625 45.40625 27.984375 \r\nz\r\nM 54.390625 6.78125 \r\nQ 54.390625 -7.171875 48.1875 -13.984375 \r\nQ 42 -20.796875 29.203125 -20.796875 \r\nQ 24.46875 -20.796875 20.265625 -20.09375 \r\nQ 16.0625 -19.390625 12.109375 -17.921875 \r\nL 12.109375 -9.1875 \r\nQ 16.0625 -11.328125 19.921875 -12.34375 \r\nQ 23.78125 -13.375 27.78125 -13.375 \r\nQ 36.625 -13.375 41.015625 -8.765625 \r\nQ 45.40625 -4.15625 45.40625 5.171875 \r\nL 45.40625 9.625 \r\nQ 42.625 4.78125 38.28125 2.390625 \r\nQ 33.9375 0 27.875 0 \r\nQ 17.828125 0 11.671875 7.65625 \r\nQ 5.515625 15.328125 5.515625 27.984375 \r\nQ 5.515625 40.671875 11.671875 48.328125 \r\nQ 17.828125 56 27.875 56 \r\nQ 33.9375 56 38.28125 53.609375 \r\nQ 42.625 51.21875 45.40625 46.390625 \r\nL 45.40625 54.6875 \r\nL 54.390625 54.6875 \r\nz\r\n\" id=\"DejaVuSans-103\"/>\r\n     </defs>\r\n     <g transform=\"translate(555.139063 23.798438)scale(0.1 -0.1)\">\r\n      <use xlink:href=\"#DejaVuSans-97\"/>\r\n      <use x=\"61.279297\" xlink:href=\"#DejaVuSans-103\"/>\r\n      <use x=\"124.755859\" xlink:href=\"#DejaVuSans-101\"/>\r\n     </g>\r\n    </g>\r\n    <g id=\"PathCollection_8\">\r\n     <defs>\r\n      <path d=\"M 0 3 \r\nC 0.795609 3 1.55874 2.683901 2.12132 2.12132 \r\nC 2.683901 1.55874 3 0.795609 3 0 \r\nC 3 -0.795609 2.683901 -1.55874 2.12132 -2.12132 \r\nC 1.55874 -2.683901 0.795609 -3 0 -3 \r\nC -0.795609 -3 -1.55874 -2.683901 -2.12132 -2.12132 \r\nC -2.683901 -1.55874 -3 -0.795609 -3 0 \r\nC -3 0.795609 -2.683901 1.55874 -2.12132 2.12132 \r\nC -1.55874 2.683901 -0.795609 3 0 3 \r\nz\r\n\" id=\"mf8f15e55f2\" style=\"stroke:#1f77b4;\"/>\r\n     </defs>\r\n     <g>\r\n      <use style=\"fill:#1f77b4;stroke:#1f77b4;\" x=\"537.139063\" xlink:href=\"#mf8f15e55f2\" y=\"35.851563\"/>\r\n     </g>\r\n    </g>\r\n    <g id=\"text_17\">\r\n     <!-- mid-age -->\r\n     <defs>\r\n      <path d=\"M 52 44.1875 \r\nQ 55.375 50.25 60.0625 53.125 \r\nQ 64.75 56 71.09375 56 \r\nQ 79.640625 56 84.28125 50.015625 \r\nQ 88.921875 44.046875 88.921875 33.015625 \r\nL 88.921875 0 \r\nL 79.890625 0 \r\nL 79.890625 32.71875 \r\nQ 79.890625 40.578125 77.09375 44.375 \r\nQ 74.3125 48.1875 68.609375 48.1875 \r\nQ 61.625 48.1875 57.5625 43.546875 \r\nQ 53.515625 38.921875 53.515625 30.90625 \r\nL 53.515625 0 \r\nL 44.484375 0 \r\nL 44.484375 32.71875 \r\nQ 44.484375 40.625 41.703125 44.40625 \r\nQ 38.921875 48.1875 33.109375 48.1875 \r\nQ 26.21875 48.1875 22.15625 43.53125 \r\nQ 18.109375 38.875 18.109375 30.90625 \r\nL 18.109375 0 \r\nL 9.078125 0 \r\nL 9.078125 54.6875 \r\nL 18.109375 54.6875 \r\nL 18.109375 46.1875 \r\nQ 21.1875 51.21875 25.484375 53.609375 \r\nQ 29.78125 56 35.6875 56 \r\nQ 41.65625 56 45.828125 52.96875 \r\nQ 50 49.953125 52 44.1875 \r\nz\r\n\" id=\"DejaVuSans-109\"/>\r\n      <path d=\"M 45.40625 46.390625 \r\nL 45.40625 75.984375 \r\nL 54.390625 75.984375 \r\nL 54.390625 0 \r\nL 45.40625 0 \r\nL 45.40625 8.203125 \r\nQ 42.578125 3.328125 38.25 0.953125 \r\nQ 33.9375 -1.421875 27.875 -1.421875 \r\nQ 17.96875 -1.421875 11.734375 6.484375 \r\nQ 5.515625 14.40625 5.515625 27.296875 \r\nQ 5.515625 40.1875 11.734375 48.09375 \r\nQ 17.96875 56 27.875 56 \r\nQ 33.9375 56 38.25 53.625 \r\nQ 42.578125 51.265625 45.40625 46.390625 \r\nz\r\nM 14.796875 27.296875 \r\nQ 14.796875 17.390625 18.875 11.75 \r\nQ 22.953125 6.109375 30.078125 6.109375 \r\nQ 37.203125 6.109375 41.296875 11.75 \r\nQ 45.40625 17.390625 45.40625 27.296875 \r\nQ 45.40625 37.203125 41.296875 42.84375 \r\nQ 37.203125 48.484375 30.078125 48.484375 \r\nQ 22.953125 48.484375 18.875 42.84375 \r\nQ 14.796875 37.203125 14.796875 27.296875 \r\nz\r\n\" id=\"DejaVuSans-100\"/>\r\n      <path d=\"M 4.890625 31.390625 \r\nL 31.203125 31.390625 \r\nL 31.203125 23.390625 \r\nL 4.890625 23.390625 \r\nz\r\n\" id=\"DejaVuSans-45\"/>\r\n     </defs>\r\n     <g transform=\"translate(555.139063 38.476563)scale(0.1 -0.1)\">\r\n      <use xlink:href=\"#DejaVuSans-109\"/>\r\n      <use x=\"97.412109\" xlink:href=\"#DejaVuSans-105\"/>\r\n      <use x=\"125.195312\" xlink:href=\"#DejaVuSans-100\"/>\r\n      <use x=\"188.671875\" xlink:href=\"#DejaVuSans-45\"/>\r\n      <use x=\"224.755859\" xlink:href=\"#DejaVuSans-97\"/>\r\n      <use x=\"286.035156\" xlink:href=\"#DejaVuSans-103\"/>\r\n      <use x=\"349.511719\" xlink:href=\"#DejaVuSans-101\"/>\r\n     </g>\r\n    </g>\r\n    <g id=\"PathCollection_9\">\r\n     <defs>\r\n      <path d=\"M 0 3 \r\nC 0.795609 3 1.55874 2.683901 2.12132 2.12132 \r\nC 2.683901 1.55874 3 0.795609 3 0 \r\nC 3 -0.795609 2.683901 -1.55874 2.12132 -2.12132 \r\nC 1.55874 -2.683901 0.795609 -3 0 -3 \r\nC -0.795609 -3 -1.55874 -2.683901 -2.12132 -2.12132 \r\nC -2.683901 -1.55874 -3 -0.795609 -3 0 \r\nC -3 0.795609 -2.683901 1.55874 -2.12132 2.12132 \r\nC -1.55874 2.683901 -0.795609 3 0 3 \r\nz\r\n\" id=\"mf90058cac4\" style=\"stroke:#ff7f0e;\"/>\r\n     </defs>\r\n     <g>\r\n      <use style=\"fill:#ff7f0e;stroke:#ff7f0e;\" x=\"537.139063\" xlink:href=\"#mf90058cac4\" y=\"50.529688\"/>\r\n     </g>\r\n    </g>\r\n    <g id=\"text_18\">\r\n     <!-- adult -->\r\n     <g transform=\"translate(555.139063 53.154688)scale(0.1 -0.1)\">\r\n      <use xlink:href=\"#DejaVuSans-97\"/>\r\n      <use x=\"61.279297\" xlink:href=\"#DejaVuSans-100\"/>\r\n      <use x=\"124.755859\" xlink:href=\"#DejaVuSans-117\"/>\r\n      <use x=\"188.134766\" xlink:href=\"#DejaVuSans-108\"/>\r\n      <use x=\"215.917969\" xlink:href=\"#DejaVuSans-116\"/>\r\n     </g>\r\n    </g>\r\n    <g id=\"PathCollection_10\">\r\n     <defs>\r\n      <path d=\"M 0 3 \r\nC 0.795609 3 1.55874 2.683901 2.12132 2.12132 \r\nC 2.683901 1.55874 3 0.795609 3 0 \r\nC 3 -0.795609 2.683901 -1.55874 2.12132 -2.12132 \r\nC 1.55874 -2.683901 0.795609 -3 0 -3 \r\nC -0.795609 -3 -1.55874 -2.683901 -2.12132 -2.12132 \r\nC -2.683901 -1.55874 -3 -0.795609 -3 0 \r\nC -3 0.795609 -2.683901 1.55874 -2.12132 2.12132 \r\nC -1.55874 2.683901 -0.795609 3 0 3 \r\nz\r\n\" id=\"mc35174e187\" style=\"stroke:#2ca02c;\"/>\r\n     </defs>\r\n     <g>\r\n      <use style=\"fill:#2ca02c;stroke:#2ca02c;\" x=\"537.139063\" xlink:href=\"#mc35174e187\" y=\"65.207813\"/>\r\n     </g>\r\n    </g>\r\n    <g id=\"text_19\">\r\n     <!-- senior+ -->\r\n     <defs>\r\n      <path d=\"M 44.28125 53.078125 \r\nL 44.28125 44.578125 \r\nQ 40.484375 46.53125 36.375 47.5 \r\nQ 32.28125 48.484375 27.875 48.484375 \r\nQ 21.1875 48.484375 17.84375 46.4375 \r\nQ 14.5 44.390625 14.5 40.28125 \r\nQ 14.5 37.15625 16.890625 35.375 \r\nQ 19.28125 33.59375 26.515625 31.984375 \r\nL 29.59375 31.296875 \r\nQ 39.15625 29.25 43.1875 25.515625 \r\nQ 47.21875 21.78125 47.21875 15.09375 \r\nQ 47.21875 7.46875 41.1875 3.015625 \r\nQ 35.15625 -1.421875 24.609375 -1.421875 \r\nQ 20.21875 -1.421875 15.453125 -0.5625 \r\nQ 10.6875 0.296875 5.421875 2 \r\nL 5.421875 11.28125 \r\nQ 10.40625 8.6875 15.234375 7.390625 \r\nQ 20.0625 6.109375 24.8125 6.109375 \r\nQ 31.15625 6.109375 34.5625 8.28125 \r\nQ 37.984375 10.453125 37.984375 14.40625 \r\nQ 37.984375 18.0625 35.515625 20.015625 \r\nQ 33.0625 21.96875 24.703125 23.78125 \r\nL 21.578125 24.515625 \r\nQ 13.234375 26.265625 9.515625 29.90625 \r\nQ 5.8125 33.546875 5.8125 39.890625 \r\nQ 5.8125 47.609375 11.28125 51.796875 \r\nQ 16.75 56 26.8125 56 \r\nQ 31.78125 56 36.171875 55.265625 \r\nQ 40.578125 54.546875 44.28125 53.078125 \r\nz\r\n\" id=\"DejaVuSans-115\"/>\r\n      <path d=\"M 41.109375 46.296875 \r\nQ 39.59375 47.171875 37.8125 47.578125 \r\nQ 36.03125 48 33.890625 48 \r\nQ 26.265625 48 22.1875 43.046875 \r\nQ 18.109375 38.09375 18.109375 28.8125 \r\nL 18.109375 0 \r\nL 9.078125 0 \r\nL 9.078125 54.6875 \r\nL 18.109375 54.6875 \r\nL 18.109375 46.1875 \r\nQ 20.953125 51.171875 25.484375 53.578125 \r\nQ 30.03125 56 36.53125 56 \r\nQ 37.453125 56 38.578125 55.875 \r\nQ 39.703125 55.765625 41.0625 55.515625 \r\nz\r\n\" id=\"DejaVuSans-114\"/>\r\n      <path d=\"M 46 62.703125 \r\nL 46 35.5 \r\nL 73.1875 35.5 \r\nL 73.1875 27.203125 \r\nL 46 27.203125 \r\nL 46 0 \r\nL 37.796875 0 \r\nL 37.796875 27.203125 \r\nL 10.59375 27.203125 \r\nL 10.59375 35.5 \r\nL 37.796875 35.5 \r\nL 37.796875 62.703125 \r\nz\r\n\" id=\"DejaVuSans-43\"/>\r\n     </defs>\r\n     <g transform=\"translate(555.139063 67.832813)scale(0.1 -0.1)\">\r\n      <use xlink:href=\"#DejaVuSans-115\"/>\r\n      <use x=\"52.099609\" xlink:href=\"#DejaVuSans-101\"/>\r\n      <use x=\"113.623047\" xlink:href=\"#DejaVuSans-110\"/>\r\n      <use x=\"177.001953\" xlink:href=\"#DejaVuSans-105\"/>\r\n      <use x=\"204.785156\" xlink:href=\"#DejaVuSans-111\"/>\r\n      <use x=\"265.966797\" xlink:href=\"#DejaVuSans-114\"/>\r\n      <use x=\"307.080078\" xlink:href=\"#DejaVuSans-43\"/>\r\n     </g>\r\n    </g>\r\n    <g id=\"PathCollection_11\">\r\n     <defs>\r\n      <path d=\"M 0 3 \r\nC 0.795609 3 1.55874 2.683901 2.12132 2.12132 \r\nC 2.683901 1.55874 3 0.795609 3 0 \r\nC 3 -0.795609 2.683901 -1.55874 2.12132 -2.12132 \r\nC 1.55874 -2.683901 0.795609 -3 0 -3 \r\nC -0.795609 -3 -1.55874 -2.683901 -2.12132 -2.12132 \r\nC -2.683901 -1.55874 -3 -0.795609 -3 0 \r\nC -3 0.795609 -2.683901 1.55874 -2.12132 2.12132 \r\nC -1.55874 2.683901 -0.795609 3 0 3 \r\nz\r\n\" id=\"m180e3c1a74\" style=\"stroke:#d62728;\"/>\r\n     </defs>\r\n     <g>\r\n      <use style=\"fill:#d62728;stroke:#d62728;\" x=\"537.139063\" xlink:href=\"#m180e3c1a74\" y=\"79.885938\"/>\r\n     </g>\r\n    </g>\r\n    <g id=\"text_20\">\r\n     <!-- young -->\r\n     <defs>\r\n      <path d=\"M 32.171875 -5.078125 \r\nQ 28.375 -14.84375 24.75 -17.8125 \r\nQ 21.140625 -20.796875 15.09375 -20.796875 \r\nL 7.90625 -20.796875 \r\nL 7.90625 -13.28125 \r\nL 13.1875 -13.28125 \r\nQ 16.890625 -13.28125 18.9375 -11.515625 \r\nQ 21 -9.765625 23.484375 -3.21875 \r\nL 25.09375 0.875 \r\nL 2.984375 54.6875 \r\nL 12.5 54.6875 \r\nL 29.59375 11.921875 \r\nL 46.6875 54.6875 \r\nL 56.203125 54.6875 \r\nz\r\n\" id=\"DejaVuSans-121\"/>\r\n     </defs>\r\n     <g transform=\"translate(555.139063 82.510938)scale(0.1 -0.1)\">\r\n      <use xlink:href=\"#DejaVuSans-121\"/>\r\n      <use x=\"59.179688\" xlink:href=\"#DejaVuSans-111\"/>\r\n      <use x=\"120.361328\" xlink:href=\"#DejaVuSans-117\"/>\r\n      <use x=\"183.740234\" xlink:href=\"#DejaVuSans-110\"/>\r\n      <use x=\"247.119141\" xlink:href=\"#DejaVuSans-103\"/>\r\n     </g>\r\n    </g>\r\n   </g>\r\n  </g>\r\n </g>\r\n <defs>\r\n  <clipPath id=\"p463d27b834\">\r\n   <rect height=\"543.6\" width=\"558\" x=\"47.24375\" y=\"7.2\"/>\r\n  </clipPath>\r\n </defs>\r\n</svg>\r\n",
      "image/png": "[encoded data removed]"
     },
     "metadata": {
      "needs_background": "light"
     }
    }
   ],
   "source": [
    "plt.figure(figsize=(10,10))\n",
    "ax = sns.scatterplot(x=\"population\", y=\"total_patient\", hue='age', s=80,\n",
    "                     data=sydney_merged[sydney_merged['Cluster Labels'] == 3])\n",
    "plt.savefig(\"P-P-A_cluster3.png\")"
   ]
  },
  {
   "cell_type": "markdown",
   "metadata": {},
   "source": [
    "#By visually checking the scatter plot, I found out that the distribution of COVID-19 patients in cluster 3 is characterized by various suburbs and low frequencies. Moreover, the graph suggest that the number of patients in suburbs seems to be divided by 30 or 40. Therefore, the area where more than 30 patients appear in the suburb is regarded as vital area. "
   ]
  },
  {
   "cell_type": "code",
   "execution_count": 44,
   "metadata": {},
   "outputs": [
    {
     "output_type": "execute_result",
     "data": {
      "text/plain": "          suburb  postcode        lat         lon  total_patient  population  \\\n69   BONDI BEACH      2026 -33.890542  151.274856            113       11659   \n243    GIRRAWEEN      2145 -33.799843  150.947276             42        5577   \n361     LLANDILO      2747 -33.708904  150.756773             50        1640   \n417       MOSMAN      2088 -33.829077  151.244090             41       28470   \n480     PEMULWUY      2145 -33.821944  150.923752             42        5013   \n506  QUEENS PARK      2022 -33.903188  151.247205             37        3065   \n590     TAMARAMA      2026 -33.897439  151.271839            113        1627   \n\n         age  AM  Cluster Labels 1st Most Common Venue 2nd Most Common Venue  \\\n69     adult  29               3                  Café    Italian Restaurant   \n243    adult  29               3            Playground              Car Wash   \n361  mid-age  49               3                  Café           Golf Course   \n417  mid-age  49               3                  Café                Bakery   \n480    adult  29               3                   Gym                  Café   \n506  mid-age  49               3                  Café   Japanese Restaurant   \n590    adult  29               3                  Café    Italian Restaurant   \n\n     3rd Most Common Venue 4th Most Common Venue 5th Most Common Venue  \\\n69   Australian Restaurant                Bakery              Wine Bar   \n243                   Café          Dance Studio   Filipino Restaurant   \n361            Yoga Studio            Food Stand         Event Service   \n417     Italian Restaurant                   Pub         Grocery Store   \n480            Yoga Studio   Egyptian Restaurant         Event Service   \n506            Yoga Studio   Egyptian Restaurant         Event Service   \n590  Australian Restaurant                 Beach        Scenic Lookout   \n\n    6th Most Common Venue 7th Most Common Venue 8th Most Common Venue  \\\n69             Restaurant           Pizza Place        Ice Cream Shop   \n243         Event Service           Event Space    Falafel Restaurant   \n361           Event Space    Falafel Restaurant                  Farm   \n417           Cheese Shop        Clothing Store   Japanese Restaurant   \n480           Event Space    Falafel Restaurant                  Farm   \n506           Event Space    Falafel Restaurant                  Farm   \n590            Restaurant             Beach Bar                Bakery   \n\n    9th Most Common Venue 10th Most Common Venue  \n69                  Trail              Beach Bar  \n243                  Farm         Farmers Market  \n361        Farmers Market   Fast Food Restaurant  \n417              Creperie    Fried Chicken Joint  \n480        Farmers Market   Fast Food Restaurant  \n506        Farmers Market   Fast Food Restaurant  \n590      Tapas Restaurant                    Pub  ",
      "text/html": "<div>\n<style scoped>\n    .dataframe tbody tr th:only-of-type {\n        vertical-align: middle;\n    }\n\n    .dataframe tbody tr th {\n        vertical-align: top;\n    }\n\n    .dataframe thead th {\n        text-align: right;\n    }\n</style>\n<table border=\"1\" class=\"dataframe\">\n  <thead>\n    <tr style=\"text-align: right;\">\n      <th></th>\n      <th>suburb</th>\n      <th>postcode</th>\n      <th>lat</th>\n      <th>lon</th>\n      <th>total_patient</th>\n      <th>population</th>\n      <th>age</th>\n      <th>AM</th>\n      <th>Cluster Labels</th>\n      <th>1st Most Common Venue</th>\n      <th>2nd Most Common Venue</th>\n      <th>3rd Most Common Venue</th>\n      <th>4th Most Common Venue</th>\n      <th>5th Most Common Venue</th>\n      <th>6th Most Common Venue</th>\n      <th>7th Most Common Venue</th>\n      <th>8th Most Common Venue</th>\n      <th>9th Most Common Venue</th>\n      <th>10th Most Common Venue</th>\n    </tr>\n  </thead>\n  <tbody>\n    <tr>\n      <th>69</th>\n      <td>BONDI BEACH</td>\n      <td>2026</td>\n      <td>-33.890542</td>\n      <td>151.274856</td>\n      <td>113</td>\n      <td>11659</td>\n      <td>adult</td>\n      <td>29</td>\n      <td>3</td>\n      <td>Café</td>\n      <td>Italian Restaurant</td>\n      <td>Australian Restaurant</td>\n      <td>Bakery</td>\n      <td>Wine Bar</td>\n      <td>Restaurant</td>\n      <td>Pizza Place</td>\n      <td>Ice Cream Shop</td>\n      <td>Trail</td>\n      <td>Beach Bar</td>\n    </tr>\n    <tr>\n      <th>243</th>\n      <td>GIRRAWEEN</td>\n      <td>2145</td>\n      <td>-33.799843</td>\n      <td>150.947276</td>\n      <td>42</td>\n      <td>5577</td>\n      <td>adult</td>\n      <td>29</td>\n      <td>3</td>\n      <td>Playground</td>\n      <td>Car Wash</td>\n      <td>Café</td>\n      <td>Dance Studio</td>\n      <td>Filipino Restaurant</td>\n      <td>Event Service</td>\n      <td>Event Space</td>\n      <td>Falafel Restaurant</td>\n      <td>Farm</td>\n      <td>Farmers Market</td>\n    </tr>\n    <tr>\n      <th>361</th>\n      <td>LLANDILO</td>\n      <td>2747</td>\n      <td>-33.708904</td>\n      <td>150.756773</td>\n      <td>50</td>\n      <td>1640</td>\n      <td>mid-age</td>\n      <td>49</td>\n      <td>3</td>\n      <td>Café</td>\n      <td>Golf Course</td>\n      <td>Yoga Studio</td>\n      <td>Food Stand</td>\n      <td>Event Service</td>\n      <td>Event Space</td>\n      <td>Falafel Restaurant</td>\n      <td>Farm</td>\n      <td>Farmers Market</td>\n      <td>Fast Food Restaurant</td>\n    </tr>\n    <tr>\n      <th>417</th>\n      <td>MOSMAN</td>\n      <td>2088</td>\n      <td>-33.829077</td>\n      <td>151.244090</td>\n      <td>41</td>\n      <td>28470</td>\n      <td>mid-age</td>\n      <td>49</td>\n      <td>3</td>\n      <td>Café</td>\n      <td>Bakery</td>\n      <td>Italian Restaurant</td>\n      <td>Pub</td>\n      <td>Grocery Store</td>\n      <td>Cheese Shop</td>\n      <td>Clothing Store</td>\n      <td>Japanese Restaurant</td>\n      <td>Creperie</td>\n      <td>Fried Chicken Joint</td>\n    </tr>\n    <tr>\n      <th>480</th>\n      <td>PEMULWUY</td>\n      <td>2145</td>\n      <td>-33.821944</td>\n      <td>150.923752</td>\n      <td>42</td>\n      <td>5013</td>\n      <td>adult</td>\n      <td>29</td>\n      <td>3</td>\n      <td>Gym</td>\n      <td>Café</td>\n      <td>Yoga Studio</td>\n      <td>Egyptian Restaurant</td>\n      <td>Event Service</td>\n      <td>Event Space</td>\n      <td>Falafel Restaurant</td>\n      <td>Farm</td>\n      <td>Farmers Market</td>\n      <td>Fast Food Restaurant</td>\n    </tr>\n    <tr>\n      <th>506</th>\n      <td>QUEENS PARK</td>\n      <td>2022</td>\n      <td>-33.903188</td>\n      <td>151.247205</td>\n      <td>37</td>\n      <td>3065</td>\n      <td>mid-age</td>\n      <td>49</td>\n      <td>3</td>\n      <td>Café</td>\n      <td>Japanese Restaurant</td>\n      <td>Yoga Studio</td>\n      <td>Egyptian Restaurant</td>\n      <td>Event Service</td>\n      <td>Event Space</td>\n      <td>Falafel Restaurant</td>\n      <td>Farm</td>\n      <td>Farmers Market</td>\n      <td>Fast Food Restaurant</td>\n    </tr>\n    <tr>\n      <th>590</th>\n      <td>TAMARAMA</td>\n      <td>2026</td>\n      <td>-33.897439</td>\n      <td>151.271839</td>\n      <td>113</td>\n      <td>1627</td>\n      <td>adult</td>\n      <td>29</td>\n      <td>3</td>\n      <td>Café</td>\n      <td>Italian Restaurant</td>\n      <td>Australian Restaurant</td>\n      <td>Beach</td>\n      <td>Scenic Lookout</td>\n      <td>Restaurant</td>\n      <td>Beach Bar</td>\n      <td>Bakery</td>\n      <td>Tapas Restaurant</td>\n      <td>Pub</td>\n    </tr>\n  </tbody>\n</table>\n</div>"
     },
     "metadata": {},
     "execution_count": 44
    }
   ],
   "source": [
    "vital_suburb = sydney_merged[(sydney_merged['Cluster Labels'] == 3) &(sydney_merged['total_patient'] > 30)]\n",
    "vital_suburb"
   ]
  },
  {
   "cell_type": "markdown",
   "metadata": {},
   "source": [
    "#I narrow down the range of research from cluster 3 to only 7 vital suburbs. I'm going to check the composition of restaurants in these 7 suburbs. "
   ]
  },
  {
   "cell_type": "code",
   "execution_count": 46,
   "metadata": {},
   "outputs": [],
   "source": [
    "SGS = sydney_onehot.groupby('Suburb').sum().reset_index()\n",
    "restaurant = SGS.loc[SGS['Suburb'].isin(list(vital_suburb['suburb'].str.upper()))]\n",
    "#focus on restaurant\n",
    "restaurant = restaurant.loc[:, restaurant.columns.str.contains('Restaurant')]\n",
    "restaurant['suburb'] = SGS['Suburb']"
   ]
  },
  {
   "cell_type": "code",
   "execution_count": 47,
   "metadata": {},
   "outputs": [
    {
     "output_type": "execute_result",
     "data": {
      "text/plain": "          suburb  Afghan Restaurant  African Restaurant  American Restaurant  \\\n63   BONDI BEACH                  0                   0                    0   \n215    GIRRAWEEN                  0                   0                    0   \n314     LLANDILO                  0                   0                    0   \n360       MOSMAN                  0                   0                    0   \n415     PEMULWUY                  0                   0                    0   \n439  QUEENS PARK                  0                   0                    0   \n510     TAMARAMA                  0                   0                    1   \n\n     Arepa Restaurant  Argentinian Restaurant  Asian Restaurant  \\\n63                  0                       0                 0   \n215                 0                       0                 0   \n314                 0                       0                 0   \n360                 0                       0                 0   \n415                 0                       0                 0   \n439                 0                       0                 0   \n510                 0                       0                 0   \n\n     Australian Restaurant  Austrian Restaurant  Beijing Restaurant  ...  \\\n63                       3                    0                   0  ...   \n215                      0                    0                   0  ...   \n314                      0                    0                   0  ...   \n360                      0                    0                   0  ...   \n415                      0                    0                   0  ...   \n439                      0                    0                   0  ...   \n510                      2                    0                   0  ...   \n\n     Sushi Restaurant  Syrian Restaurant  Szechuan Restaurant  \\\n63                  0                  0                    0   \n215                 0                  0                    0   \n314                 0                  0                    0   \n360                 0                  0                    0   \n415                 0                  0                    0   \n439                 0                  0                    0   \n510                 0                  0                    0   \n\n     Taiwanese Restaurant  Tapas Restaurant  Thai Restaurant  \\\n63                      0                 0                1   \n215                     0                 0                0   \n314                     0                 0                0   \n360                     0                 0                0   \n415                     0                 0                0   \n439                     0                 0                0   \n510                     0                 1                0   \n\n     Turkish Restaurant  Udon Restaurant  Vegetarian / Vegan Restaurant  \\\n63                    0                0                              1   \n215                   0                0                              0   \n314                   0                0                              0   \n360                   0                0                              0   \n415                   0                0                              0   \n439                   0                0                              0   \n510                   0                0                              1   \n\n     Vietnamese Restaurant  \n63                       0  \n215                      0  \n314                      0  \n360                      0  \n415                      0  \n439                      0  \n510                      0  \n\n[7 rows x 70 columns]",
      "text/html": "<div>\n<style scoped>\n    .dataframe tbody tr th:only-of-type {\n        vertical-align: middle;\n    }\n\n    .dataframe tbody tr th {\n        vertical-align: top;\n    }\n\n    .dataframe thead th {\n        text-align: right;\n    }\n</style>\n<table border=\"1\" class=\"dataframe\">\n  <thead>\n    <tr style=\"text-align: right;\">\n      <th></th>\n      <th>suburb</th>\n      <th>Afghan Restaurant</th>\n      <th>African Restaurant</th>\n      <th>American Restaurant</th>\n      <th>Arepa Restaurant</th>\n      <th>Argentinian Restaurant</th>\n      <th>Asian Restaurant</th>\n      <th>Australian Restaurant</th>\n      <th>Austrian Restaurant</th>\n      <th>Beijing Restaurant</th>\n      <th>...</th>\n      <th>Sushi Restaurant</th>\n      <th>Syrian Restaurant</th>\n      <th>Szechuan Restaurant</th>\n      <th>Taiwanese Restaurant</th>\n      <th>Tapas Restaurant</th>\n      <th>Thai Restaurant</th>\n      <th>Turkish Restaurant</th>\n      <th>Udon Restaurant</th>\n      <th>Vegetarian / Vegan Restaurant</th>\n      <th>Vietnamese Restaurant</th>\n    </tr>\n  </thead>\n  <tbody>\n    <tr>\n      <th>63</th>\n      <td>BONDI BEACH</td>\n      <td>0</td>\n      <td>0</td>\n      <td>0</td>\n      <td>0</td>\n      <td>0</td>\n      <td>0</td>\n      <td>3</td>\n      <td>0</td>\n      <td>0</td>\n      <td>...</td>\n      <td>0</td>\n      <td>0</td>\n      <td>0</td>\n      <td>0</td>\n      <td>0</td>\n      <td>1</td>\n      <td>0</td>\n      <td>0</td>\n      <td>1</td>\n      <td>0</td>\n    </tr>\n    <tr>\n      <th>215</th>\n      <td>GIRRAWEEN</td>\n      <td>0</td>\n      <td>0</td>\n      <td>0</td>\n      <td>0</td>\n      <td>0</td>\n      <td>0</td>\n      <td>0</td>\n      <td>0</td>\n      <td>0</td>\n      <td>...</td>\n      <td>0</td>\n      <td>0</td>\n      <td>0</td>\n      <td>0</td>\n      <td>0</td>\n      <td>0</td>\n      <td>0</td>\n      <td>0</td>\n      <td>0</td>\n      <td>0</td>\n    </tr>\n    <tr>\n      <th>314</th>\n      <td>LLANDILO</td>\n      <td>0</td>\n      <td>0</td>\n      <td>0</td>\n      <td>0</td>\n      <td>0</td>\n      <td>0</td>\n      <td>0</td>\n      <td>0</td>\n      <td>0</td>\n      <td>...</td>\n      <td>0</td>\n      <td>0</td>\n      <td>0</td>\n      <td>0</td>\n      <td>0</td>\n      <td>0</td>\n      <td>0</td>\n      <td>0</td>\n      <td>0</td>\n      <td>0</td>\n    </tr>\n    <tr>\n      <th>360</th>\n      <td>MOSMAN</td>\n      <td>0</td>\n      <td>0</td>\n      <td>0</td>\n      <td>0</td>\n      <td>0</td>\n      <td>0</td>\n      <td>0</td>\n      <td>0</td>\n      <td>0</td>\n      <td>...</td>\n      <td>0</td>\n      <td>0</td>\n      <td>0</td>\n      <td>0</td>\n      <td>0</td>\n      <td>0</td>\n      <td>0</td>\n      <td>0</td>\n      <td>0</td>\n      <td>0</td>\n    </tr>\n    <tr>\n      <th>415</th>\n      <td>PEMULWUY</td>\n      <td>0</td>\n      <td>0</td>\n      <td>0</td>\n      <td>0</td>\n      <td>0</td>\n      <td>0</td>\n      <td>0</td>\n      <td>0</td>\n      <td>0</td>\n      <td>...</td>\n      <td>0</td>\n      <td>0</td>\n      <td>0</td>\n      <td>0</td>\n      <td>0</td>\n      <td>0</td>\n      <td>0</td>\n      <td>0</td>\n      <td>0</td>\n      <td>0</td>\n    </tr>\n    <tr>\n      <th>439</th>\n      <td>QUEENS PARK</td>\n      <td>0</td>\n      <td>0</td>\n      <td>0</td>\n      <td>0</td>\n      <td>0</td>\n      <td>0</td>\n      <td>0</td>\n      <td>0</td>\n      <td>0</td>\n      <td>...</td>\n      <td>0</td>\n      <td>0</td>\n      <td>0</td>\n      <td>0</td>\n      <td>0</td>\n      <td>0</td>\n      <td>0</td>\n      <td>0</td>\n      <td>0</td>\n      <td>0</td>\n    </tr>\n    <tr>\n      <th>510</th>\n      <td>TAMARAMA</td>\n      <td>0</td>\n      <td>0</td>\n      <td>1</td>\n      <td>0</td>\n      <td>0</td>\n      <td>0</td>\n      <td>2</td>\n      <td>0</td>\n      <td>0</td>\n      <td>...</td>\n      <td>0</td>\n      <td>0</td>\n      <td>0</td>\n      <td>0</td>\n      <td>1</td>\n      <td>0</td>\n      <td>0</td>\n      <td>0</td>\n      <td>1</td>\n      <td>0</td>\n    </tr>\n  </tbody>\n</table>\n<p>7 rows × 70 columns</p>\n</div>"
     },
     "metadata": {},
     "execution_count": 47
    }
   ],
   "source": [
    "#change the order of columns to get better view\n",
    "fixed_columns = [restaurant.columns[-1]] + list(restaurant.columns[:-1])\n",
    "restaurant = restaurant[fixed_columns]\n",
    "restaurant"
   ]
  },
  {
   "cell_type": "code",
   "execution_count": 48,
   "metadata": {
    "tags": []
   },
   "outputs": [
    {
     "output_type": "stream",
     "name": "stdout",
     "text": "----BONDI BEACH----\nItalian Restaurant               3\nAustralian Restaurant            3\nRestaurant                       2\nVegetarian / Vegan Restaurant    1\nThai Restaurant                  1\nMiddle Eastern Restaurant        1\nVietnamese Restaurant            0\nGerman Restaurant                0\nFalafel Restaurant               0\nFast Food Restaurant             0\nName: 63, dtype: object\n\n\n----GIRRAWEEN----\nVietnamese Restaurant      0\nGreek Restaurant           0\nEgyptian Restaurant        0\nFalafel Restaurant         0\nFast Food Restaurant       0\nFilipino Restaurant        0\nFrench Restaurant          0\nGerman Restaurant          0\nGrilled Meat Restaurant    0\nItalian Restaurant         0\nName: 215, dtype: object\n\n\n----LLANDILO----\nVietnamese Restaurant      0\nGreek Restaurant           0\nEgyptian Restaurant        0\nFalafel Restaurant         0\nFast Food Restaurant       0\nFilipino Restaurant        0\nFrench Restaurant          0\nGerman Restaurant          0\nGrilled Meat Restaurant    0\nItalian Restaurant         0\nName: 314, dtype: object\n\n\n----MOSMAN----\nItalian Restaurant         2\nJapanese Restaurant        1\nGreek Restaurant           0\nEgyptian Restaurant        0\nFalafel Restaurant         0\nFast Food Restaurant       0\nFilipino Restaurant        0\nFrench Restaurant          0\nGerman Restaurant          0\nGrilled Meat Restaurant    0\nName: 360, dtype: object\n\n\n----PEMULWUY----\nVietnamese Restaurant      0\nGreek Restaurant           0\nEgyptian Restaurant        0\nFalafel Restaurant         0\nFast Food Restaurant       0\nFilipino Restaurant        0\nFrench Restaurant          0\nGerman Restaurant          0\nGrilled Meat Restaurant    0\nItalian Restaurant         0\nName: 415, dtype: object\n\n\n----QUEENS PARK----\nJapanese Restaurant        1\nGreek Restaurant           0\nEgyptian Restaurant        0\nFalafel Restaurant         0\nFast Food Restaurant       0\nFilipino Restaurant        0\nFrench Restaurant          0\nGerman Restaurant          0\nGrilled Meat Restaurant    0\nItalian Restaurant         0\nName: 439, dtype: object\n\n\n----TAMARAMA----\nItalian Restaurant               3\nAustralian Restaurant            2\nJapanese Restaurant              1\nAmerican Restaurant              1\nVegetarian / Vegan Restaurant    1\nTapas Restaurant                 1\nRestaurant                       1\nMiddle Eastern Restaurant        1\nGerman Restaurant                0\nFast Food Restaurant             0\nName: 510, dtype: object\n\n\n"
    }
   ],
   "source": [
    "#Find the top 10 common types of restauarant within these vital suburbs\n",
    "for index in list(restaurant.index):\n",
    "    print(\"----\"+restaurant.loc[index, :][0]+\"----\")\n",
    "    print(restaurant.loc[index, :][1:].sort_values(ascending=False).head(10))\n",
    "    print('\\n')"
   ]
  },
  {
   "cell_type": "code",
   "execution_count": null,
   "metadata": {},
   "outputs": [],
   "source": [
    "#The result suggest that suburb Girraween, Llandilo, and Pemulwuy have no restaurant. Suburb Mosman and Queens park only have a few. By manually checking the data, I found that the most common venue for these five suburbs are cafe. "
   ]
  },
  {
   "cell_type": "markdown",
   "metadata": {},
   "source": [
    "#Conclusion"
   ]
  },
  {
   "cell_type": "code",
   "execution_count": null,
   "metadata": {},
   "outputs": [],
   "source": [
    "#In this project, I obtained the coordinates, demographic data, and the number of patients of COVID-19 from all NSW state government, domain.com, and other network sources. Through the Foursquare API to obtain the restaurant information of each suburb. Through K-means cluster analysis, I screened the collected information. The screening results show that there are a large number of restaurants in Bondi and Tamarama, and there are many COVID-19 patients. The number of restaurants and the population of the region mean that there are more potential promotion goods customers. In these areas, if there are COVID-19 patients higher than those in other areas, it will stimulate merchants to buy more promotion goods related to epidemic prevention after Sydney releases lockdown.\n",
    "\n",
    "#I hope this project can help everyone who reads this project, let them prepare sterilize goods when going to Bondi and Tamarama for dinner."
   ]
  }
 ],
 "metadata": {
  "language_info": {
   "codemirror_mode": {
    "name": "ipython",
    "version": 3
   },
   "file_extension": ".py",
   "mimetype": "text/x-python",
   "name": "python",
   "nbconvert_exporter": "python",
   "pygments_lexer": "ipython3",
   "version": "3.7.4-final"
  },
  "orig_nbformat": 2,
  "kernelspec": {
   "name": "python37464bit40974756599342c7a39b9c63c164c2f4",
   "display_name": "Python 3.7.4 64-bit"
  }
 },
 "nbformat": 4,
 "nbformat_minor": 2
}